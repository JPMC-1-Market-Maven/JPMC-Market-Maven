{
 "cells": [
  {
   "cell_type": "markdown",
   "metadata": {
    "id": "Fqgx_jP9-K0p"
   },
   "source": [
    "# Importing Packages and Loading in the Training Data"
   ]
  },
  {
   "cell_type": "code",
   "execution_count": 1,
   "metadata": {
    "colab": {
     "base_uri": "https://localhost:8080/",
     "height": 226
    },
    "id": "kQqedANqFNvm",
    "outputId": "81aa3ece-b4c8-4a2f-e9b7-2890f9baef27"
   },
   "outputs": [
    {
     "name": "stderr",
     "output_type": "stream",
     "text": [
      "2024-12-01 15:21:36.189729: I tensorflow/core/platform/cpu_feature_guard.cc:210] This TensorFlow binary is optimized to use available CPU instructions in performance-critical operations.\n",
      "To enable the following instructions: AVX2 FMA, in other operations, rebuild TensorFlow with the appropriate compiler flags.\n"
     ]
    },
    {
     "data": {
      "text/html": [
       "<div>\n",
       "<style scoped>\n",
       "    .dataframe tbody tr th:only-of-type {\n",
       "        vertical-align: middle;\n",
       "    }\n",
       "\n",
       "    .dataframe tbody tr th {\n",
       "        vertical-align: top;\n",
       "    }\n",
       "\n",
       "    .dataframe thead th {\n",
       "        text-align: right;\n",
       "    }\n",
       "</style>\n",
       "<table border=\"1\" class=\"dataframe\">\n",
       "  <thead>\n",
       "    <tr style=\"text-align: right;\">\n",
       "      <th></th>\n",
       "      <th>stock_id</th>\n",
       "      <th>date_id</th>\n",
       "      <th>seconds_in_bucket</th>\n",
       "      <th>imbalance_size</th>\n",
       "      <th>imbalance_buy_sell_flag</th>\n",
       "      <th>reference_price</th>\n",
       "      <th>matched_size</th>\n",
       "      <th>far_price</th>\n",
       "      <th>near_price</th>\n",
       "      <th>bid_price</th>\n",
       "      <th>bid_size</th>\n",
       "      <th>ask_price</th>\n",
       "      <th>ask_size</th>\n",
       "      <th>wap</th>\n",
       "      <th>target</th>\n",
       "      <th>time_id</th>\n",
       "      <th>row_id</th>\n",
       "    </tr>\n",
       "  </thead>\n",
       "  <tbody>\n",
       "    <tr>\n",
       "      <th>0</th>\n",
       "      <td>0</td>\n",
       "      <td>0</td>\n",
       "      <td>0</td>\n",
       "      <td>3180602.69</td>\n",
       "      <td>1</td>\n",
       "      <td>0.999812</td>\n",
       "      <td>13380276.64</td>\n",
       "      <td>NaN</td>\n",
       "      <td>NaN</td>\n",
       "      <td>0.999812</td>\n",
       "      <td>60651.50</td>\n",
       "      <td>1.000026</td>\n",
       "      <td>8493.03</td>\n",
       "      <td>1.0</td>\n",
       "      <td>-3.029704</td>\n",
       "      <td>0</td>\n",
       "      <td>0_0_0</td>\n",
       "    </tr>\n",
       "    <tr>\n",
       "      <th>1</th>\n",
       "      <td>1</td>\n",
       "      <td>0</td>\n",
       "      <td>0</td>\n",
       "      <td>166603.91</td>\n",
       "      <td>-1</td>\n",
       "      <td>0.999896</td>\n",
       "      <td>1642214.25</td>\n",
       "      <td>NaN</td>\n",
       "      <td>NaN</td>\n",
       "      <td>0.999896</td>\n",
       "      <td>3233.04</td>\n",
       "      <td>1.000660</td>\n",
       "      <td>20605.09</td>\n",
       "      <td>1.0</td>\n",
       "      <td>-5.519986</td>\n",
       "      <td>0</td>\n",
       "      <td>0_0_1</td>\n",
       "    </tr>\n",
       "    <tr>\n",
       "      <th>2</th>\n",
       "      <td>2</td>\n",
       "      <td>0</td>\n",
       "      <td>0</td>\n",
       "      <td>302879.87</td>\n",
       "      <td>-1</td>\n",
       "      <td>0.999561</td>\n",
       "      <td>1819368.03</td>\n",
       "      <td>NaN</td>\n",
       "      <td>NaN</td>\n",
       "      <td>0.999403</td>\n",
       "      <td>37956.00</td>\n",
       "      <td>1.000298</td>\n",
       "      <td>18995.00</td>\n",
       "      <td>1.0</td>\n",
       "      <td>-8.389950</td>\n",
       "      <td>0</td>\n",
       "      <td>0_0_2</td>\n",
       "    </tr>\n",
       "    <tr>\n",
       "      <th>3</th>\n",
       "      <td>3</td>\n",
       "      <td>0</td>\n",
       "      <td>0</td>\n",
       "      <td>11917682.27</td>\n",
       "      <td>-1</td>\n",
       "      <td>1.000171</td>\n",
       "      <td>18389745.62</td>\n",
       "      <td>NaN</td>\n",
       "      <td>NaN</td>\n",
       "      <td>0.999999</td>\n",
       "      <td>2324.90</td>\n",
       "      <td>1.000214</td>\n",
       "      <td>479032.40</td>\n",
       "      <td>1.0</td>\n",
       "      <td>-4.010200</td>\n",
       "      <td>0</td>\n",
       "      <td>0_0_3</td>\n",
       "    </tr>\n",
       "    <tr>\n",
       "      <th>4</th>\n",
       "      <td>4</td>\n",
       "      <td>0</td>\n",
       "      <td>0</td>\n",
       "      <td>447549.96</td>\n",
       "      <td>-1</td>\n",
       "      <td>0.999532</td>\n",
       "      <td>17860614.95</td>\n",
       "      <td>NaN</td>\n",
       "      <td>NaN</td>\n",
       "      <td>0.999394</td>\n",
       "      <td>16485.54</td>\n",
       "      <td>1.000016</td>\n",
       "      <td>434.10</td>\n",
       "      <td>1.0</td>\n",
       "      <td>-7.349849</td>\n",
       "      <td>0</td>\n",
       "      <td>0_0_4</td>\n",
       "    </tr>\n",
       "  </tbody>\n",
       "</table>\n",
       "</div>"
      ],
      "text/plain": [
       "   stock_id  date_id  seconds_in_bucket  imbalance_size  \\\n",
       "0         0        0                  0      3180602.69   \n",
       "1         1        0                  0       166603.91   \n",
       "2         2        0                  0       302879.87   \n",
       "3         3        0                  0     11917682.27   \n",
       "4         4        0                  0       447549.96   \n",
       "\n",
       "   imbalance_buy_sell_flag  reference_price  matched_size  far_price  \\\n",
       "0                        1         0.999812   13380276.64        NaN   \n",
       "1                       -1         0.999896    1642214.25        NaN   \n",
       "2                       -1         0.999561    1819368.03        NaN   \n",
       "3                       -1         1.000171   18389745.62        NaN   \n",
       "4                       -1         0.999532   17860614.95        NaN   \n",
       "\n",
       "   near_price  bid_price  bid_size  ask_price   ask_size  wap    target  \\\n",
       "0         NaN   0.999812  60651.50   1.000026    8493.03  1.0 -3.029704   \n",
       "1         NaN   0.999896   3233.04   1.000660   20605.09  1.0 -5.519986   \n",
       "2         NaN   0.999403  37956.00   1.000298   18995.00  1.0 -8.389950   \n",
       "3         NaN   0.999999   2324.90   1.000214  479032.40  1.0 -4.010200   \n",
       "4         NaN   0.999394  16485.54   1.000016     434.10  1.0 -7.349849   \n",
       "\n",
       "   time_id row_id  \n",
       "0        0  0_0_0  \n",
       "1        0  0_0_1  \n",
       "2        0  0_0_2  \n",
       "3        0  0_0_3  \n",
       "4        0  0_0_4  "
      ]
     },
     "execution_count": 1,
     "metadata": {},
     "output_type": "execute_result"
    }
   ],
   "source": [
    "import pandas as pd\n",
    "import numpy as np\n",
    "from sklearn.preprocessing import MinMaxScaler\n",
    "from sklearn.model_selection import train_test_split\n",
    "from tensorflow.keras.models import Sequential\n",
    "from tensorflow.keras.layers import GRU, Dense, Dropout\n",
    "from sklearn.linear_model import LinearRegression\n",
    "from tensorflow.keras.optimizers import Adam\n",
    "import tensorflow as tf\n",
    "from sklearn.metrics import mean_absolute_error\n",
    "import random\n",
    "\n",
    "# Load the training data\n",
    "data = pd.read_csv('/Users/samhitha/Desktop/JPMC_Samhitha/train.csv')\n",
    "\n",
    "# Preview the first few rows of the dataset\n",
    "data.head()"
   ]
  },
  {
   "cell_type": "code",
   "execution_count": 2,
   "metadata": {
    "colab": {
     "base_uri": "https://localhost:8080/"
    },
    "id": "XghXJsAvHXB5",
    "outputId": "661ee2ff-cc47-4482-8ee3-52b0c3b7c96a"
   },
   "outputs": [
    {
     "data": {
      "text/plain": [
       "17"
      ]
     },
     "execution_count": 2,
     "metadata": {},
     "output_type": "execute_result"
    }
   ],
   "source": [
    "len(data.columns)"
   ]
  },
  {
   "cell_type": "code",
   "execution_count": 3,
   "metadata": {
    "colab": {
     "base_uri": "https://localhost:8080/"
    },
    "id": "pM5nG2vM9aW0",
    "outputId": "3620120e-41ac-4bd0-a895-5750dfa4b3c5"
   },
   "outputs": [
    {
     "name": "stdout",
     "output_type": "stream",
     "text": [
      "Memory Usage Before Optimization:\n",
      "974.2033262252808 MB\n",
      "\n",
      "Memory Usage After Optimization:\n",
      "599.5538015365601 MB\n"
     ]
    }
   ],
   "source": [
    "def reduce_memory_usage(df):\n",
    "    print(\"Memory Usage Before Optimization:\")\n",
    "    print(df.memory_usage(deep=True).sum() / (1024 ** 2), \"MB\")\n",
    "\n",
    "    # Iterate through each column in the DataFrame\n",
    "    for col in df.columns:\n",
    "        col_type = df[col].dtype\n",
    "\n",
    "        # Check if the column's data type is numeric\n",
    "        if col_type != object:\n",
    "            c_min = df[col].min()\n",
    "            c_max = df[col].max()\n",
    "\n",
    "            # Check if the column's data type is an integer\n",
    "            if str(col_type)[:3] == \"int\":\n",
    "                if c_min > np.iinfo(np.int8).min and c_max < np.iinfo(np.int8).max:\n",
    "                    df[col] = df[col].astype(np.int8)\n",
    "                elif c_min > np.iinfo(np.int16).min and c_max < np.iinfo(np.int16).max:\n",
    "                    df[col] = df[col].astype(np.int16)\n",
    "                elif c_min > np.iinfo(np.int32).min and c_max < np.iinfo(np.int32).max:\n",
    "                    df[col] = df[col].astype(np.int32)\n",
    "                elif c_min > np.iinfo(np.int64).min and c_max < np.iinfo(np.int64).max:\n",
    "                    df[col] = df[col].astype(np.int64)\n",
    "            else:\n",
    "                # Check if the column's data type is a float\n",
    "                if c_min > np.finfo(np.float16).min and c_max < np.finfo(np.float16).max:\n",
    "                    df[col] = df[col].astype(np.float32)\n",
    "                elif c_min > np.finfo(np.float32).min and c_max < np.finfo(np.float32).max:\n",
    "                    df[col] = df[col].astype(np.float32)\n",
    "                else:\n",
    "                    df[col] = df[col].astype(np.float32)\n",
    "\n",
    "    # Display the memory usage after optimization\n",
    "    print(\"\\nMemory Usage After Optimization:\")\n",
    "    print(df.memory_usage(deep=True).sum() / (1024 ** 2), \"MB\")\n",
    "    return df\n",
    "\n",
    "data = reduce_memory_usage(data)"
   ]
  },
  {
   "cell_type": "markdown",
   "metadata": {
    "id": "kDoeSZi1-Clv"
   },
   "source": [
    "# Rolling Average Method to deal with na Values\n"
   ]
  },
  {
   "cell_type": "code",
   "execution_count": 4,
   "metadata": {
    "colab": {
     "base_uri": "https://localhost:8080/"
    },
    "id": "_bNMfSNY-I61",
    "outputId": "e2ee280c-e7af-4d46-e7ef-05428f5443bf"
   },
   "outputs": [
    {
     "name": "stdout",
     "output_type": "stream",
     "text": [
      "stock_id                         0\n",
      "date_id                          0\n",
      "seconds_in_bucket                0\n",
      "imbalance_size                 220\n",
      "imbalance_buy_sell_flag          0\n",
      "reference_price                220\n",
      "matched_size                   220\n",
      "far_price                  2894342\n",
      "near_price                 2857180\n",
      "bid_price                      220\n",
      "bid_size                         0\n",
      "ask_price                      220\n",
      "ask_size                         0\n",
      "wap                            220\n",
      "target                          88\n",
      "time_id                          0\n",
      "row_id                           0\n",
      "dtype: int64\n"
     ]
    }
   ],
   "source": [
    "print(data.isnull().sum())"
   ]
  },
  {
   "cell_type": "code",
   "execution_count": 5,
   "metadata": {
    "id": "2Fugq6pC-SgH"
   },
   "outputs": [],
   "source": [
    " columns_with_missing_values = ['imbalance_size', 'reference_price', 'matched_size', 'far_price', 'near_price', 'bid_price', 'ask_price', 'wap', 'target']"
   ]
  },
  {
   "cell_type": "code",
   "execution_count": 6,
   "metadata": {
    "colab": {
     "base_uri": "https://localhost:8080/"
    },
    "id": "v15OfGSS-cn2",
    "outputId": "51070915-a278-4394-b408-148d27008d49"
   },
   "outputs": [
    {
     "data": {
      "text/plain": [
       "(369508, 369508, 369508)"
      ]
     },
     "execution_count": 6,
     "metadata": {},
     "output_type": "execute_result"
    }
   ],
   "source": [
    "# Checking if any columns start with missing values\n",
    "\n",
    "first_missing_index_imbalance_size = data['imbalance_size'].isnull().idxmax() if data['imbalance_size'].isnull().any() else None\n",
    "first_missing_index_reference_price = data['reference_price'].isnull().idxmax() if data['reference_price'].isnull().any() else None\n",
    "first_missing_index_matched_size = data['matched_size'].isnull().idxmax() if data['matched_size'].isnull().any() else None\n",
    "first_missing_index_far_price = data['far_price'].isnull().idxmax() if data['far_price'].isnull().any() else None\n",
    "first_missing_index_near_price = data['near_price'].isnull().idxmax() if data['near_price'].isnull().any() else None\n",
    "first_missing_index_bid_price = data['bid_price'].isnull().idxmax() if data['bid_price'].isnull().any() else None\n",
    "first_missing_index_ask_price = data['ask_price'].isnull().idxmax() if data['ask_price'].isnull().any() else None\n",
    "first_missing_index_wap = data['wap'].isnull().idxmax() if data['wap'].isnull().any() else None\n",
    "first_missing_index_target = data['target'].isnull().idxmax() if data['target'].isnull().any() else None\n",
    "\n",
    "\n",
    "first_missing_index_imbalance_size, first_missing_index_reference_price, first_missing_index_matched_size,\n",
    "first_missing_index_far_price, first_missing_index_near_price, first_missing_index_bid_price,\n",
    "first_missing_index_ask_price, first_missing_index_wap, first_missing_index_target"
   ]
  },
  {
   "cell_type": "code",
   "execution_count": 7,
   "metadata": {
    "id": "nerAG2N8-k3F"
   },
   "outputs": [],
   "source": [
    "window_size = 5 # Number of elements before current missing element to take an average of\n",
    "\n",
    "for col in columns_with_missing_values:\n",
    "    # Create rolling mean for the columns\n",
    "\n",
    "    data[col + '_rolling_mean'] = data[col].rolling(window = window_size, min_periods = 1).mean()\n",
    "\n",
    "    data[col] = data[col].fillna(data[col + '_rolling_mean']) # Fill missing values in the original column with the rolling average\n",
    "\n",
    "    data.drop(columns=[col + '_rolling_mean'], inplace=True) # Drop the temporary rolling mean column\n"
   ]
  },
  {
   "cell_type": "code",
   "execution_count": 8,
   "metadata": {
    "colab": {
     "base_uri": "https://localhost:8080/"
    },
    "id": "ne4jkgBk-m2u",
    "outputId": "07cc00ed-0662-44c7-dded-7dda726c6802"
   },
   "outputs": [
    {
     "data": {
      "text/plain": [
       "(Index([      0,       1,       2,       3,       4,       5,       6,       7,\n",
       "              8,       9,\n",
       "        ...\n",
       "        5232970, 5232971, 5232972, 5232973, 5232974, 5232975, 5232976, 5232977,\n",
       "        5232978, 5232979],\n",
       "       dtype='int64', length=2855173),\n",
       " Index([      0,       1,       2,       3,       4,       5,       6,       7,\n",
       "              8,       9,\n",
       "        ...\n",
       "        5232970, 5232971, 5232972, 5232973, 5232974, 5232975, 5232976, 5232977,\n",
       "        5232978, 5232979],\n",
       "       dtype='int64', length=2855160))"
      ]
     },
     "execution_count": 8,
     "metadata": {},
     "output_type": "execute_result"
    }
   ],
   "source": [
    "missing_indexes_far_price = data[data['far_price'].isnull()].index\n",
    "missing_indexes_near_price = data[data['near_price'].isnull()].index\n",
    "missing_indexes_far_price, missing_indexes_near_price"
   ]
  },
  {
   "cell_type": "code",
   "execution_count": 9,
   "metadata": {
    "colab": {
     "base_uri": "https://localhost:8080/"
    },
    "id": "cTl5k_KS-o6g",
    "outputId": "01f2c20d-4707-408f-b7ff-8d1e6236b5c6"
   },
   "outputs": [
    {
     "name": "stdout",
     "output_type": "stream",
     "text": [
      "stock_id                         0\n",
      "date_id                          0\n",
      "seconds_in_bucket                0\n",
      "imbalance_size                   0\n",
      "imbalance_buy_sell_flag          0\n",
      "reference_price                  0\n",
      "matched_size                     0\n",
      "far_price                  2855173\n",
      "near_price                 2855160\n",
      "bid_price                        0\n",
      "bid_size                         0\n",
      "ask_price                        0\n",
      "ask_size                         0\n",
      "wap                              0\n",
      "target                           0\n",
      "time_id                          0\n",
      "row_id                           0\n",
      "dtype: int64\n"
     ]
    }
   ],
   "source": [
    "print(data.isnull().sum())"
   ]
  },
  {
   "cell_type": "code",
   "execution_count": 10,
   "metadata": {
    "id": "GCuvJqsh-2sp"
   },
   "outputs": [],
   "source": [
    "numeric_columns = data.select_dtypes(include=['int64', 'float64'])\n",
    "numeric_columns_array = np.array(numeric_columns.columns)"
   ]
  },
  {
   "cell_type": "code",
   "execution_count": 11,
   "metadata": {
    "colab": {
     "base_uri": "https://localhost:8080/"
    },
    "id": "tkFsBd6S--Xl",
    "outputId": "1a0f9bb3-463b-4d6d-c54c-e04369fc9314"
   },
   "outputs": [
    {
     "name": "stdout",
     "output_type": "stream",
     "text": [
      "[0.01510273331283473, -0.0006998971027982864, 0.02611266611749764, 0.014119148900985746, 0.0144448452794857, 0.014424209401953625, -0.0017586263023219063] [0.47356739100586714, -0.0027251165518789784, 0.026112666117497643, 0.4583473297183285, 0.4603588146694518, 0.4625678010675636, 0.006031796438557871]\n"
     ]
    }
   ],
   "source": [
    "correlation_far_price = []\n",
    "correlation_near_price = []\n",
    "for i in range(1,len(numeric_columns.columns)):\n",
    "    if numeric_columns_array[i] != 'far_price':\n",
    "        correlation_far_price_value = numeric_columns['far_price'].corr(numeric_columns[numeric_columns_array[i]])\n",
    "        correlation_far_price.append(correlation_far_price_value)\n",
    "    if numeric_columns_array[i] != 'near_price':\n",
    "        correlation_near_price_value = numeric_columns['near_price'].corr(numeric_columns[numeric_columns_array[i]])\n",
    "        correlation_near_price.append(correlation_near_price_value)\n",
    "print(correlation_far_price, correlation_near_price)"
   ]
  },
  {
   "cell_type": "code",
   "execution_count": 12,
   "metadata": {
    "colab": {
     "base_uri": "https://localhost:8080/"
    },
    "id": "nY6VZtg2_AeY",
    "outputId": "06e68700-0460-4051-b0f1-79a7a8b95a45"
   },
   "outputs": [
    {
     "name": "stdout",
     "output_type": "stream",
     "text": [
      "Highest correlated column with far_price column is matched_size with value: 0.02611266611749764\n",
      "Highest correlated column with near_price column is imbalance_size with value: 0.47356739100586714\n"
     ]
    }
   ],
   "source": [
    "max_correlation_index_far_price = correlation_far_price.index(max(correlation_far_price))\n",
    "max_correlation_index_near_price = correlation_near_price.index(max(correlation_near_price))\n",
    "print('Highest correlated column with far_price column is',numeric_columns_array[max_correlation_index_far_price], 'with value:', max(correlation_far_price))\n",
    "print('Highest correlated column with near_price column is',numeric_columns_array[max_correlation_index_near_price], 'with value:', max(correlation_near_price))"
   ]
  },
  {
   "cell_type": "markdown",
   "metadata": {
    "id": "E1uqOlKo_FNQ"
   },
   "source": [
    "far_price correlation with matched_size\n",
    "near_price correlation with imbalance_size"
   ]
  },
  {
   "cell_type": "code",
   "execution_count": 13,
   "metadata": {
    "colab": {
     "base_uri": "https://localhost:8080/"
    },
    "id": "BBTAZil2_BBB",
    "outputId": "fffee6d7-c2d5-4eea-e235-519a9b81f1c7"
   },
   "outputs": [
    {
     "name": "stdout",
     "output_type": "stream",
     "text": [
      "imbalance_size             0\n",
      "matched_size               0\n",
      "stock_id                   0\n",
      "date_id                    0\n",
      "seconds_in_bucket          0\n",
      "imbalance_buy_sell_flag    0\n",
      "reference_price            0\n",
      "far_price                  0\n",
      "near_price                 0\n",
      "bid_price                  0\n",
      "bid_size                   0\n",
      "ask_price                  0\n",
      "ask_size                   0\n",
      "wap                        0\n",
      "target                     0\n",
      "time_id                    0\n",
      "row_id                     0\n",
      "dtype: int64\n"
     ]
    }
   ],
   "source": [
    "data.set_index('matched_size', inplace=True)\n",
    "data['far_price'] = data['far_price'].interpolate(method='linear', limit_direction='both')\n",
    "data.reset_index(inplace=True)\n",
    "\n",
    "data.set_index('imbalance_size', inplace=True)\n",
    "data['near_price'] = data['near_price'].interpolate(method='linear', limit_direction='both')\n",
    "data.reset_index(inplace=True)\n",
    "\n",
    "print(data.isnull().sum()) #should be 0 if all missing elements have been handled"
   ]
  },
  {
   "cell_type": "markdown",
   "metadata": {
    "id": "Po_b_3I0GKlY"
   },
   "source": [
    "# Creating New Features"
   ]
  },
  {
   "cell_type": "code",
   "execution_count": 14,
   "metadata": {
    "id": "-Dj3I3A1DqFd"
   },
   "outputs": [],
   "source": [
    "data['bid_ref_price_diff'] = data['bid_price'] - data['reference_price']\n",
    "data['bid_ref_price_ratio'] = data['bid_price'] / data['reference_price']\n",
    "data['ref_price_ma_5'] = data['reference_price'].rolling(window=5).mean()\n",
    "data['price_momentum'] = data['reference_price'].diff()\n",
    "data['volume_weighted_price'] = (data['reference_price'] * data['matched_size']) / data['matched_size'].sum()\n",
    "data['bid_size_volume_ratio'] = data['bid_size'] / data['matched_size']\n",
    "data['imbalance_volume_interaction'] = data['imbalance_size'] * data['matched_size']\n",
    "data['day_of_week'] = data['date_id'] % 7\n",
    "data['hour_of_day'] = (data['seconds_in_bucket'] // 3600) % 24\n",
    "data['price_volatility'] = data['reference_price'].rolling(window=5).std()"
   ]
  },
  {
   "cell_type": "code",
   "execution_count": 15,
   "metadata": {
    "colab": {
     "base_uri": "https://localhost:8080/"
    },
    "id": "0zKgWqZyDqi6",
    "outputId": "768e3cba-1703-49ca-9178-d16301186985"
   },
   "outputs": [
    {
     "name": "stdout",
     "output_type": "stream",
     "text": [
      "imbalance_size                  0\n",
      "matched_size                    0\n",
      "stock_id                        0\n",
      "date_id                         0\n",
      "seconds_in_bucket               0\n",
      "imbalance_buy_sell_flag         0\n",
      "reference_price                 0\n",
      "far_price                       0\n",
      "near_price                      0\n",
      "bid_price                       0\n",
      "bid_size                        0\n",
      "ask_price                       0\n",
      "ask_size                        0\n",
      "wap                             0\n",
      "target                          0\n",
      "time_id                         0\n",
      "row_id                          0\n",
      "bid_ref_price_diff              0\n",
      "bid_ref_price_ratio             0\n",
      "ref_price_ma_5                  4\n",
      "price_momentum                  1\n",
      "volume_weighted_price           0\n",
      "bid_size_volume_ratio           0\n",
      "imbalance_volume_interaction    0\n",
      "day_of_week                     0\n",
      "hour_of_day                     0\n",
      "price_volatility                4\n",
      "dtype: int64\n"
     ]
    }
   ],
   "source": [
    "print(data.isnull().sum())"
   ]
  },
  {
   "cell_type": "code",
   "execution_count": 16,
   "metadata": {
    "id": "05zQghn1D0DT"
   },
   "outputs": [],
   "source": [
    "new_columns_with_missing_values = ['ref_price_ma_5', 'price_momentum', 'price_volatility']"
   ]
  },
  {
   "cell_type": "code",
   "execution_count": 17,
   "metadata": {
    "colab": {
     "base_uri": "https://localhost:8080/"
    },
    "id": "H4AOTdZ-D22f",
    "outputId": "e91139dc-6534-4196-f5c4-a73701af1055"
   },
   "outputs": [
    {
     "data": {
      "text/plain": [
       "(0, 0, 0)"
      ]
     },
     "execution_count": 17,
     "metadata": {},
     "output_type": "execute_result"
    }
   ],
   "source": [
    "# Checking if any columns start with missing values\n",
    "\n",
    "first_missing_index_ref_price_ma_5 = data['ref_price_ma_5'].isnull().idxmax() if data['ref_price_ma_5'].isnull().any() else None\n",
    "first_missing_index_price_momentum = data['price_momentum'].isnull().idxmax() if data['price_momentum'].isnull().any() else None\n",
    "first_missing_index_price_volatility = data['price_volatility'].isnull().idxmax() if data['price_volatility'].isnull().any() else None\n",
    "\n",
    "\n",
    "first_missing_index_ref_price_ma_5, first_missing_index_price_momentum, first_missing_index_price_volatility"
   ]
  },
  {
   "cell_type": "code",
   "execution_count": 18,
   "metadata": {
    "id": "ruClX8D3E5hn"
   },
   "outputs": [],
   "source": [
    "new_columns_with_missing_values = data[['ref_price_ma_5', 'price_momentum', 'price_volatility']].interpolate(method='linear', limit_direction='forward')"
   ]
  },
  {
   "cell_type": "code",
   "execution_count": 19,
   "metadata": {
    "id": "Q1QW1AzDFgtg"
   },
   "outputs": [],
   "source": [
    "for col in new_columns_with_missing_values:\n",
    "    data[col] = data[col].fillna(-1) # Using backward fill"
   ]
  },
  {
   "cell_type": "code",
   "execution_count": 20,
   "metadata": {
    "colab": {
     "base_uri": "https://localhost:8080/"
    },
    "id": "zVV6YbwtFvAE",
    "outputId": "b6b0b970-d653-4ab3-cb93-14aa201a47a0"
   },
   "outputs": [
    {
     "name": "stdout",
     "output_type": "stream",
     "text": [
      "imbalance_size                  0\n",
      "matched_size                    0\n",
      "stock_id                        0\n",
      "date_id                         0\n",
      "seconds_in_bucket               0\n",
      "imbalance_buy_sell_flag         0\n",
      "reference_price                 0\n",
      "far_price                       0\n",
      "near_price                      0\n",
      "bid_price                       0\n",
      "bid_size                        0\n",
      "ask_price                       0\n",
      "ask_size                        0\n",
      "wap                             0\n",
      "target                          0\n",
      "time_id                         0\n",
      "row_id                          0\n",
      "bid_ref_price_diff              0\n",
      "bid_ref_price_ratio             0\n",
      "ref_price_ma_5                  0\n",
      "price_momentum                  0\n",
      "volume_weighted_price           0\n",
      "bid_size_volume_ratio           0\n",
      "imbalance_volume_interaction    0\n",
      "day_of_week                     0\n",
      "hour_of_day                     0\n",
      "price_volatility                0\n",
      "dtype: int64\n"
     ]
    }
   ],
   "source": [
    "print(data.isnull().sum())"
   ]
  },
  {
   "cell_type": "code",
   "execution_count": 21,
   "metadata": {},
   "outputs": [],
   "source": [
    "seed_value = 42\n",
    "np.random.seed(seed_value)\n",
    "tf.random.set_seed(seed_value)\n",
    "random.seed(seed_value)"
   ]
  },
  {
   "cell_type": "code",
   "execution_count": 22,
   "metadata": {
    "id": "YvfZ6-vFF_1R"
   },
   "outputs": [],
   "source": [
    "features = ['imbalance_size', 'imbalance_buy_sell_flag', 'reference_price', 'matched_size',\n",
    "            'far_price', 'near_price', 'bid_price', 'bid_size', 'ask_price', 'ask_size',\n",
    "            'wap', 'bid_ref_price_diff', 'bid_ref_price_ratio', 'ref_price_ma_5',\n",
    "            'price_momentum', 'volume_weighted_price', 'bid_size_volume_ratio',\n",
    "            'imbalance_volume_interaction', 'day_of_week', 'hour_of_day', 'price_volatility']\n",
    "target_column = 'target'"
   ]
  },
  {
   "cell_type": "code",
   "execution_count": 23,
   "metadata": {},
   "outputs": [],
   "source": [
    "X = data[features].values\n",
    "y = data[target_column].values.reshape(-1, 1)"
   ]
  },
  {
   "cell_type": "code",
   "execution_count": 24,
   "metadata": {},
   "outputs": [],
   "source": [
    "scaler_X = MinMaxScaler()\n",
    "scaler_y = MinMaxScaler()"
   ]
  },
  {
   "cell_type": "code",
   "execution_count": 25,
   "metadata": {},
   "outputs": [],
   "source": [
    "X_scaled = scaler_X.fit_transform(X)\n",
    "y_scaled = scaler_y.fit_transform(y)"
   ]
  },
  {
   "cell_type": "code",
   "execution_count": 26,
   "metadata": {},
   "outputs": [],
   "source": [
    "from tensorflow.keras.preprocessing.sequence import TimeseriesGenerator\n",
    "\n",
    "time_step = 55  # Number of previous time steps to use\n",
    "batch_size = 64  # Batch size for training\n",
    "\n",
    "# Create time-series generators for training and testing\n",
    "split_index = int(len(X_scaled) * 0.75)\n",
    "X_train, X_test = X_scaled[:split_index], X_scaled[split_index:]\n",
    "y_train, y_test = y_scaled[:split_index], y_scaled[split_index:]\n",
    "\n",
    "# Training and validation generators\n",
    "train_generator = TimeseriesGenerator(X_train, y_train, length=time_step, batch_size=batch_size)\n",
    "test_generator = TimeseriesGenerator(X_test, y_test, length=time_step, batch_size=batch_size)"
   ]
  },
  {
   "cell_type": "code",
   "execution_count": 27,
   "metadata": {},
   "outputs": [
    {
     "name": "stderr",
     "output_type": "stream",
     "text": [
      "/Library/Frameworks/Python.framework/Versions/3.11/lib/python3.11/site-packages/keras/src/layers/rnn/rnn.py:204: UserWarning: Do not pass an `input_shape`/`input_dim` argument to a layer. When using Sequential models, prefer using an `Input(shape)` object as the first layer in the model instead.\n",
      "  super().__init__(**kwargs)\n"
     ]
    },
    {
     "data": {
      "text/html": [
       "<pre style=\"white-space:pre;overflow-x:auto;line-height:normal;font-family:Menlo,'DejaVu Sans Mono',consolas,'Courier New',monospace\"><span style=\"font-weight: bold\">Model: \"sequential\"</span>\n",
       "</pre>\n"
      ],
      "text/plain": [
       "\u001b[1mModel: \"sequential\"\u001b[0m\n"
      ]
     },
     "metadata": {},
     "output_type": "display_data"
    },
    {
     "data": {
      "text/html": [
       "<pre style=\"white-space:pre;overflow-x:auto;line-height:normal;font-family:Menlo,'DejaVu Sans Mono',consolas,'Courier New',monospace\">┏━━━━━━━━━━━━━━━━━━━━━━━━━━━━━━━━━┳━━━━━━━━━━━━━━━━━━━━━━━━┳━━━━━━━━━━━━━━━┓\n",
       "┃<span style=\"font-weight: bold\"> Layer (type)                    </span>┃<span style=\"font-weight: bold\"> Output Shape           </span>┃<span style=\"font-weight: bold\">       Param # </span>┃\n",
       "┡━━━━━━━━━━━━━━━━━━━━━━━━━━━━━━━━━╇━━━━━━━━━━━━━━━━━━━━━━━━╇━━━━━━━━━━━━━━━┩\n",
       "│ gru (<span style=\"color: #0087ff; text-decoration-color: #0087ff\">GRU</span>)                       │ (<span style=\"color: #00d7ff; text-decoration-color: #00d7ff\">None</span>, <span style=\"color: #00af00; text-decoration-color: #00af00\">55</span>, <span style=\"color: #00af00; text-decoration-color: #00af00\">128</span>)        │        <span style=\"color: #00af00; text-decoration-color: #00af00\">57,984</span> │\n",
       "├─────────────────────────────────┼────────────────────────┼───────────────┤\n",
       "│ gru_1 (<span style=\"color: #0087ff; text-decoration-color: #0087ff\">GRU</span>)                     │ (<span style=\"color: #00d7ff; text-decoration-color: #00d7ff\">None</span>, <span style=\"color: #00af00; text-decoration-color: #00af00\">55</span>, <span style=\"color: #00af00; text-decoration-color: #00af00\">64</span>)         │        <span style=\"color: #00af00; text-decoration-color: #00af00\">37,248</span> │\n",
       "├─────────────────────────────────┼────────────────────────┼───────────────┤\n",
       "│ gru_2 (<span style=\"color: #0087ff; text-decoration-color: #0087ff\">GRU</span>)                     │ (<span style=\"color: #00d7ff; text-decoration-color: #00d7ff\">None</span>, <span style=\"color: #00af00; text-decoration-color: #00af00\">32</span>)             │         <span style=\"color: #00af00; text-decoration-color: #00af00\">9,408</span> │\n",
       "├─────────────────────────────────┼────────────────────────┼───────────────┤\n",
       "│ dropout (<span style=\"color: #0087ff; text-decoration-color: #0087ff\">Dropout</span>)               │ (<span style=\"color: #00d7ff; text-decoration-color: #00d7ff\">None</span>, <span style=\"color: #00af00; text-decoration-color: #00af00\">32</span>)             │             <span style=\"color: #00af00; text-decoration-color: #00af00\">0</span> │\n",
       "├─────────────────────────────────┼────────────────────────┼───────────────┤\n",
       "│ dense (<span style=\"color: #0087ff; text-decoration-color: #0087ff\">Dense</span>)                   │ (<span style=\"color: #00d7ff; text-decoration-color: #00d7ff\">None</span>, <span style=\"color: #00af00; text-decoration-color: #00af00\">1</span>)              │            <span style=\"color: #00af00; text-decoration-color: #00af00\">33</span> │\n",
       "└─────────────────────────────────┴────────────────────────┴───────────────┘\n",
       "</pre>\n"
      ],
      "text/plain": [
       "┏━━━━━━━━━━━━━━━━━━━━━━━━━━━━━━━━━┳━━━━━━━━━━━━━━━━━━━━━━━━┳━━━━━━━━━━━━━━━┓\n",
       "┃\u001b[1m \u001b[0m\u001b[1mLayer (type)                   \u001b[0m\u001b[1m \u001b[0m┃\u001b[1m \u001b[0m\u001b[1mOutput Shape          \u001b[0m\u001b[1m \u001b[0m┃\u001b[1m \u001b[0m\u001b[1m      Param #\u001b[0m\u001b[1m \u001b[0m┃\n",
       "┡━━━━━━━━━━━━━━━━━━━━━━━━━━━━━━━━━╇━━━━━━━━━━━━━━━━━━━━━━━━╇━━━━━━━━━━━━━━━┩\n",
       "│ gru (\u001b[38;5;33mGRU\u001b[0m)                       │ (\u001b[38;5;45mNone\u001b[0m, \u001b[38;5;34m55\u001b[0m, \u001b[38;5;34m128\u001b[0m)        │        \u001b[38;5;34m57,984\u001b[0m │\n",
       "├─────────────────────────────────┼────────────────────────┼───────────────┤\n",
       "│ gru_1 (\u001b[38;5;33mGRU\u001b[0m)                     │ (\u001b[38;5;45mNone\u001b[0m, \u001b[38;5;34m55\u001b[0m, \u001b[38;5;34m64\u001b[0m)         │        \u001b[38;5;34m37,248\u001b[0m │\n",
       "├─────────────────────────────────┼────────────────────────┼───────────────┤\n",
       "│ gru_2 (\u001b[38;5;33mGRU\u001b[0m)                     │ (\u001b[38;5;45mNone\u001b[0m, \u001b[38;5;34m32\u001b[0m)             │         \u001b[38;5;34m9,408\u001b[0m │\n",
       "├─────────────────────────────────┼────────────────────────┼───────────────┤\n",
       "│ dropout (\u001b[38;5;33mDropout\u001b[0m)               │ (\u001b[38;5;45mNone\u001b[0m, \u001b[38;5;34m32\u001b[0m)             │             \u001b[38;5;34m0\u001b[0m │\n",
       "├─────────────────────────────────┼────────────────────────┼───────────────┤\n",
       "│ dense (\u001b[38;5;33mDense\u001b[0m)                   │ (\u001b[38;5;45mNone\u001b[0m, \u001b[38;5;34m1\u001b[0m)              │            \u001b[38;5;34m33\u001b[0m │\n",
       "└─────────────────────────────────┴────────────────────────┴───────────────┘\n"
      ]
     },
     "metadata": {},
     "output_type": "display_data"
    },
    {
     "data": {
      "text/html": [
       "<pre style=\"white-space:pre;overflow-x:auto;line-height:normal;font-family:Menlo,'DejaVu Sans Mono',consolas,'Courier New',monospace\"><span style=\"font-weight: bold\"> Total params: </span><span style=\"color: #00af00; text-decoration-color: #00af00\">104,673</span> (408.88 KB)\n",
       "</pre>\n"
      ],
      "text/plain": [
       "\u001b[1m Total params: \u001b[0m\u001b[38;5;34m104,673\u001b[0m (408.88 KB)\n"
      ]
     },
     "metadata": {},
     "output_type": "display_data"
    },
    {
     "data": {
      "text/html": [
       "<pre style=\"white-space:pre;overflow-x:auto;line-height:normal;font-family:Menlo,'DejaVu Sans Mono',consolas,'Courier New',monospace\"><span style=\"font-weight: bold\"> Trainable params: </span><span style=\"color: #00af00; text-decoration-color: #00af00\">104,673</span> (408.88 KB)\n",
       "</pre>\n"
      ],
      "text/plain": [
       "\u001b[1m Trainable params: \u001b[0m\u001b[38;5;34m104,673\u001b[0m (408.88 KB)\n"
      ]
     },
     "metadata": {},
     "output_type": "display_data"
    },
    {
     "data": {
      "text/html": [
       "<pre style=\"white-space:pre;overflow-x:auto;line-height:normal;font-family:Menlo,'DejaVu Sans Mono',consolas,'Courier New',monospace\"><span style=\"font-weight: bold\"> Non-trainable params: </span><span style=\"color: #00af00; text-decoration-color: #00af00\">0</span> (0.00 B)\n",
       "</pre>\n"
      ],
      "text/plain": [
       "\u001b[1m Non-trainable params: \u001b[0m\u001b[38;5;34m0\u001b[0m (0.00 B)\n"
      ]
     },
     "metadata": {},
     "output_type": "display_data"
    }
   ],
   "source": [
    "time_step = 55\n",
    "n_features = X_scaled.shape[1]\n",
    "\n",
    "# Create a Sequential model\n",
    "model = Sequential()\n",
    "\n",
    "# Add the first GRU layer (with return_sequences=True for stacking)\n",
    "model.add(GRU(128, activation='tanh', return_sequences=True, input_shape=(time_step, n_features)))\n",
    "\n",
    "# Add a second GRU layer\n",
    "model.add(GRU(64, activation='tanh', return_sequences=True))\n",
    "\n",
    "# Add a third GRU layer (without return_sequences as it's the final GRU layer)\n",
    "model.add(GRU(32, activation='tanh'))\n",
    "\n",
    "# Add a Dropout layer for regularization\n",
    "model.add(Dropout(0.2))\n",
    "\n",
    "# Add a Dense output layer (assuming regression task; adjust units and activation if classification)\n",
    "model.add(Dense(1, activation='linear'))\n",
    "\n",
    "# Compile the model\n",
    "model.compile(optimizer='adam', loss='mae', metrics=['mae'])\n",
    "\n",
    "# Print the model summary\n",
    "model.summary()"
   ]
  },
  {
   "cell_type": "code",
   "execution_count": 28,
   "metadata": {},
   "outputs": [],
   "source": [
    "# n_features = X_scaled.shape[1]"
   ]
  },
  {
   "cell_type": "code",
   "execution_count": 29,
   "metadata": {},
   "outputs": [],
   "source": [
    "# model = Sequential([\n",
    "#     GRU(50, activation='relu', input_shape=(time_step, n_features)),  # Single GRU layer\n",
    "#     Dense(1)  # Output layer for regression\n",
    "# ])"
   ]
  },
  {
   "cell_type": "code",
   "execution_count": 30,
   "metadata": {},
   "outputs": [],
   "source": [
    "# model.compile(optimizer=Adam(), loss='mae')"
   ]
  },
  {
   "cell_type": "code",
   "execution_count": null,
   "metadata": {},
   "outputs": [
    {
     "name": "stdout",
     "output_type": "stream",
     "text": [
      "Epoch 1/5\n"
     ]
    },
    {
     "name": "stderr",
     "output_type": "stream",
     "text": [
      "/Library/Frameworks/Python.framework/Versions/3.11/lib/python3.11/site-packages/keras/src/trainers/data_adapters/py_dataset_adapter.py:121: UserWarning: Your `PyDataset` class should call `super().__init__(**kwargs)` in its constructor. `**kwargs` can include `workers`, `use_multiprocessing`, `max_queue_size`. Do not pass these arguments to `fit()`, as they will be ignored.\n",
      "  self._warn_if_super_not_called()\n"
     ]
    },
    {
     "name": "stdout",
     "output_type": "stream",
     "text": [
      "\u001b[1m61382/61382\u001b[0m \u001b[32m━━━━━━━━━━━━━━━━━━━━\u001b[0m\u001b[37m\u001b[0m \u001b[1m5631s\u001b[0m 92ms/step - loss: 0.0110 - mae: 0.0110 - val_loss: 0.0074 - val_mae: 0.0074\n",
      "Epoch 2/5\n",
      "\u001b[1m42961/61382\u001b[0m \u001b[32m━━━━━━━━━━━━━\u001b[0m\u001b[37m━━━━━━━\u001b[0m \u001b[1m1:24:10\u001b[0m 274ms/step - loss: 0.0079 - mae: 0.0079"
     ]
    }
   ],
   "source": [
    "model.fit(train_generator, validation_data=test_generator, epochs=5)"
   ]
  },
  {
   "cell_type": "code",
   "execution_count": 31,
   "metadata": {},
   "outputs": [
    {
     "name": "stdout",
     "output_type": "stream",
     "text": [
      "\u001b[1m61382/61382\u001b[0m \u001b[32m━━━━━━━━━━━━━━━━━━━━\u001b[0m\u001b[37m\u001b[0m \u001b[1m513s\u001b[0m 8ms/step\n"
     ]
    }
   ],
   "source": [
    "y_train_pred = model.predict(train_generator)  \n",
    "\n",
    "y_train_inverse = scaler_y.inverse_transform(y_train) \n",
    "y_train_pred_inverse = scaler_y.inverse_transform(y_train_pred)"
   ]
  },
  {
   "cell_type": "code",
   "execution_count": 32,
   "metadata": {},
   "outputs": [
    {
     "name": "stdout",
     "output_type": "stream",
     "text": [
      "\u001b[1m20460/20460\u001b[0m \u001b[32m━━━━━━━━━━━━━━━━━━━━\u001b[0m\u001b[37m\u001b[0m \u001b[1m177s\u001b[0m 9ms/step\n"
     ]
    }
   ],
   "source": [
    "y_pred = model.predict(test_generator)\n",
    "\n",
    "# Transform y_test and y_pred back to their original scale\n",
    "y_test_inverse = scaler_y.inverse_transform(y_test)  # Assuming y_test is already in the correct shape\n",
    "y_pred_inverse = scaler_y.inverse_transform(y_pred)"
   ]
  },
  {
   "cell_type": "code",
   "execution_count": 35,
   "metadata": {},
   "outputs": [
    {
     "name": "stdout",
     "output_type": "stream",
     "text": [
      "Training Set Mean Absolute Error: 6.552970146168015\n"
     ]
    }
   ],
   "source": [
    "y_train_inverse_flat = y_train_inverse[-len(y_train_pred_inverse):].flatten()\n",
    "y_train_pred_inverse_flat = y_train_pred_inverse.flatten()\n",
    "\n",
    "# Calculate the training MAE\n",
    "mae_train = mean_absolute_error(y_train_inverse_flat, y_train_pred_inverse_flat)\n",
    "print(\"Training Set Mean Absolute Error:\", mae_train)"
   ]
  },
  {
   "cell_type": "code",
   "execution_count": 36,
   "metadata": {},
   "outputs": [
    {
     "name": "stdout",
     "output_type": "stream",
     "text": [
      "Test Set Mean Absolute Error: 6.2039464509340965\n"
     ]
    }
   ],
   "source": [
    "y_test_inverse_flat = y_test_inverse[-len(y_pred_inverse):].flatten()  # Ensure the same length as y_pred_inverse\n",
    "y_pred_inverse_flat = y_pred_inverse.flatten()\n",
    "\n",
    "# Calculate Mean Absolute Error (MAE)\n",
    "mae = mean_absolute_error(y_test_inverse_flat, y_pred_inverse_flat)\n",
    "print(\"Test Set Mean Absolute Error:\", mae)"
   ]
  }
 ],
 "metadata": {
  "colab": {
   "provenance": []
  },
  "kernelspec": {
   "display_name": "Python 3 (ipykernel)",
   "language": "python",
   "name": "python3"
  },
  "language_info": {
   "codemirror_mode": {
    "name": "ipython",
    "version": 3
   },
   "file_extension": ".py",
   "mimetype": "text/x-python",
   "name": "python",
   "nbconvert_exporter": "python",
   "pygments_lexer": "ipython3",
   "version": "3.11.1"
  }
 },
 "nbformat": 4,
 "nbformat_minor": 4
}
