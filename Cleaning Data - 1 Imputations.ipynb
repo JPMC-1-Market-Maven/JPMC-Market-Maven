{
 "cells": [
  {
   "cell_type": "code",
   "execution_count": 63,
   "id": "cff8d3d0",
   "metadata": {},
   "outputs": [],
   "source": [
    "import pandas as pd\n",
    "import numpy as np\n",
    "from sklearn.preprocessing import MinMaxScaler\n",
    "from sklearn.model_selection import train_test_split\n",
    "from tensorflow.keras.models import Sequential\n",
    "from tensorflow.keras.layers import GRU, Dense, Dropout\n",
    "from sklearn.linear_model import LinearRegression"
   ]
  },
  {
   "cell_type": "code",
   "execution_count": 64,
   "id": "5416c5d7",
   "metadata": {},
   "outputs": [],
   "source": [
    "data = pd.read_csv('train.csv') # Loading training data "
   ]
  },
  {
   "cell_type": "code",
   "execution_count": 65,
   "id": "3a3e7d81",
   "metadata": {},
   "outputs": [
    {
     "data": {
      "text/plain": [
       "17"
      ]
     },
     "execution_count": 65,
     "metadata": {},
     "output_type": "execute_result"
    }
   ],
   "source": [
    "len(data.columns)"
   ]
  },
  {
   "cell_type": "markdown",
   "id": "10678b92",
   "metadata": {},
   "source": [
    "## Reducing Memory Usage"
   ]
  },
  {
   "cell_type": "code",
   "execution_count": 66,
   "id": "d3c940a2",
   "metadata": {},
   "outputs": [
    {
     "name": "stdout",
     "output_type": "stream",
     "text": [
      "Memory Usage Before Optimization:\n",
      "974.2033262252808 MB\n",
      "\n",
      "Memory Usage After Optimization:\n",
      "599.5538015365601 MB\n"
     ]
    }
   ],
   "source": [
    "def reduce_memory_usage(df):\n",
    "    print(\"Memory Usage Before Optimization:\")\n",
    "    print(df.memory_usage(deep=True).sum() / (1024 ** 2), \"MB\")\n",
    "\n",
    "    # Iterate through each column in the DataFrame\n",
    "    for col in df.columns:\n",
    "        col_type = df[col].dtype\n",
    "\n",
    "        # Check if the column's data type is numeric\n",
    "        if col_type != object:\n",
    "            c_min = df[col].min()\n",
    "            c_max = df[col].max()\n",
    "            \n",
    "            # Check if the column's data type is an integer\n",
    "            if str(col_type)[:3] == \"int\":\n",
    "                if c_min > np.iinfo(np.int8).min and c_max < np.iinfo(np.int8).max:\n",
    "                    df[col] = df[col].astype(np.int8)\n",
    "                elif c_min > np.iinfo(np.int16).min and c_max < np.iinfo(np.int16).max:\n",
    "                    df[col] = df[col].astype(np.int16)\n",
    "                elif c_min > np.iinfo(np.int32).min and c_max < np.iinfo(np.int32).max:\n",
    "                    df[col] = df[col].astype(np.int32)\n",
    "                elif c_min > np.iinfo(np.int64).min and c_max < np.iinfo(np.int64).max:\n",
    "                    df[col] = df[col].astype(np.int64)\n",
    "            else:\n",
    "                # Check if the column's data type is a float\n",
    "                if c_min > np.finfo(np.float16).min and c_max < np.finfo(np.float16).max:\n",
    "                    df[col] = df[col].astype(np.float32)\n",
    "                elif c_min > np.finfo(np.float32).min and c_max < np.finfo(np.float32).max:\n",
    "                    df[col] = df[col].astype(np.float32)\n",
    "                else:\n",
    "                    df[col] = df[col].astype(np.float32)\n",
    "                    \n",
    "    # Display the memory usage after optimization\n",
    "    print(\"\\nMemory Usage After Optimization:\")\n",
    "    print(df.memory_usage(deep=True).sum() / (1024 ** 2), \"MB\")\n",
    "    return df\n",
    "\n",
    "data = reduce_memory_usage(data)"
   ]
  },
  {
   "cell_type": "code",
   "execution_count": 67,
   "id": "8ee84058",
   "metadata": {},
   "outputs": [
    {
     "data": {
      "text/html": [
       "<div>\n",
       "<style scoped>\n",
       "    .dataframe tbody tr th:only-of-type {\n",
       "        vertical-align: middle;\n",
       "    }\n",
       "\n",
       "    .dataframe tbody tr th {\n",
       "        vertical-align: top;\n",
       "    }\n",
       "\n",
       "    .dataframe thead th {\n",
       "        text-align: right;\n",
       "    }\n",
       "</style>\n",
       "<table border=\"1\" class=\"dataframe\">\n",
       "  <thead>\n",
       "    <tr style=\"text-align: right;\">\n",
       "      <th></th>\n",
       "      <th>stock_id</th>\n",
       "      <th>date_id</th>\n",
       "      <th>seconds_in_bucket</th>\n",
       "      <th>imbalance_size</th>\n",
       "      <th>imbalance_buy_sell_flag</th>\n",
       "      <th>reference_price</th>\n",
       "      <th>matched_size</th>\n",
       "      <th>far_price</th>\n",
       "      <th>near_price</th>\n",
       "      <th>bid_price</th>\n",
       "      <th>bid_size</th>\n",
       "      <th>ask_price</th>\n",
       "      <th>ask_size</th>\n",
       "      <th>wap</th>\n",
       "      <th>target</th>\n",
       "      <th>time_id</th>\n",
       "      <th>row_id</th>\n",
       "    </tr>\n",
       "  </thead>\n",
       "  <tbody>\n",
       "    <tr>\n",
       "      <th>0</th>\n",
       "      <td>0</td>\n",
       "      <td>0</td>\n",
       "      <td>0</td>\n",
       "      <td>3.180603e+06</td>\n",
       "      <td>1</td>\n",
       "      <td>0.999812</td>\n",
       "      <td>13380277.00</td>\n",
       "      <td>NaN</td>\n",
       "      <td>NaN</td>\n",
       "      <td>0.999812</td>\n",
       "      <td>60651.500000</td>\n",
       "      <td>1.000026</td>\n",
       "      <td>8493.030273</td>\n",
       "      <td>1.0</td>\n",
       "      <td>-3.029704</td>\n",
       "      <td>0</td>\n",
       "      <td>0_0_0</td>\n",
       "    </tr>\n",
       "    <tr>\n",
       "      <th>1</th>\n",
       "      <td>1</td>\n",
       "      <td>0</td>\n",
       "      <td>0</td>\n",
       "      <td>1.666039e+05</td>\n",
       "      <td>-1</td>\n",
       "      <td>0.999896</td>\n",
       "      <td>1642214.25</td>\n",
       "      <td>NaN</td>\n",
       "      <td>NaN</td>\n",
       "      <td>0.999896</td>\n",
       "      <td>3233.040039</td>\n",
       "      <td>1.000660</td>\n",
       "      <td>20605.089844</td>\n",
       "      <td>1.0</td>\n",
       "      <td>-5.519986</td>\n",
       "      <td>0</td>\n",
       "      <td>0_0_1</td>\n",
       "    </tr>\n",
       "    <tr>\n",
       "      <th>2</th>\n",
       "      <td>2</td>\n",
       "      <td>0</td>\n",
       "      <td>0</td>\n",
       "      <td>3.028799e+05</td>\n",
       "      <td>-1</td>\n",
       "      <td>0.999561</td>\n",
       "      <td>1819368.00</td>\n",
       "      <td>NaN</td>\n",
       "      <td>NaN</td>\n",
       "      <td>0.999403</td>\n",
       "      <td>37956.000000</td>\n",
       "      <td>1.000298</td>\n",
       "      <td>18995.000000</td>\n",
       "      <td>1.0</td>\n",
       "      <td>-8.389950</td>\n",
       "      <td>0</td>\n",
       "      <td>0_0_2</td>\n",
       "    </tr>\n",
       "    <tr>\n",
       "      <th>3</th>\n",
       "      <td>3</td>\n",
       "      <td>0</td>\n",
       "      <td>0</td>\n",
       "      <td>1.191768e+07</td>\n",
       "      <td>-1</td>\n",
       "      <td>1.000171</td>\n",
       "      <td>18389746.00</td>\n",
       "      <td>NaN</td>\n",
       "      <td>NaN</td>\n",
       "      <td>0.999999</td>\n",
       "      <td>2324.899902</td>\n",
       "      <td>1.000214</td>\n",
       "      <td>479032.406250</td>\n",
       "      <td>1.0</td>\n",
       "      <td>-4.010201</td>\n",
       "      <td>0</td>\n",
       "      <td>0_0_3</td>\n",
       "    </tr>\n",
       "    <tr>\n",
       "      <th>4</th>\n",
       "      <td>4</td>\n",
       "      <td>0</td>\n",
       "      <td>0</td>\n",
       "      <td>4.475500e+05</td>\n",
       "      <td>-1</td>\n",
       "      <td>0.999532</td>\n",
       "      <td>17860614.00</td>\n",
       "      <td>NaN</td>\n",
       "      <td>NaN</td>\n",
       "      <td>0.999394</td>\n",
       "      <td>16485.539062</td>\n",
       "      <td>1.000016</td>\n",
       "      <td>434.100006</td>\n",
       "      <td>1.0</td>\n",
       "      <td>-7.349849</td>\n",
       "      <td>0</td>\n",
       "      <td>0_0_4</td>\n",
       "    </tr>\n",
       "  </tbody>\n",
       "</table>\n",
       "</div>"
      ],
      "text/plain": [
       "   stock_id  date_id  seconds_in_bucket  imbalance_size  \\\n",
       "0         0        0                  0    3.180603e+06   \n",
       "1         1        0                  0    1.666039e+05   \n",
       "2         2        0                  0    3.028799e+05   \n",
       "3         3        0                  0    1.191768e+07   \n",
       "4         4        0                  0    4.475500e+05   \n",
       "\n",
       "   imbalance_buy_sell_flag  reference_price  matched_size  far_price  \\\n",
       "0                        1         0.999812   13380277.00        NaN   \n",
       "1                       -1         0.999896    1642214.25        NaN   \n",
       "2                       -1         0.999561    1819368.00        NaN   \n",
       "3                       -1         1.000171   18389746.00        NaN   \n",
       "4                       -1         0.999532   17860614.00        NaN   \n",
       "\n",
       "   near_price  bid_price      bid_size  ask_price       ask_size  wap  \\\n",
       "0         NaN   0.999812  60651.500000   1.000026    8493.030273  1.0   \n",
       "1         NaN   0.999896   3233.040039   1.000660   20605.089844  1.0   \n",
       "2         NaN   0.999403  37956.000000   1.000298   18995.000000  1.0   \n",
       "3         NaN   0.999999   2324.899902   1.000214  479032.406250  1.0   \n",
       "4         NaN   0.999394  16485.539062   1.000016     434.100006  1.0   \n",
       "\n",
       "     target  time_id row_id  \n",
       "0 -3.029704        0  0_0_0  \n",
       "1 -5.519986        0  0_0_1  \n",
       "2 -8.389950        0  0_0_2  \n",
       "3 -4.010201        0  0_0_3  \n",
       "4 -7.349849        0  0_0_4  "
      ]
     },
     "execution_count": 67,
     "metadata": {},
     "output_type": "execute_result"
    }
   ],
   "source": [
    "data.head() # Reading first few examples "
   ]
  },
  {
   "cell_type": "markdown",
   "id": "510c24f9",
   "metadata": {},
   "source": [
    "## Rolling Averages for Missing Elements"
   ]
  },
  {
   "cell_type": "code",
   "execution_count": 68,
   "id": "103800c4",
   "metadata": {},
   "outputs": [
    {
     "name": "stdout",
     "output_type": "stream",
     "text": [
      "stock_id                         0\n",
      "date_id                          0\n",
      "seconds_in_bucket                0\n",
      "imbalance_size                 220\n",
      "imbalance_buy_sell_flag          0\n",
      "reference_price                220\n",
      "matched_size                   220\n",
      "far_price                  2894342\n",
      "near_price                 2857180\n",
      "bid_price                      220\n",
      "bid_size                         0\n",
      "ask_price                      220\n",
      "ask_size                         0\n",
      "wap                            220\n",
      "target                          88\n",
      "time_id                          0\n",
      "row_id                           0\n",
      "dtype: int64\n"
     ]
    }
   ],
   "source": [
    "print(data.isnull().sum()) # Displaying columns with missing data"
   ]
  },
  {
   "cell_type": "code",
   "execution_count": 69,
   "id": "00cf785b",
   "metadata": {},
   "outputs": [],
   "source": [
    "# Creating list of columns with missing data \n",
    "columns_with_missing_values = ['imbalance_size', 'reference_price', 'matched_size', 'far_price', 'near_price', 'bid_price', 'ask_price', 'wap', 'target']"
   ]
  },
  {
   "cell_type": "code",
   "execution_count": 70,
   "id": "ce4a799e",
   "metadata": {},
   "outputs": [
    {
     "data": {
      "text/plain": [
       "(369508, 369508, 369508, 0, 0, 369508, 369508, 369508, 369508)"
      ]
     },
     "execution_count": 70,
     "metadata": {},
     "output_type": "execute_result"
    }
   ],
   "source": [
    "# Checking if any columns start with missing values\n",
    "\n",
    "first_missing_index_imbalance_size = data['imbalance_size'].isnull().idxmax() if data['imbalance_size'].isnull().any() else None\n",
    "first_missing_index_reference_price = data['reference_price'].isnull().idxmax() if data['reference_price'].isnull().any() else None\n",
    "first_missing_index_matched_size = data['matched_size'].isnull().idxmax() if data['matched_size'].isnull().any() else None\n",
    "first_missing_index_far_price = data['far_price'].isnull().idxmax() if data['far_price'].isnull().any() else None\n",
    "first_missing_index_near_price = data['near_price'].isnull().idxmax() if data['near_price'].isnull().any() else None\n",
    "first_missing_index_bid_price = data['bid_price'].isnull().idxmax() if data['bid_price'].isnull().any() else None\n",
    "first_missing_index_ask_price = data['ask_price'].isnull().idxmax() if data['ask_price'].isnull().any() else None\n",
    "first_missing_index_wap = data['wap'].isnull().idxmax() if data['wap'].isnull().any() else None\n",
    "first_missing_index_target = data['target'].isnull().idxmax() if data['target'].isnull().any() else None\n",
    "\n",
    "\n",
    "first_missing_index_imbalance_size, first_missing_index_reference_price, first_missing_index_matched_size, first_missing_index_far_price, first_missing_index_near_price, first_missing_index_bid_price, first_missing_index_ask_price, first_missing_index_wap, first_missing_index_target"
   ]
  },
  {
   "cell_type": "markdown",
   "id": "1452fb70",
   "metadata": {},
   "source": [
    "## 'far_price' and 'near_price' columns start with missing values so we need to handle these edge cases using -1 imputations"
   ]
  },
  {
   "cell_type": "code",
   "execution_count": 71,
   "id": "26cf7284",
   "metadata": {},
   "outputs": [],
   "source": [
    "for col in columns_with_missing_values:\n",
    "    \n",
    "    data[col] = data[col].fillna(-1)"
   ]
  },
  {
   "cell_type": "code",
   "execution_count": 72,
   "id": "2c9491ff",
   "metadata": {},
   "outputs": [
    {
     "name": "stdout",
     "output_type": "stream",
     "text": [
      "stock_id                   0\n",
      "date_id                    0\n",
      "seconds_in_bucket          0\n",
      "imbalance_size             0\n",
      "imbalance_buy_sell_flag    0\n",
      "reference_price            0\n",
      "matched_size               0\n",
      "far_price                  0\n",
      "near_price                 0\n",
      "bid_price                  0\n",
      "bid_size                   0\n",
      "ask_price                  0\n",
      "ask_size                   0\n",
      "wap                        0\n",
      "target                     0\n",
      "time_id                    0\n",
      "row_id                     0\n",
      "dtype: int64\n"
     ]
    }
   ],
   "source": [
    "print(data.isnull().sum()) # Checking that all missing elements are no longer empty"
   ]
  },
  {
   "cell_type": "markdown",
   "id": "a5c19fa7",
   "metadata": {},
   "source": [
    "## Creating New Features"
   ]
  },
  {
   "cell_type": "code",
   "execution_count": 73,
   "id": "1992ca6f",
   "metadata": {},
   "outputs": [],
   "source": [
    "data['bid_ref_price_diff'] = data['bid_price'] - data['reference_price']\n",
    "data['bid_ref_price_ratio'] = data['bid_price'] / data['reference_price']\n",
    "data['ref_price_ma_5'] = data['reference_price'].rolling(window=5).mean()\n",
    "data['price_momentum'] = data['reference_price'].diff()\n",
    "data['volume_weighted_price'] = (data['reference_price'] * data['matched_size']) / data['matched_size'].sum()\n",
    "data['bid_size_volume_ratio'] = data['bid_size'] / data['matched_size']\n",
    "data['imbalance_volume_interaction'] = data['imbalance_size'] * data['matched_size']\n",
    "data['day_of_week'] = data['date_id'] % 7\n",
    "data['hour_of_day'] = (data['seconds_in_bucket'] // 3600) % 24\n",
    "data['price_volatility'] = data['reference_price'].rolling(window=5).std()"
   ]
  },
  {
   "cell_type": "code",
   "execution_count": 74,
   "id": "df482d04",
   "metadata": {},
   "outputs": [
    {
     "name": "stdout",
     "output_type": "stream",
     "text": [
      "stock_id                        0\n",
      "date_id                         0\n",
      "seconds_in_bucket               0\n",
      "imbalance_size                  0\n",
      "imbalance_buy_sell_flag         0\n",
      "reference_price                 0\n",
      "matched_size                    0\n",
      "far_price                       0\n",
      "near_price                      0\n",
      "bid_price                       0\n",
      "bid_size                        0\n",
      "ask_price                       0\n",
      "ask_size                        0\n",
      "wap                             0\n",
      "target                          0\n",
      "time_id                         0\n",
      "row_id                          0\n",
      "bid_ref_price_diff              0\n",
      "bid_ref_price_ratio             0\n",
      "ref_price_ma_5                  4\n",
      "price_momentum                  1\n",
      "volume_weighted_price           0\n",
      "bid_size_volume_ratio           0\n",
      "imbalance_volume_interaction    0\n",
      "day_of_week                     0\n",
      "hour_of_day                     0\n",
      "price_volatility                4\n",
      "dtype: int64\n"
     ]
    }
   ],
   "source": [
    "print(data.isnull().sum())"
   ]
  },
  {
   "cell_type": "code",
   "execution_count": 75,
   "id": "01c7e591",
   "metadata": {},
   "outputs": [],
   "source": [
    "new_columns_with_missing_values = ['ref_price_ma_5', 'price_momentum', 'price_volatility']"
   ]
  },
  {
   "cell_type": "code",
   "execution_count": 76,
   "id": "c7658d46",
   "metadata": {},
   "outputs": [],
   "source": [
    "window_size = 5 # Number of elements before current missing element to take an average of \n",
    "\n",
    "for col in new_columns_with_missing_values:\n",
    "    data[col] = data[col].fillna(-1) # Using backward fill "
   ]
  },
  {
   "cell_type": "code",
   "execution_count": 77,
   "id": "bfd34350",
   "metadata": {},
   "outputs": [
    {
     "name": "stdout",
     "output_type": "stream",
     "text": [
      "stock_id                        0\n",
      "date_id                         0\n",
      "seconds_in_bucket               0\n",
      "imbalance_size                  0\n",
      "imbalance_buy_sell_flag         0\n",
      "reference_price                 0\n",
      "matched_size                    0\n",
      "far_price                       0\n",
      "near_price                      0\n",
      "bid_price                       0\n",
      "bid_size                        0\n",
      "ask_price                       0\n",
      "ask_size                        0\n",
      "wap                             0\n",
      "target                          0\n",
      "time_id                         0\n",
      "row_id                          0\n",
      "bid_ref_price_diff              0\n",
      "bid_ref_price_ratio             0\n",
      "ref_price_ma_5                  0\n",
      "price_momentum                  0\n",
      "volume_weighted_price           0\n",
      "bid_size_volume_ratio           0\n",
      "imbalance_volume_interaction    0\n",
      "day_of_week                     0\n",
      "hour_of_day                     0\n",
      "price_volatility                0\n",
      "dtype: int64\n"
     ]
    }
   ],
   "source": [
    "print(data.isnull().sum())"
   ]
  },
  {
   "cell_type": "code",
   "execution_count": null,
   "id": "3c0b9b25",
   "metadata": {},
   "outputs": [],
   "source": []
  }
 ],
 "metadata": {
  "kernelspec": {
   "display_name": "Python 3 (ipykernel)",
   "language": "python",
   "name": "python3"
  },
  "language_info": {
   "codemirror_mode": {
    "name": "ipython",
    "version": 3
   },
   "file_extension": ".py",
   "mimetype": "text/x-python",
   "name": "python",
   "nbconvert_exporter": "python",
   "pygments_lexer": "ipython3",
   "version": "3.10.7"
  }
 },
 "nbformat": 4,
 "nbformat_minor": 5
}
