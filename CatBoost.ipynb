{
  "nbformat": 4,
  "nbformat_minor": 0,
  "metadata": {
    "colab": {
      "provenance": []
    },
    "kernelspec": {
      "name": "python3",
      "display_name": "Python 3"
    },
    "language_info": {
      "name": "python"
    },
    "widgets": {
      "application/vnd.jupyter.widget-state+json": {
        "a9586ca867094b26ad09a5c2587cb136": {
          "model_module": "catboost-widget",
          "model_name": "CatboostWidgetModel",
          "model_module_version": "^1.0.0",
          "state": {
            "_dom_classes": [],
            "_model_module": "catboost-widget",
            "_model_module_version": "^1.0.0",
            "_model_name": "CatboostWidgetModel",
            "_view_count": null,
            "_view_module": "catboost-widget",
            "_view_module_version": "^1.0.0",
            "_view_name": "CatboostWidgetView",
            "data": {
              "catboost_info": {
                "path": "catboost_info",
                "name": "catboost_info",
                "content": {
                  "passed_iterations": 499,
                  "total_iterations": 500,
                  "data": {
                    "iterations": [
                      {
                        "learn": [
                          9.800140404
                        ],
                        "iteration": 0,
                        "passed_time": 1.581182665,
                        "remaining_time": 789.0101496,
                        "test": [
                          8.769065613
                        ]
                      },
                      {
                        "learn": [
                          9.782743358
                        ],
                        "iteration": 1,
                        "passed_time": 3.182060306,
                        "remaining_time": 792.3330163,
                        "test": [
                          8.758052455
                        ]
                      },
                      {
                        "learn": [
                          9.768631528
                        ],
                        "iteration": 2,
                        "passed_time": 4.509582002,
                        "remaining_time": 747.0874183,
                        "test": [
                          8.749247591
                        ]
                      },
                      {
                        "learn": [
                          9.756800938
                        ],
                        "iteration": 3,
                        "passed_time": 7.20880934,
                        "remaining_time": 893.8923581,
                        "test": [
                          8.742448301
                        ]
                      },
                      {
                        "learn": [
                          9.746483005
                        ],
                        "iteration": 4,
                        "passed_time": 10.2055517,
                        "remaining_time": 1010.349618,
                        "test": [
                          8.736789354
                        ]
                      },
                      {
                        "learn": [
                          9.737711431
                        ],
                        "iteration": 5,
                        "passed_time": 12.14388831,
                        "remaining_time": 999.8468045,
                        "test": [
                          8.731984867
                        ]
                      },
                      {
                        "learn": [
                          9.730268045
                        ],
                        "iteration": 6,
                        "passed_time": 13.67242947,
                        "remaining_time": 962.9296756,
                        "test": [
                          8.727999413
                        ]
                      },
                      {
                        "learn": [
                          9.723700727
                        ],
                        "iteration": 7,
                        "passed_time": 15.02250387,
                        "remaining_time": 923.8839877,
                        "test": [
                          8.724941286
                        ]
                      },
                      {
                        "learn": [
                          9.717786492
                        ],
                        "iteration": 8,
                        "passed_time": 16.59071629,
                        "remaining_time": 905.1157445,
                        "test": [
                          8.721933608
                        ]
                      },
                      {
                        "learn": [
                          9.7126814
                        ],
                        "iteration": 9,
                        "passed_time": 18.23147439,
                        "remaining_time": 893.3422452,
                        "test": [
                          8.719604462
                        ]
                      },
                      {
                        "learn": [
                          9.708213459
                        ],
                        "iteration": 10,
                        "passed_time": 19.76141518,
                        "remaining_time": 878.4847295,
                        "test": [
                          8.717604115
                        ]
                      },
                      {
                        "learn": [
                          9.704240391
                        ],
                        "iteration": 11,
                        "passed_time": 21.48513667,
                        "remaining_time": 873.7288914,
                        "test": [
                          8.716214148
                        ]
                      },
                      {
                        "learn": [
                          9.700562906
                        ],
                        "iteration": 12,
                        "passed_time": 23.65937911,
                        "remaining_time": 886.3167403,
                        "test": [
                          8.714795588
                        ]
                      },
                      {
                        "learn": [
                          9.697345673
                        ],
                        "iteration": 13,
                        "passed_time": 26.70290213,
                        "remaining_time": 926.972174,
                        "test": [
                          8.713730275
                        ]
                      },
                      {
                        "learn": [
                          9.69447829
                        ],
                        "iteration": 14,
                        "passed_time": 28.42346286,
                        "remaining_time": 919.0252993,
                        "test": [
                          8.712846364
                        ]
                      },
                      {
                        "learn": [
                          9.69186252
                        ],
                        "iteration": 15,
                        "passed_time": 29.65443665,
                        "remaining_time": 897.0467085,
                        "test": [
                          8.711870615
                        ]
                      },
                      {
                        "learn": [
                          9.689124484
                        ],
                        "iteration": 16,
                        "passed_time": 30.98164276,
                        "remaining_time": 880.2431442,
                        "test": [
                          8.711126859
                        ]
                      },
                      {
                        "learn": [
                          9.687174685
                        ],
                        "iteration": 17,
                        "passed_time": 32.46410816,
                        "remaining_time": 869.3166741,
                        "test": [
                          8.710549437
                        ]
                      },
                      {
                        "learn": [
                          9.684772388
                        ],
                        "iteration": 18,
                        "passed_time": 33.68945517,
                        "remaining_time": 852.8751546,
                        "test": [
                          8.709868674
                        ]
                      },
                      {
                        "learn": [
                          9.682588754
                        ],
                        "iteration": 19,
                        "passed_time": 35.25442796,
                        "remaining_time": 846.106271,
                        "test": [
                          8.709242675
                        ]
                      },
                      {
                        "learn": [
                          9.680577808
                        ],
                        "iteration": 20,
                        "passed_time": 36.78157578,
                        "remaining_time": 838.9702285,
                        "test": [
                          8.708806486
                        ]
                      },
                      {
                        "learn": [
                          9.677845479
                        ],
                        "iteration": 21,
                        "passed_time": 38.93825115,
                        "remaining_time": 846.0220023,
                        "test": [
                          8.708554036
                        ]
                      },
                      {
                        "learn": [
                          9.676172309
                        ],
                        "iteration": 22,
                        "passed_time": 41.61741605,
                        "remaining_time": 863.1090198,
                        "test": [
                          8.70818185
                        ]
                      },
                      {
                        "learn": [
                          9.674193975
                        ],
                        "iteration": 23,
                        "passed_time": 43.9051369,
                        "remaining_time": 870.7852151,
                        "test": [
                          8.708021271
                        ]
                      },
                      {
                        "learn": [
                          9.672240461
                        ],
                        "iteration": 24,
                        "passed_time": 45.20731628,
                        "remaining_time": 858.9390094,
                        "test": [
                          8.70803204
                        ]
                      },
                      {
                        "learn": [
                          9.670693558
                        ],
                        "iteration": 25,
                        "passed_time": 46.45048292,
                        "remaining_time": 846.8280348,
                        "test": [
                          8.70758586
                        ]
                      },
                      {
                        "learn": [
                          9.668623539
                        ],
                        "iteration": 26,
                        "passed_time": 47.74598351,
                        "remaining_time": 836.4388963,
                        "test": [
                          8.707382412
                        ]
                      },
                      {
                        "learn": [
                          9.666563184
                        ],
                        "iteration": 27,
                        "passed_time": 48.97941938,
                        "remaining_time": 825.6530696,
                        "test": [
                          8.706969279
                        ]
                      },
                      {
                        "learn": [
                          9.664808813
                        ],
                        "iteration": 28,
                        "passed_time": 50.34403129,
                        "remaining_time": 817.6565082,
                        "test": [
                          8.706785651
                        ]
                      },
                      {
                        "learn": [
                          9.662361833
                        ],
                        "iteration": 29,
                        "passed_time": 51.76361547,
                        "remaining_time": 810.963309,
                        "test": [
                          8.706729961
                        ]
                      },
                      {
                        "learn": [
                          9.660402721
                        ],
                        "iteration": 30,
                        "passed_time": 53.23846008,
                        "remaining_time": 805.4463799,
                        "test": [
                          8.705823653
                        ]
                      },
                      {
                        "learn": [
                          9.65887168
                        ],
                        "iteration": 31,
                        "passed_time": 55.36139264,
                        "remaining_time": 809.6603674,
                        "test": [
                          8.705993918
                        ]
                      },
                      {
                        "learn": [
                          9.656960104
                        ],
                        "iteration": 32,
                        "passed_time": 57.69394191,
                        "remaining_time": 816.4566931,
                        "test": [
                          8.705371965
                        ]
                      },
                      {
                        "learn": [
                          9.655775326
                        ],
                        "iteration": 33,
                        "passed_time": 60.04801639,
                        "remaining_time": 823.0110482,
                        "test": [
                          8.705405597
                        ]
                      },
                      {
                        "learn": [
                          9.653745179
                        ],
                        "iteration": 34,
                        "passed_time": 61.2427997,
                        "remaining_time": 813.6543388,
                        "test": [
                          8.705295139
                        ]
                      },
                      {
                        "learn": [
                          9.651922675
                        ],
                        "iteration": 35,
                        "passed_time": 62.79997946,
                        "remaining_time": 809.4219574,
                        "test": [
                          8.705515679
                        ]
                      },
                      {
                        "learn": [
                          9.650423985
                        ],
                        "iteration": 36,
                        "passed_time": 64.26130784,
                        "remaining_time": 804.134744,
                        "test": [
                          8.705415713
                        ]
                      },
                      {
                        "learn": [
                          9.648567874
                        ],
                        "iteration": 37,
                        "passed_time": 65.42522717,
                        "remaining_time": 795.4330251,
                        "test": [
                          8.704911171
                        ]
                      },
                      {
                        "learn": [
                          9.646965669
                        ],
                        "iteration": 38,
                        "passed_time": 66.80636369,
                        "remaining_time": 789.6854785,
                        "test": [
                          8.704917204
                        ]
                      },
                      {
                        "learn": [
                          9.644765379
                        ],
                        "iteration": 39,
                        "passed_time": 68.33441941,
                        "remaining_time": 785.8458232,
                        "test": [
                          8.704477327
                        ]
                      },
                      {
                        "learn": [
                          9.643674882
                        ],
                        "iteration": 40,
                        "passed_time": 69.59037176,
                        "remaining_time": 779.0726985,
                        "test": [
                          8.704352755
                        ]
                      },
                      {
                        "learn": [
                          9.642219311
                        ],
                        "iteration": 41,
                        "passed_time": 71.38617743,
                        "remaining_time": 778.4492682,
                        "test": [
                          8.703941398
                        ]
                      },
                      {
                        "learn": [
                          9.640423794
                        ],
                        "iteration": 42,
                        "passed_time": 73.65150529,
                        "remaining_time": 782.7613469,
                        "test": [
                          8.703653161
                        ]
                      },
                      {
                        "learn": [
                          9.639163296
                        ],
                        "iteration": 43,
                        "passed_time": 76.35716276,
                        "remaining_time": 791.3378686,
                        "test": [
                          8.703828177
                        ]
                      },
                      {
                        "learn": [
                          9.637269937
                        ],
                        "iteration": 44,
                        "passed_time": 77.82807257,
                        "remaining_time": 786.9282893,
                        "test": [
                          8.703916834
                        ]
                      },
                      {
                        "learn": [
                          9.635927057
                        ],
                        "iteration": 45,
                        "passed_time": 79.25888635,
                        "remaining_time": 782.2507479,
                        "test": [
                          8.703839751
                        ]
                      },
                      {
                        "learn": [
                          9.634608415
                        ],
                        "iteration": 46,
                        "passed_time": 80.64482556,
                        "remaining_time": 777.2788506,
                        "test": [
                          8.703481538
                        ]
                      },
                      {
                        "learn": [
                          9.633426941
                        ],
                        "iteration": 47,
                        "passed_time": 82.11225615,
                        "remaining_time": 773.2237454,
                        "test": [
                          8.703477481
                        ]
                      },
                      {
                        "learn": [
                          9.63205273
                        ],
                        "iteration": 48,
                        "passed_time": 83.40943045,
                        "remaining_time": 767.7072068,
                        "test": [
                          8.703005089
                        ]
                      },
                      {
                        "learn": [
                          9.631026898
                        ],
                        "iteration": 49,
                        "passed_time": 84.81904547,
                        "remaining_time": 763.3714092,
                        "test": [
                          8.702999166
                        ]
                      },
                      {
                        "learn": [
                          9.629638958
                        ],
                        "iteration": 50,
                        "passed_time": 86.23705553,
                        "remaining_time": 759.2242732,
                        "test": [
                          8.703555998
                        ]
                      },
                      {
                        "learn": [
                          9.628662529
                        ],
                        "iteration": 51,
                        "passed_time": 88.54378683,
                        "remaining_time": 762.8387789,
                        "test": [
                          8.703591268
                        ]
                      },
                      {
                        "learn": [
                          9.627509961
                        ],
                        "iteration": 52,
                        "passed_time": 91.2195487,
                        "remaining_time": 769.3422315,
                        "test": [
                          8.703493161
                        ]
                      },
                      {
                        "learn": [
                          9.62631385
                        ],
                        "iteration": 53,
                        "passed_time": 93.45008454,
                        "remaining_time": 771.828476,
                        "test": [
                          8.703459757
                        ]
                      },
                      {
                        "learn": [
                          9.624924833
                        ],
                        "iteration": 54,
                        "passed_time": 94.64137569,
                        "remaining_time": 765.7347669,
                        "test": [
                          8.702994555
                        ]
                      },
                      {
                        "learn": [
                          9.623626805
                        ],
                        "iteration": 55,
                        "passed_time": 96.10639505,
                        "remaining_time": 761.9864179,
                        "test": [
                          8.703002536
                        ]
                      },
                      {
                        "learn": [
                          9.622218671
                        ],
                        "iteration": 56,
                        "passed_time": 97.48069614,
                        "remaining_time": 757.6131297,
                        "test": [
                          8.703271645
                        ]
                      },
                      {
                        "learn": [
                          9.620958341
                        ],
                        "iteration": 57,
                        "passed_time": 98.8976012,
                        "remaining_time": 753.6679264,
                        "test": [
                          8.703381776
                        ]
                      },
                      {
                        "learn": [
                          9.619953305
                        ],
                        "iteration": 58,
                        "passed_time": 100.1340358,
                        "remaining_time": 748.4594882,
                        "test": [
                          8.703237622
                        ]
                      },
                      {
                        "learn": [
                          9.618844988
                        ],
                        "iteration": 59,
                        "passed_time": 101.2987073,
                        "remaining_time": 742.8571872,
                        "test": [
                          8.703245793
                        ]
                      },
                      {
                        "learn": [
                          9.617903949
                        ],
                        "iteration": 60,
                        "passed_time": 102.5261015,
                        "remaining_time": 737.8517797,
                        "test": [
                          8.703134243
                        ]
                      },
                      {
                        "learn": [
                          9.616360033
                        ],
                        "iteration": 61,
                        "passed_time": 104.76389,
                        "remaining_time": 740.1061905,
                        "test": [
                          8.703058906
                        ]
                      },
                      {
                        "learn": [
                          9.615388568
                        ],
                        "iteration": 62,
                        "passed_time": 107.2753019,
                        "remaining_time": 744.1159831,
                        "test": [
                          8.702963905
                        ]
                      },
                      {
                        "learn": [
                          9.614376863
                        ],
                        "iteration": 63,
                        "passed_time": 109.6512163,
                        "remaining_time": 746.998911,
                        "test": [
                          8.703014064
                        ]
                      },
                      {
                        "learn": [
                          9.613355296
                        ],
                        "iteration": 64,
                        "passed_time": 111.1649478,
                        "remaining_time": 743.950035,
                        "test": [
                          8.702590944
                        ]
                      },
                      {
                        "learn": [
                          9.612289304
                        ],
                        "iteration": 65,
                        "passed_time": 112.3243966,
                        "remaining_time": 738.6180019,
                        "test": [
                          8.702742009
                        ]
                      },
                      {
                        "learn": [
                          9.611067788
                        ],
                        "iteration": 66,
                        "passed_time": 113.8736571,
                        "remaining_time": 735.9297544,
                        "test": [
                          8.702607832
                        ]
                      },
                      {
                        "learn": [
                          9.609851282
                        ],
                        "iteration": 67,
                        "passed_time": 115.3083684,
                        "remaining_time": 732.5472813,
                        "test": [
                          8.702579576
                        ]
                      },
                      {
                        "learn": [
                          9.608866636
                        ],
                        "iteration": 68,
                        "passed_time": 116.7546499,
                        "remaining_time": 729.2935379,
                        "test": [
                          8.70242375
                        ]
                      },
                      {
                        "learn": [
                          9.607506931
                        ],
                        "iteration": 69,
                        "passed_time": 118.2933238,
                        "remaining_time": 726.6589889,
                        "test": [
                          8.702310198
                        ]
                      },
                      {
                        "learn": [
                          9.606408719
                        ],
                        "iteration": 70,
                        "passed_time": 120.0222581,
                        "remaining_time": 725.2049115,
                        "test": [
                          8.702383192
                        ]
                      },
                      {
                        "learn": [
                          9.605434786
                        ],
                        "iteration": 71,
                        "passed_time": 122.7871494,
                        "remaining_time": 729.9013883,
                        "test": [
                          8.702078201
                        ]
                      },
                      {
                        "learn": [
                          9.604463901
                        ],
                        "iteration": 72,
                        "passed_time": 125.570094,
                        "remaining_time": 734.4990433,
                        "test": [
                          8.702077101
                        ]
                      },
                      {
                        "learn": [
                          9.603701346
                        ],
                        "iteration": 73,
                        "passed_time": 127.0937378,
                        "remaining_time": 731.6477338,
                        "test": [
                          8.701894282
                        ]
                      },
                      {
                        "learn": [
                          9.602322864
                        ],
                        "iteration": 74,
                        "passed_time": 128.4461354,
                        "remaining_time": 727.8614337,
                        "test": [
                          8.702132507
                        ]
                      },
                      {
                        "learn": [
                          9.601396133
                        ],
                        "iteration": 75,
                        "passed_time": 129.8402171,
                        "remaining_time": 724.3717376,
                        "test": [
                          8.702243956
                        ]
                      },
                      {
                        "learn": [
                          9.600373785
                        ],
                        "iteration": 76,
                        "passed_time": 130.9945249,
                        "remaining_time": 719.6192734,
                        "test": [
                          8.702391357
                        ]
                      },
                      {
                        "learn": [
                          9.599096003
                        ],
                        "iteration": 77,
                        "passed_time": 132.3961261,
                        "remaining_time": 716.2969902,
                        "test": [
                          8.702443661
                        ]
                      },
                      {
                        "learn": [
                          9.598213004
                        ],
                        "iteration": 78,
                        "passed_time": 133.8880214,
                        "remaining_time": 713.5045193,
                        "test": [
                          8.702329947
                        ]
                      },
                      {
                        "learn": [
                          9.597292208
                        ],
                        "iteration": 79,
                        "passed_time": 135.3675971,
                        "remaining_time": 710.6798849,
                        "test": [
                          8.702036506
                        ]
                      },
                      {
                        "learn": [
                          9.596740091
                        ],
                        "iteration": 80,
                        "passed_time": 137.6555561,
                        "remaining_time": 712.070099,
                        "test": [
                          8.70194196
                        ]
                      },
                      {
                        "learn": [
                          9.595567197
                        ],
                        "iteration": 81,
                        "passed_time": 139.8548952,
                        "remaining_time": 712.9188562,
                        "test": [
                          8.701837862
                        ]
                      },
                      {
                        "learn": [
                          9.594793038
                        ],
                        "iteration": 82,
                        "passed_time": 142.3262437,
                        "remaining_time": 715.0607665,
                        "test": [
                          8.70180651
                        ]
                      },
                      {
                        "learn": [
                          9.593763361
                        ],
                        "iteration": 83,
                        "passed_time": 143.6571256,
                        "remaining_time": 711.4448123,
                        "test": [
                          8.702106481
                        ]
                      },
                      {
                        "learn": [
                          9.592790632
                        ],
                        "iteration": 84,
                        "passed_time": 145.1240374,
                        "remaining_time": 708.5467708,
                        "test": [
                          8.701997728
                        ]
                      },
                      {
                        "learn": [
                          9.591981402
                        ],
                        "iteration": 85,
                        "passed_time": 146.3140154,
                        "remaining_time": 704.3488649,
                        "test": [
                          8.701992916
                        ]
                      },
                      {
                        "learn": [
                          9.591299789
                        ],
                        "iteration": 86,
                        "passed_time": 147.8022091,
                        "remaining_time": 701.6357744,
                        "test": [
                          8.701928436
                        ]
                      },
                      {
                        "learn": [
                          9.590556179
                        ],
                        "iteration": 87,
                        "passed_time": 149.3235549,
                        "remaining_time": 699.1057342,
                        "test": [
                          8.701788974
                        ]
                      },
                      {
                        "learn": [
                          9.589819502
                        ],
                        "iteration": 88,
                        "passed_time": 150.8301809,
                        "remaining_time": 696.5303862,
                        "test": [
                          8.701671753
                        ]
                      },
                      {
                        "learn": [
                          9.589084433
                        ],
                        "iteration": 89,
                        "passed_time": 152.1067525,
                        "remaining_time": 692.9307612,
                        "test": [
                          8.701565875
                        ]
                      },
                      {
                        "learn": [
                          9.58824361
                        ],
                        "iteration": 90,
                        "passed_time": 154.5211817,
                        "remaining_time": 694.4963,
                        "test": [
                          8.701546341
                        ]
                      },
                      {
                        "learn": [
                          9.587274723
                        ],
                        "iteration": 91,
                        "passed_time": 157.2854121,
                        "remaining_time": 697.52661,
                        "test": [
                          8.701416025
                        ]
                      },
                      {
                        "learn": [
                          9.585686583
                        ],
                        "iteration": 92,
                        "passed_time": 159.1780797,
                        "remaining_time": 696.6180476,
                        "test": [
                          8.701325742
                        ]
                      },
                      {
                        "learn": [
                          9.584956855
                        ],
                        "iteration": 93,
                        "passed_time": 161.0508887,
                        "remaining_time": 695.6027747,
                        "test": [
                          8.701712021
                        ]
                      },
                      {
                        "learn": [
                          9.584583143
                        ],
                        "iteration": 94,
                        "passed_time": 162.9521991,
                        "remaining_time": 694.6909542,
                        "test": [
                          8.701666303
                        ]
                      },
                      {
                        "learn": [
                          9.582583872
                        ],
                        "iteration": 95,
                        "passed_time": 164.9165726,
                        "remaining_time": 694.0239096,
                        "test": [
                          8.70174695
                        ]
                      },
                      {
                        "learn": [
                          9.581902877
                        ],
                        "iteration": 96,
                        "passed_time": 166.6040164,
                        "remaining_time": 692.1795732,
                        "test": [
                          8.701774934
                        ]
                      },
                      {
                        "learn": [
                          9.580980766
                        ],
                        "iteration": 97,
                        "passed_time": 168.8584332,
                        "remaining_time": 692.664185,
                        "test": [
                          8.70169355
                        ]
                      },
                      {
                        "learn": [
                          9.580026326
                        ],
                        "iteration": 98,
                        "passed_time": 171.1561338,
                        "remaining_time": 693.2687844,
                        "test": [
                          8.702370886
                        ]
                      },
                      {
                        "learn": [
                          9.578667142
                        ],
                        "iteration": 99,
                        "passed_time": 173.5011638,
                        "remaining_time": 694.0046552,
                        "test": [
                          8.702359572
                        ]
                      },
                      {
                        "learn": [
                          9.577336331
                        ],
                        "iteration": 100,
                        "passed_time": 175.5560135,
                        "remaining_time": 693.5331622,
                        "test": [
                          8.702686419
                        ]
                      },
                      {
                        "learn": [
                          9.576504742
                        ],
                        "iteration": 101,
                        "passed_time": 176.8059269,
                        "remaining_time": 689.8897934,
                        "test": [
                          8.702480871
                        ]
                      },
                      {
                        "learn": [
                          9.575735361
                        ],
                        "iteration": 102,
                        "passed_time": 178.2309716,
                        "remaining_time": 686.9679197,
                        "test": [
                          8.702507249
                        ]
                      },
                      {
                        "learn": [
                          9.574916574
                        ],
                        "iteration": 103,
                        "passed_time": 179.7013048,
                        "remaining_time": 684.2472761,
                        "test": [
                          8.702435774
                        ]
                      },
                      {
                        "learn": [
                          9.573670311
                        ],
                        "iteration": 104,
                        "passed_time": 181.0037148,
                        "remaining_time": 680.9187367,
                        "test": [
                          8.702400358
                        ]
                      },
                      {
                        "learn": [
                          9.572003224
                        ],
                        "iteration": 105,
                        "passed_time": 182.2236102,
                        "remaining_time": 677.3217209,
                        "test": [
                          8.702418087
                        ]
                      },
                      {
                        "learn": [
                          9.571245594
                        ],
                        "iteration": 106,
                        "passed_time": 183.7491637,
                        "remaining_time": 674.8917883,
                        "test": [
                          8.702091135
                        ]
                      },
                      {
                        "learn": [
                          9.570532054
                        ],
                        "iteration": 107,
                        "passed_time": 185.2065449,
                        "remaining_time": 672.231163,
                        "test": [
                          8.702009272
                        ]
                      },
                      {
                        "learn": [
                          9.569654096
                        ],
                        "iteration": 108,
                        "passed_time": 187.50434,
                        "remaining_time": 672.6073114,
                        "test": [
                          8.702578641
                        ]
                      },
                      {
                        "learn": [
                          9.569098827
                        ],
                        "iteration": 109,
                        "passed_time": 190.0996831,
                        "remaining_time": 673.9897857,
                        "test": [
                          8.702509121
                        ]
                      },
                      {
                        "learn": [
                          9.568602413
                        ],
                        "iteration": 110,
                        "passed_time": 192.114813,
                        "remaining_time": 673.2672276,
                        "test": [
                          8.702524569
                        ]
                      },
                      {
                        "learn": [
                          9.567989951
                        ],
                        "iteration": 111,
                        "passed_time": 193.620876,
                        "remaining_time": 670.7580348,
                        "test": [
                          8.702512556
                        ]
                      },
                      {
                        "learn": [
                          9.567439875
                        ],
                        "iteration": 112,
                        "passed_time": 195.0585636,
                        "remaining_time": 668.0324258,
                        "test": [
                          8.702322258
                        ]
                      },
                      {
                        "learn": [
                          9.566759678
                        ],
                        "iteration": 113,
                        "passed_time": 196.2490017,
                        "remaining_time": 664.4922338,
                        "test": [
                          8.702069371
                        ]
                      },
                      {
                        "learn": [
                          9.566090985
                        ],
                        "iteration": 114,
                        "passed_time": 197.797666,
                        "remaining_time": 662.1921863,
                        "test": [
                          8.70185381
                        ]
                      },
                      {
                        "learn": [
                          9.565271847
                        ],
                        "iteration": 115,
                        "passed_time": 199.2712633,
                        "remaining_time": 659.6565958,
                        "test": [
                          8.701986232
                        ]
                      },
                      {
                        "learn": [
                          9.564622509
                        ],
                        "iteration": 116,
                        "passed_time": 200.7088058,
                        "remaining_time": 657.0211334,
                        "test": [
                          8.7019122
                        ]
                      },
                      {
                        "learn": [
                          9.5640016
                        ],
                        "iteration": 117,
                        "passed_time": 202.3586603,
                        "remaining_time": 655.0932902,
                        "test": [
                          8.70193158
                        ]
                      },
                      {
                        "learn": [
                          9.563396581
                        ],
                        "iteration": 118,
                        "passed_time": 204.9336241,
                        "remaining_time": 656.1320234,
                        "test": [
                          8.701902059
                        ]
                      },
                      {
                        "learn": [
                          9.56284339
                        ],
                        "iteration": 119,
                        "passed_time": 207.9925047,
                        "remaining_time": 658.6429316,
                        "test": [
                          8.701717964
                        ]
                      },
                      {
                        "learn": [
                          9.562028002
                        ],
                        "iteration": 120,
                        "passed_time": 209.5020804,
                        "remaining_time": 656.2089957,
                        "test": [
                          8.701717258
                        ]
                      },
                      {
                        "learn": [
                          9.561463688
                        ],
                        "iteration": 121,
                        "passed_time": 210.9948604,
                        "remaining_time": 653.7381739,
                        "test": [
                          8.701689865
                        ]
                      },
                      {
                        "learn": [
                          9.560679506
                        ],
                        "iteration": 122,
                        "passed_time": 212.4607629,
                        "remaining_time": 651.200875,
                        "test": [
                          8.701803832
                        ]
                      },
                      {
                        "learn": [
                          9.559886946
                        ],
                        "iteration": 123,
                        "passed_time": 213.8140914,
                        "remaining_time": 648.339503,
                        "test": [
                          8.702140445
                        ]
                      },
                      {
                        "learn": [
                          9.559017068
                        ],
                        "iteration": 124,
                        "passed_time": 215.2679811,
                        "remaining_time": 645.8039434,
                        "test": [
                          8.702192737
                        ]
                      },
                      {
                        "learn": [
                          9.558480812
                        ],
                        "iteration": 125,
                        "passed_time": 216.8044966,
                        "remaining_time": 643.5308075,
                        "test": [
                          8.702153616
                        ]
                      },
                      {
                        "learn": [
                          9.558091498
                        ],
                        "iteration": 126,
                        "passed_time": 218.1150545,
                        "remaining_time": 640.6056325,
                        "test": [
                          8.702042455
                        ]
                      },
                      {
                        "learn": [
                          9.557243293
                        ],
                        "iteration": 127,
                        "passed_time": 220.508171,
                        "remaining_time": 640.8518721,
                        "test": [
                          8.702024609
                        ]
                      },
                      {
                        "learn": [
                          9.556502184
                        ],
                        "iteration": 128,
                        "passed_time": 222.7634774,
                        "remaining_time": 640.6608537,
                        "test": [
                          8.702721116
                        ]
                      },
                      {
                        "learn": [
                          9.55572647
                        ],
                        "iteration": 129,
                        "passed_time": 224.7386631,
                        "remaining_time": 639.6408104,
                        "test": [
                          8.702677692
                        ]
                      },
                      {
                        "learn": [
                          9.555127465
                        ],
                        "iteration": 130,
                        "passed_time": 226.2453514,
                        "remaining_time": 637.2865241,
                        "test": [
                          8.702839373
                        ]
                      },
                      {
                        "learn": [
                          9.554552977
                        ],
                        "iteration": 131,
                        "passed_time": 227.6752718,
                        "remaining_time": 634.7310608,
                        "test": [
                          8.702859671
                        ]
                      },
                      {
                        "learn": [
                          9.553970073
                        ],
                        "iteration": 132,
                        "passed_time": 229.045714,
                        "remaining_time": 632.0283988,
                        "test": [
                          8.702842315
                        ]
                      },
                      {
                        "learn": [
                          9.553188698
                        ],
                        "iteration": 133,
                        "passed_time": 230.4776594,
                        "remaining_time": 629.513607,
                        "test": [
                          8.703287319
                        ]
                      },
                      {
                        "learn": [
                          9.552655269
                        ],
                        "iteration": 134,
                        "passed_time": 231.8829676,
                        "remaining_time": 626.9428384,
                        "test": [
                          8.703228488
                        ]
                      },
                      {
                        "learn": [
                          9.552197684
                        ],
                        "iteration": 135,
                        "passed_time": 233.0646082,
                        "remaining_time": 623.7905689,
                        "test": [
                          8.703261581
                        ]
                      },
                      {
                        "learn": [
                          9.551554402
                        ],
                        "iteration": 136,
                        "passed_time": 234.5914507,
                        "remaining_time": 621.5817272,
                        "test": [
                          8.703212724
                        ]
                      },
                      {
                        "learn": [
                          9.551016094
                        ],
                        "iteration": 137,
                        "passed_time": 236.9984439,
                        "remaining_time": 621.6915702,
                        "test": [
                          8.703316726
                        ]
                      },
                      {
                        "learn": [
                          9.550550353
                        ],
                        "iteration": 138,
                        "passed_time": 239.8107674,
                        "remaining_time": 622.8178922,
                        "test": [
                          8.703216222
                        ]
                      },
                      {
                        "learn": [
                          9.549960396
                        ],
                        "iteration": 139,
                        "passed_time": 241.5323294,
                        "remaining_time": 621.0831326,
                        "test": [
                          8.703392215
                        ]
                      },
                      {
                        "learn": [
                          9.549348584
                        ],
                        "iteration": 140,
                        "passed_time": 243.0010588,
                        "remaining_time": 618.7048235,
                        "test": [
                          8.703215902
                        ]
                      },
                      {
                        "learn": [
                          9.548482642
                        ],
                        "iteration": 141,
                        "passed_time": 244.4420723,
                        "remaining_time": 616.2694499,
                        "test": [
                          8.703368975
                        ]
                      },
                      {
                        "learn": [
                          9.547925776
                        ],
                        "iteration": 142,
                        "passed_time": 245.5973114,
                        "remaining_time": 613.1345467,
                        "test": [
                          8.70344628
                        ]
                      },
                      {
                        "learn": [
                          9.54717809
                        ],
                        "iteration": 143,
                        "passed_time": 247.0181166,
                        "remaining_time": 610.6836772,
                        "test": [
                          8.703305251
                        ]
                      },
                      {
                        "learn": [
                          9.546569125
                        ],
                        "iteration": 144,
                        "passed_time": 248.2082545,
                        "remaining_time": 607.6822782,
                        "test": [
                          8.703348961
                        ]
                      },
                      {
                        "learn": [
                          9.546164127
                        ],
                        "iteration": 145,
                        "passed_time": 249.3742503,
                        "remaining_time": 604.6471547,
                        "test": [
                          8.703397048
                        ]
                      },
                      {
                        "learn": [
                          9.545485383
                        ],
                        "iteration": 146,
                        "passed_time": 251.0557843,
                        "remaining_time": 602.8754549,
                        "test": [
                          8.703832563
                        ]
                      },
                      {
                        "learn": [
                          9.544815368
                        ],
                        "iteration": 147,
                        "passed_time": 253.5934117,
                        "remaining_time": 603.1410873,
                        "test": [
                          8.703770326
                        ]
                      },
                      {
                        "learn": [
                          9.544204508
                        ],
                        "iteration": 148,
                        "passed_time": 256.492816,
                        "remaining_time": 604.2213317,
                        "test": [
                          8.703813377
                        ]
                      },
                      {
                        "learn": [
                          9.543655044
                        ],
                        "iteration": 149,
                        "passed_time": 258.0853003,
                        "remaining_time": 602.1990341,
                        "test": [
                          8.703636113
                        ]
                      },
                      {
                        "learn": [
                          9.542935699
                        ],
                        "iteration": 150,
                        "passed_time": 259.4652782,
                        "remaining_time": 599.6912721,
                        "test": [
                          8.70348897
                        ]
                      },
                      {
                        "learn": [
                          9.542324326
                        ],
                        "iteration": 151,
                        "passed_time": 260.8678252,
                        "remaining_time": 597.2500208,
                        "test": [
                          8.703388492
                        ]
                      },
                      {
                        "learn": [
                          9.541642308
                        ],
                        "iteration": 152,
                        "passed_time": 262.2812179,
                        "remaining_time": 594.8469451,
                        "test": [
                          8.703600945
                        ]
                      },
                      {
                        "learn": [
                          9.540500971
                        ],
                        "iteration": 153,
                        "passed_time": 263.5075401,
                        "remaining_time": 592.0364212,
                        "test": [
                          8.703572253
                        ]
                      },
                      {
                        "learn": [
                          9.539193016
                        ],
                        "iteration": 154,
                        "passed_time": 264.9929905,
                        "remaining_time": 589.8231078,
                        "test": [
                          8.703444963
                        ]
                      },
                      {
                        "learn": [
                          9.538202998
                        ],
                        "iteration": 155,
                        "passed_time": 266.3842354,
                        "remaining_time": 587.411391,
                        "test": [
                          8.703588469
                        ]
                      },
                      {
                        "learn": [
                          9.537705305
                        ],
                        "iteration": 156,
                        "passed_time": 268.1596794,
                        "remaining_time": 585.8520384,
                        "test": [
                          8.70386095
                        ]
                      },
                      {
                        "learn": [
                          9.537138729
                        ],
                        "iteration": 157,
                        "passed_time": 270.755165,
                        "remaining_time": 586.0649774,
                        "test": [
                          8.703796755
                        ]
                      },
                      {
                        "learn": [
                          9.536391093
                        ],
                        "iteration": 158,
                        "passed_time": 273.2825675,
                        "remaining_time": 586.0965755,
                        "test": [
                          8.704463598
                        ]
                      },
                      {
                        "learn": [
                          9.535920881
                        ],
                        "iteration": 159,
                        "passed_time": 274.6539253,
                        "remaining_time": 583.6395913,
                        "test": [
                          8.704415894
                        ]
                      },
                      {
                        "learn": [
                          9.535413478
                        ],
                        "iteration": 160,
                        "passed_time": 276.0907159,
                        "remaining_time": 581.3338677,
                        "test": [
                          8.704414214
                        ]
                      },
                      {
                        "learn": [
                          9.534833747
                        ],
                        "iteration": 161,
                        "passed_time": 277.291849,
                        "remaining_time": 578.547191,
                        "test": [
                          8.704319004
                        ]
                      },
                      {
                        "learn": [
                          9.534234689
                        ],
                        "iteration": 162,
                        "passed_time": 278.6501614,
                        "remaining_time": 576.104935,
                        "test": [
                          8.704065989
                        ]
                      },
                      {
                        "learn": [
                          9.533388063
                        ],
                        "iteration": 163,
                        "passed_time": 280.0903296,
                        "remaining_time": 573.8436021,
                        "test": [
                          8.70424482
                        ]
                      },
                      {
                        "learn": [
                          9.532810368
                        ],
                        "iteration": 164,
                        "passed_time": 281.254675,
                        "remaining_time": 571.032219,
                        "test": [
                          8.704231508
                        ]
                      },
                      {
                        "learn": [
                          9.53221792
                        ],
                        "iteration": 165,
                        "passed_time": 282.5267479,
                        "remaining_time": 568.4574324,
                        "test": [
                          8.704106129
                        ]
                      },
                      {
                        "learn": [
                          9.531309272
                        ],
                        "iteration": 166,
                        "passed_time": 284.1512572,
                        "remaining_time": 566.6010099,
                        "test": [
                          8.704153398
                        ]
                      },
                      {
                        "learn": [
                          9.530719791
                        ],
                        "iteration": 167,
                        "passed_time": 286.3002165,
                        "remaining_time": 565.7837612,
                        "test": [
                          8.704131759
                        ]
                      },
                      {
                        "learn": [
                          9.530283738
                        ],
                        "iteration": 168,
                        "passed_time": 289.2023662,
                        "remaining_time": 566.4259362,
                        "test": [
                          8.704121269
                        ]
                      },
                      {
                        "learn": [
                          9.529883749
                        ],
                        "iteration": 169,
                        "passed_time": 290.4252735,
                        "remaining_time": 563.7667074,
                        "test": [
                          8.703876028
                        ]
                      },
                      {
                        "learn": [
                          9.529239152
                        ],
                        "iteration": 170,
                        "passed_time": 291.7356174,
                        "remaining_time": 561.2925037,
                        "test": [
                          8.70364765
                        ]
                      },
                      {
                        "learn": [
                          9.528584875
                        ],
                        "iteration": 171,
                        "passed_time": 293.1356793,
                        "remaining_time": 559.0029234,
                        "test": [
                          8.703600877
                        ]
                      },
                      {
                        "learn": [
                          9.528098103
                        ],
                        "iteration": 172,
                        "passed_time": 294.2690079,
                        "remaining_time": 556.2194542,
                        "test": [
                          8.703506727
                        ]
                      },
                      {
                        "learn": [
                          9.527479065
                        ],
                        "iteration": 173,
                        "passed_time": 295.660947,
                        "remaining_time": 553.9394753,
                        "test": [
                          8.703343281
                        ]
                      },
                      {
                        "learn": [
                          9.526972653
                        ],
                        "iteration": 174,
                        "passed_time": 297.0651325,
                        "remaining_time": 551.692389,
                        "test": [
                          8.703261876
                        ]
                      },
                      {
                        "learn": [
                          9.526260476
                        ],
                        "iteration": 175,
                        "passed_time": 298.4933426,
                        "remaining_time": 549.4991079,
                        "test": [
                          8.703239072
                        ]
                      },
                      {
                        "learn": [
                          9.525680942
                        ],
                        "iteration": 176,
                        "passed_time": 300.3272842,
                        "remaining_time": 548.0548746,
                        "test": [
                          8.703429855
                        ]
                      },
                      {
                        "learn": [
                          9.525121796
                        ],
                        "iteration": 177,
                        "passed_time": 302.3452721,
                        "remaining_time": 546.9392001,
                        "test": [
                          8.70335149
                        ]
                      },
                      {
                        "learn": [
                          9.524275118
                        ],
                        "iteration": 178,
                        "passed_time": 305.1434573,
                        "remaining_time": 547.2125688,
                        "test": [
                          8.70334473
                        ]
                      },
                      {
                        "learn": [
                          9.52378221
                        ],
                        "iteration": 179,
                        "passed_time": 306.7896138,
                        "remaining_time": 545.4037578,
                        "test": [
                          8.703353284
                        ]
                      },
                      {
                        "learn": [
                          9.523163127
                        ],
                        "iteration": 180,
                        "passed_time": 308.3208621,
                        "remaining_time": 543.3942266,
                        "test": [
                          8.703495433
                        ]
                      },
                      {
                        "learn": [
                          9.522686354
                        ],
                        "iteration": 181,
                        "passed_time": 309.897801,
                        "remaining_time": 541.4697841,
                        "test": [
                          8.703455092
                        ]
                      },
                      {
                        "learn": [
                          9.522227581
                        ],
                        "iteration": 182,
                        "passed_time": 311.1475758,
                        "remaining_time": 538.9824127,
                        "test": [
                          8.703418853
                        ]
                      },
                      {
                        "learn": [
                          9.521535469
                        ],
                        "iteration": 183,
                        "passed_time": 312.4154758,
                        "remaining_time": 536.5396215,
                        "test": [
                          8.703363337
                        ]
                      },
                      {
                        "learn": [
                          9.520554495
                        ],
                        "iteration": 184,
                        "passed_time": 313.6503913,
                        "remaining_time": 534.053369,
                        "test": [
                          8.703243046
                        ]
                      },
                      {
                        "learn": [
                          9.519908467
                        ],
                        "iteration": 185,
                        "passed_time": 315.0214525,
                        "remaining_time": 531.8104091,
                        "test": [
                          8.703176291
                        ]
                      },
                      {
                        "learn": [
                          9.519349992
                        ],
                        "iteration": 186,
                        "passed_time": 316.6054866,
                        "remaining_time": 529.9332476,
                        "test": [
                          8.703463007
                        ]
                      },
                      {
                        "learn": [
                          9.518759133
                        ],
                        "iteration": 187,
                        "passed_time": 319.183739,
                        "remaining_time": 529.7091838,
                        "test": [
                          8.703491503
                        ]
                      },
                      {
                        "learn": [
                          9.518143463
                        ],
                        "iteration": 188,
                        "passed_time": 321.9568401,
                        "remaining_time": 529.7808321,
                        "test": [
                          8.70336488
                        ]
                      },
                      {
                        "learn": [
                          9.517564471
                        ],
                        "iteration": 189,
                        "passed_time": 323.4353734,
                        "remaining_time": 527.7103462,
                        "test": [
                          8.703233783
                        ]
                      },
                      {
                        "learn": [
                          9.516889505
                        ],
                        "iteration": 190,
                        "passed_time": 324.8951669,
                        "remaining_time": 525.6157412,
                        "test": [
                          8.703500416
                        ]
                      },
                      {
                        "learn": [
                          9.515888658
                        ],
                        "iteration": 191,
                        "passed_time": 326.2963116,
                        "remaining_time": 523.4336665,
                        "test": [
                          8.703613986
                        ]
                      },
                      {
                        "learn": [
                          9.515362921
                        ],
                        "iteration": 192,
                        "passed_time": 327.807613,
                        "remaining_time": 521.4349077,
                        "test": [
                          8.703539442
                        ]
                      },
                      {
                        "learn": [
                          9.514964468
                        ],
                        "iteration": 193,
                        "passed_time": 328.9510048,
                        "remaining_time": 518.8608632,
                        "test": [
                          8.703560281
                        ]
                      },
                      {
                        "learn": [
                          9.514529435
                        ],
                        "iteration": 194,
                        "passed_time": 330.0274092,
                        "remaining_time": 516.1967169,
                        "test": [
                          8.70361459
                        ]
                      },
                      {
                        "learn": [
                          9.51417428
                        ],
                        "iteration": 195,
                        "passed_time": 331.1550389,
                        "remaining_time": 513.6282235,
                        "test": [
                          8.703628823
                        ]
                      },
                      {
                        "learn": [
                          9.513750193
                        ],
                        "iteration": 196,
                        "passed_time": 332.4107226,
                        "remaining_time": 511.2713144,
                        "test": [
                          8.703624019
                        ]
                      },
                      {
                        "learn": [
                          9.513249255
                        ],
                        "iteration": 197,
                        "passed_time": 334.864644,
                        "remaining_time": 510.7531439,
                        "test": [
                          8.703554615
                        ]
                      },
                      {
                        "learn": [
                          9.51259887
                        ],
                        "iteration": 198,
                        "passed_time": 337.7304909,
                        "remaining_time": 510.8385818,
                        "test": [
                          8.703450687
                        ]
                      },
                      {
                        "learn": [
                          9.51224417
                        ],
                        "iteration": 199,
                        "passed_time": 339.0125332,
                        "remaining_time": 508.5187999,
                        "test": [
                          8.703422687
                        ]
                      },
                      {
                        "learn": [
                          9.511803072
                        ],
                        "iteration": 200,
                        "passed_time": 340.4461817,
                        "remaining_time": 506.4348673,
                        "test": [
                          8.703454211
                        ]
                      },
                      {
                        "learn": [
                          9.511330404
                        ],
                        "iteration": 201,
                        "passed_time": 341.8694252,
                        "remaining_time": 504.3420233,
                        "test": [
                          8.703597186
                        ]
                      },
                      {
                        "learn": [
                          9.511016155
                        ],
                        "iteration": 202,
                        "passed_time": 342.9967545,
                        "remaining_time": 501.8228379,
                        "test": [
                          8.703639694
                        ]
                      },
                      {
                        "learn": [
                          9.509693436
                        ],
                        "iteration": 203,
                        "passed_time": 344.5158487,
                        "remaining_time": 499.8857413,
                        "test": [
                          8.70352446
                        ]
                      },
                      {
                        "learn": [
                          9.509384648
                        ],
                        "iteration": 204,
                        "passed_time": 345.5871964,
                        "remaining_time": 497.3084046,
                        "test": [
                          8.703835786
                        ]
                      },
                      {
                        "learn": [
                          9.508745982
                        ],
                        "iteration": 205,
                        "passed_time": 346.9614758,
                        "remaining_time": 495.1780285,
                        "test": [
                          8.703938046
                        ]
                      },
                      {
                        "learn": [
                          9.508085123
                        ],
                        "iteration": 206,
                        "passed_time": 348.269632,
                        "remaining_time": 492.9613632,
                        "test": [
                          8.704208824
                        ]
                      },
                      {
                        "learn": [
                          9.507661076
                        ],
                        "iteration": 207,
                        "passed_time": 350.2231434,
                        "remaining_time": 491.6594128,
                        "test": [
                          8.704130223
                        ]
                      },
                      {
                        "learn": [
                          9.507225713
                        ],
                        "iteration": 208,
                        "passed_time": 352.0909722,
                        "remaining_time": 490.2319278,
                        "test": [
                          8.704278963
                        ]
                      },
                      {
                        "learn": [
                          9.506838181
                        ],
                        "iteration": 209,
                        "passed_time": 354.6154698,
                        "remaining_time": 489.7070773,
                        "test": [
                          8.704208943
                        ]
                      },
                      {
                        "learn": [
                          9.506208138
                        ],
                        "iteration": 210,
                        "passed_time": 355.9991047,
                        "remaining_time": 487.6006695,
                        "test": [
                          8.7039842
                        ]
                      },
                      {
                        "learn": [
                          9.505591634
                        ],
                        "iteration": 211,
                        "passed_time": 357.3995988,
                        "remaining_time": 485.5239832,
                        "test": [
                          8.703971135
                        ]
                      },
                      {
                        "learn": [
                          9.505224768
                        ],
                        "iteration": 212,
                        "passed_time": 358.5355668,
                        "remaining_time": 483.0972191,
                        "test": [
                          8.704103831
                        ]
                      },
                      {
                        "learn": [
                          9.504707984
                        ],
                        "iteration": 213,
                        "passed_time": 359.9514569,
                        "remaining_time": 481.0566199,
                        "test": [
                          8.704049145
                        ]
                      },
                      {
                        "learn": [
                          9.504313513
                        ],
                        "iteration": 214,
                        "passed_time": 361.3691017,
                        "remaining_time": 479.0241581,
                        "test": [
                          8.704025841
                        ]
                      },
                      {
                        "learn": [
                          9.503976933
                        ],
                        "iteration": 215,
                        "passed_time": 362.7752961,
                        "remaining_time": 476.9823338,
                        "test": [
                          8.703945223
                        ]
                      },
                      {
                        "learn": [
                          9.50365747
                        ],
                        "iteration": 216,
                        "passed_time": 364.2283254,
                        "remaining_time": 475.0074474,
                        "test": [
                          8.70392684
                        ]
                      },
                      {
                        "learn": [
                          9.503282332
                        ],
                        "iteration": 217,
                        "passed_time": 366.1934785,
                        "remaining_time": 473.6998208,
                        "test": [
                          8.7039677
                        ]
                      },
                      {
                        "learn": [
                          9.502910282
                        ],
                        "iteration": 218,
                        "passed_time": 368.0165696,
                        "remaining_time": 472.2039089,
                        "test": [
                          8.703978899
                        ]
                      },
                      {
                        "learn": [
                          9.502457727
                        ],
                        "iteration": 219,
                        "passed_time": 370.82407,
                        "remaining_time": 471.9579073,
                        "test": [
                          8.704004918
                        ]
                      },
                      {
                        "learn": [
                          9.502134854
                        ],
                        "iteration": 220,
                        "passed_time": 371.9773712,
                        "remaining_time": 469.6003917,
                        "test": [
                          8.703902103
                        ]
                      },
                      {
                        "learn": [
                          9.501441109
                        ],
                        "iteration": 221,
                        "passed_time": 373.4473976,
                        "remaining_time": 467.6503448,
                        "test": [
                          8.703812082
                        ]
                      },
                      {
                        "learn": [
                          9.500959046
                        ],
                        "iteration": 222,
                        "passed_time": 374.5683462,
                        "remaining_time": 465.2709951,
                        "test": [
                          8.703708761
                        ]
                      },
                      {
                        "learn": [
                          9.500654077
                        ],
                        "iteration": 223,
                        "passed_time": 375.658674,
                        "remaining_time": 462.8651519,
                        "test": [
                          8.703830302
                        ]
                      },
                      {
                        "learn": [
                          9.50013272
                        ],
                        "iteration": 224,
                        "passed_time": 377.0822022,
                        "remaining_time": 460.8782471,
                        "test": [
                          8.703926752
                        ]
                      },
                      {
                        "learn": [
                          9.499635127
                        ],
                        "iteration": 225,
                        "passed_time": 378.4627164,
                        "remaining_time": 458.8441782,
                        "test": [
                          8.703899623
                        ]
                      },
                      {
                        "learn": [
                          9.499184882
                        ],
                        "iteration": 226,
                        "passed_time": 379.6265734,
                        "remaining_time": 456.5553063,
                        "test": [
                          8.703840427
                        ]
                      },
                      {
                        "learn": [
                          9.498556276
                        ],
                        "iteration": 227,
                        "passed_time": 381.2093175,
                        "remaining_time": 454.776028,
                        "test": [
                          8.704042458
                        ]
                      },
                      {
                        "learn": [
                          9.497811404
                        ],
                        "iteration": 228,
                        "passed_time": 383.6243808,
                        "remaining_time": 453.9834375,
                        "test": [
                          8.704135925
                        ]
                      },
                      {
                        "learn": [
                          9.497522301
                        ],
                        "iteration": 229,
                        "passed_time": 386.3058474,
                        "remaining_time": 453.489473,
                        "test": [
                          8.70408112
                        ]
                      },
                      {
                        "learn": [
                          9.497094859
                        ],
                        "iteration": 230,
                        "passed_time": 388.0751901,
                        "remaining_time": 451.9143988,
                        "test": [
                          8.704213881
                        ]
                      },
                      {
                        "learn": [
                          9.496562472
                        ],
                        "iteration": 231,
                        "passed_time": 389.1279537,
                        "remaining_time": 449.5098776,
                        "test": [
                          8.704218642
                        ]
                      },
                      {
                        "learn": [
                          9.496258912
                        ],
                        "iteration": 232,
                        "passed_time": 390.2133595,
                        "remaining_time": 447.1543648,
                        "test": [
                          8.704360006
                        ]
                      },
                      {
                        "learn": [
                          9.49584216
                        ],
                        "iteration": 233,
                        "passed_time": 391.4453964,
                        "remaining_time": 444.9763907,
                        "test": [
                          8.704379555
                        ]
                      },
                      {
                        "learn": [
                          9.495334675
                        ],
                        "iteration": 234,
                        "passed_time": 392.8880232,
                        "remaining_time": 443.0439411,
                        "test": [
                          8.704568517
                        ]
                      },
                      {
                        "learn": [
                          9.494653494
                        ],
                        "iteration": 235,
                        "passed_time": 394.1879747,
                        "remaining_time": 440.9560395,
                        "test": [
                          8.704603661
                        ]
                      },
                      {
                        "learn": [
                          9.49394579
                        ],
                        "iteration": 236,
                        "passed_time": 395.6270809,
                        "remaining_time": 439.0292079,
                        "test": [
                          8.704656783
                        ]
                      },
                      {
                        "learn": [
                          9.493279919
                        ],
                        "iteration": 237,
                        "passed_time": 396.7665281,
                        "remaining_time": 436.7765982,
                        "test": [
                          8.704536001
                        ]
                      },
                      {
                        "learn": [
                          9.492918486
                        ],
                        "iteration": 238,
                        "passed_time": 398.8697052,
                        "remaining_time": 435.585745,
                        "test": [
                          8.704495122
                        ]
                      },
                      {
                        "learn": [
                          9.492264216
                        ],
                        "iteration": 239,
                        "passed_time": 401.3349354,
                        "remaining_time": 434.7795134,
                        "test": [
                          8.704464579
                        ]
                      },
                      {
                        "learn": [
                          9.491596652
                        ],
                        "iteration": 240,
                        "passed_time": 403.6473388,
                        "remaining_time": 433.7952728,
                        "test": [
                          8.704627715
                        ]
                      },
                      {
                        "learn": [
                          9.491143805
                        ],
                        "iteration": 241,
                        "passed_time": 405.1394975,
                        "remaining_time": 431.92558,
                        "test": [
                          8.704713558
                        ]
                      },
                      {
                        "learn": [
                          9.490683002
                        ],
                        "iteration": 242,
                        "passed_time": 406.3756806,
                        "remaining_time": 429.7882712,
                        "test": [
                          8.70467025
                        ]
                      },
                      {
                        "learn": [
                          9.490092349
                        ],
                        "iteration": 243,
                        "passed_time": 407.5629024,
                        "remaining_time": 427.6069796,
                        "test": [
                          8.704656308
                        ]
                      },
                      {
                        "learn": [
                          9.489765504
                        ],
                        "iteration": 244,
                        "passed_time": 408.7053521,
                        "remaining_time": 425.3872032,
                        "test": [
                          8.704747626
                        ]
                      },
                      {
                        "learn": [
                          9.489252116
                        ],
                        "iteration": 245,
                        "passed_time": 410.0418039,
                        "remaining_time": 423.3764967,
                        "test": [
                          8.70461688
                        ]
                      },
                      {
                        "learn": [
                          9.488813626
                        ],
                        "iteration": 246,
                        "passed_time": 411.4582035,
                        "remaining_time": 421.4531396,
                        "test": [
                          8.70468719
                        ]
                      },
                      {
                        "learn": [
                          9.48833278
                        ],
                        "iteration": 247,
                        "passed_time": 412.8603308,
                        "remaining_time": 419.5193684,
                        "test": [
                          8.704789943
                        ]
                      },
                      {
                        "learn": [
                          9.488045008
                        ],
                        "iteration": 248,
                        "passed_time": 414.6696315,
                        "remaining_time": 418.0003113,
                        "test": [
                          8.704900799
                        ]
                      },
                      {
                        "learn": [
                          9.487480189
                        ],
                        "iteration": 249,
                        "passed_time": 416.8349977,
                        "remaining_time": 416.8349977,
                        "test": [
                          8.705085891
                        ]
                      },
                      {
                        "learn": [
                          9.487126326
                        ],
                        "iteration": 250,
                        "passed_time": 419.485337,
                        "remaining_time": 416.1428244,
                        "test": [
                          8.705066188
                        ]
                      },
                      {
                        "learn": [
                          9.486737714
                        ],
                        "iteration": 251,
                        "passed_time": 420.9948854,
                        "remaining_time": 414.3124269,
                        "test": [
                          8.704963421
                        ]
                      },
                      {
                        "learn": [
                          9.48611595
                        ],
                        "iteration": 252,
                        "passed_time": 422.4942366,
                        "remaining_time": 412.4746105,
                        "test": [
                          8.705012535
                        ]
                      },
                      {
                        "learn": [
                          9.485685967
                        ],
                        "iteration": 253,
                        "passed_time": 423.8768202,
                        "remaining_time": 410.5263692,
                        "test": [
                          8.704994049
                        ]
                      },
                      {
                        "learn": [
                          9.485233306
                        ],
                        "iteration": 254,
                        "passed_time": 425.3945627,
                        "remaining_time": 408.712423,
                        "test": [
                          8.704785425
                        ]
                      },
                      {
                        "learn": [
                          9.484882785
                        ],
                        "iteration": 255,
                        "passed_time": 426.5547177,
                        "remaining_time": 406.5599653,
                        "test": [
                          8.704802061
                        ]
                      },
                      {
                        "learn": [
                          9.484545014
                        ],
                        "iteration": 256,
                        "passed_time": 427.8834739,
                        "remaining_time": 404.5746465,
                        "test": [
                          8.704752058
                        ]
                      },
                      {
                        "learn": [
                          9.484255842
                        ],
                        "iteration": 257,
                        "passed_time": 429.2578345,
                        "remaining_time": 402.6371936,
                        "test": [
                          8.704940407
                        ]
                      },
                      {
                        "learn": [
                          9.483983758
                        ],
                        "iteration": 258,
                        "passed_time": 431.0940404,
                        "remaining_time": 401.1338368,
                        "test": [
                          8.705028196
                        ]
                      },
                      {
                        "learn": [
                          9.483638362
                        ],
                        "iteration": 259,
                        "passed_time": 433.8389062,
                        "remaining_time": 400.4666827,
                        "test": [
                          8.704940883
                        ]
                      },
                      {
                        "learn": [
                          9.483148957
                        ],
                        "iteration": 260,
                        "passed_time": 436.3146648,
                        "remaining_time": 399.5371835,
                        "test": [
                          8.704903424
                        ]
                      },
                      {
                        "learn": [
                          9.482802785
                        ],
                        "iteration": 261,
                        "passed_time": 437.5970065,
                        "remaining_time": 397.5117846,
                        "test": [
                          8.704944707
                        ]
                      },
                      {
                        "learn": [
                          9.482265685
                        ],
                        "iteration": 262,
                        "passed_time": 438.9797242,
                        "remaining_time": 395.5824891,
                        "test": [
                          8.705088595
                        ]
                      },
                      {
                        "learn": [
                          9.4818456
                        ],
                        "iteration": 263,
                        "passed_time": 440.1178003,
                        "remaining_time": 393.4386397,
                        "test": [
                          8.70486279
                        ]
                      },
                      {
                        "learn": [
                          9.481206683
                        ],
                        "iteration": 264,
                        "passed_time": 441.4082457,
                        "remaining_time": 391.4375009,
                        "test": [
                          8.704958617
                        ]
                      },
                      {
                        "learn": [
                          9.480887965
                        ],
                        "iteration": 265,
                        "passed_time": 442.6997949,
                        "remaining_time": 389.4426767,
                        "test": [
                          8.70503407
                        ]
                      },
                      {
                        "learn": [
                          9.48060373
                        ],
                        "iteration": 266,
                        "passed_time": 443.9959602,
                        "remaining_time": 387.4571488,
                        "test": [
                          8.704992773
                        ]
                      },
                      {
                        "learn": [
                          9.48007677
                        ],
                        "iteration": 267,
                        "passed_time": 445.1596238,
                        "remaining_time": 385.3620624,
                        "test": [
                          8.705139629
                        ]
                      },
                      {
                        "learn": [
                          9.479803151
                        ],
                        "iteration": 268,
                        "passed_time": 446.7243389,
                        "remaining_time": 383.6182985,
                        "test": [
                          8.705020293
                        ]
                      },
                      {
                        "learn": [
                          9.479255394
                        ],
                        "iteration": 269,
                        "passed_time": 448.7965554,
                        "remaining_time": 382.3081768,
                        "test": [
                          8.705071536
                        ]
                      },
                      {
                        "learn": [
                          9.478685134
                        ],
                        "iteration": 270,
                        "passed_time": 451.5689216,
                        "remaining_time": 381.5840703,
                        "test": [
                          8.705421777
                        ]
                      },
                      {
                        "learn": [
                          9.478447867
                        ],
                        "iteration": 271,
                        "passed_time": 453.202718,
                        "remaining_time": 379.8905136,
                        "test": [
                          8.70542247
                        ]
                      },
                      {
                        "learn": [
                          9.477963232
                        ],
                        "iteration": 272,
                        "passed_time": 454.6246852,
                        "remaining_time": 378.0212584,
                        "test": [
                          8.705427448
                        ]
                      },
                      {
                        "learn": [
                          9.477431748
                        ],
                        "iteration": 273,
                        "passed_time": 455.7889578,
                        "remaining_time": 375.942717,
                        "test": [
                          8.705435232
                        ]
                      },
                      {
                        "learn": [
                          9.47708409
                        ],
                        "iteration": 274,
                        "passed_time": 457.2542715,
                        "remaining_time": 374.1171312,
                        "test": [
                          8.705363027
                        ]
                      },
                      {
                        "learn": [
                          9.476685237
                        ],
                        "iteration": 275,
                        "passed_time": 458.5638714,
                        "remaining_time": 372.1677797,
                        "test": [
                          8.705343702
                        ]
                      },
                      {
                        "learn": [
                          9.475895619
                        ],
                        "iteration": 276,
                        "passed_time": 459.9378237,
                        "remaining_time": 370.2748544,
                        "test": [
                          8.705274455
                        ]
                      },
                      {
                        "learn": [
                          9.475621412
                        ],
                        "iteration": 277,
                        "passed_time": 461.4030307,
                        "remaining_time": 368.4585353,
                        "test": [
                          8.705170833
                        ]
                      },
                      {
                        "learn": [
                          9.474998557
                        ],
                        "iteration": 278,
                        "passed_time": 462.8472992,
                        "remaining_time": 366.6281474,
                        "test": [
                          8.705190312
                        ]
                      },
                      {
                        "learn": [
                          9.474844608
                        ],
                        "iteration": 279,
                        "passed_time": 465.0709064,
                        "remaining_time": 365.412855,
                        "test": [
                          8.70519832
                        ]
                      },
                      {
                        "learn": [
                          9.474404958
                        ],
                        "iteration": 280,
                        "passed_time": 467.5947217,
                        "remaining_time": 364.4243561,
                        "test": [
                          8.705301663
                        ]
                      },
                      {
                        "learn": [
                          9.474015217
                        ],
                        "iteration": 281,
                        "passed_time": 469.4361685,
                        "remaining_time": 362.8974636,
                        "test": [
                          8.705313586
                        ]
                      },
                      {
                        "learn": [
                          9.473741298
                        ],
                        "iteration": 282,
                        "passed_time": 470.6368844,
                        "remaining_time": 360.8770457,
                        "test": [
                          8.705316514
                        ]
                      },
                      {
                        "learn": [
                          9.473231763
                        ],
                        "iteration": 283,
                        "passed_time": 472.0669876,
                        "remaining_time": 359.0368638,
                        "test": [
                          8.705333615
                        ]
                      },
                      {
                        "learn": [
                          9.472908899
                        ],
                        "iteration": 284,
                        "passed_time": 473.5315442,
                        "remaining_time": 357.2255509,
                        "test": [
                          8.705265368
                        ]
                      },
                      {
                        "learn": [
                          9.47248365
                        ],
                        "iteration": 285,
                        "passed_time": 474.7988964,
                        "remaining_time": 355.2691043,
                        "test": [
                          8.705313024
                        ]
                      },
                      {
                        "learn": [
                          9.472075738
                        ],
                        "iteration": 286,
                        "passed_time": 476.2663154,
                        "remaining_time": 353.4659414,
                        "test": [
                          8.705196523
                        ]
                      },
                      {
                        "learn": [
                          9.471661025
                        ],
                        "iteration": 287,
                        "passed_time": 477.4312307,
                        "remaining_time": 351.4424337,
                        "test": [
                          8.705064851
                        ]
                      },
                      {
                        "learn": [
                          9.471256211
                        ],
                        "iteration": 288,
                        "passed_time": 478.641852,
                        "remaining_time": 349.458238,
                        "test": [
                          8.705041269
                        ]
                      },
                      {
                        "learn": [
                          9.470794008
                        ],
                        "iteration": 289,
                        "passed_time": 480.5331448,
                        "remaining_time": 347.9722773,
                        "test": [
                          8.705114468
                        ]
                      },
                      {
                        "learn": [
                          9.470583051
                        ],
                        "iteration": 290,
                        "passed_time": 482.8814565,
                        "remaining_time": 346.8117677,
                        "test": [
                          8.70518095
                        ]
                      },
                      {
                        "learn": [
                          9.470134341
                        ],
                        "iteration": 291,
                        "passed_time": 485.1858135,
                        "remaining_time": 345.6118123,
                        "test": [
                          8.705048851
                        ]
                      },
                      {
                        "learn": [
                          9.469501127
                        ],
                        "iteration": 292,
                        "passed_time": 486.6173361,
                        "remaining_time": 343.7876743,
                        "test": [
                          8.705048667
                        ]
                      },
                      {
                        "learn": [
                          9.469117223
                        ],
                        "iteration": 293,
                        "passed_time": 487.8348379,
                        "remaining_time": 341.816247,
                        "test": [
                          8.705343294
                        ]
                      },
                      {
                        "learn": [
                          9.468529456
                        ],
                        "iteration": 294,
                        "passed_time": 489.0473809,
                        "remaining_time": 339.846485,
                        "test": [
                          8.705543727
                        ]
                      },
                      {
                        "learn": [
                          9.468088166
                        ],
                        "iteration": 295,
                        "passed_time": 490.5708485,
                        "remaining_time": 338.0961253,
                        "test": [
                          8.705476705
                        ]
                      },
                      {
                        "learn": [
                          9.467529809
                        ],
                        "iteration": 296,
                        "passed_time": 491.9865697,
                        "remaining_time": 336.2736487,
                        "test": [
                          8.705723409
                        ]
                      },
                      {
                        "learn": [
                          9.467006667
                        ],
                        "iteration": 297,
                        "passed_time": 493.3553424,
                        "remaining_time": 334.4220778,
                        "test": [
                          8.705759382
                        ]
                      },
                      {
                        "learn": [
                          9.466600332
                        ],
                        "iteration": 298,
                        "passed_time": 494.7706828,
                        "remaining_time": 332.6050409,
                        "test": [
                          8.705723632
                        ]
                      },
                      {
                        "learn": [
                          9.466203754
                        ],
                        "iteration": 299,
                        "passed_time": 496.9126457,
                        "remaining_time": 331.2750971,
                        "test": [
                          8.705968078
                        ]
                      },
                      {
                        "learn": [
                          9.465792163
                        ],
                        "iteration": 300,
                        "passed_time": 499.1039463,
                        "remaining_time": 329.9723764,
                        "test": [
                          8.705945917
                        ]
                      },
                      {
                        "learn": [
                          9.465472008
                        ],
                        "iteration": 301,
                        "passed_time": 501.2970505,
                        "remaining_time": 328.6649536,
                        "test": [
                          8.705955411
                        ]
                      },
                      {
                        "learn": [
                          9.465134548
                        ],
                        "iteration": 302,
                        "passed_time": 502.5060136,
                        "remaining_time": 326.7118306,
                        "test": [
                          8.706456562
                        ]
                      },
                      {
                        "learn": [
                          9.464765007
                        ],
                        "iteration": 303,
                        "passed_time": 503.7716324,
                        "remaining_time": 324.8001314,
                        "test": [
                          8.706505154
                        ]
                      },
                      {
                        "learn": [
                          9.464322
                        ],
                        "iteration": 304,
                        "passed_time": 505.1940894,
                        "remaining_time": 322.9929424,
                        "test": [
                          8.706537726
                        ]
                      },
                      {
                        "learn": [
                          9.464045516
                        ],
                        "iteration": 305,
                        "passed_time": 506.6548126,
                        "remaining_time": 321.2125283,
                        "test": [
                          8.70657588
                        ]
                      },
                      {
                        "learn": [
                          9.463602069
                        ],
                        "iteration": 306,
                        "passed_time": 507.8971735,
                        "remaining_time": 319.2969201,
                        "test": [
                          8.706638602
                        ]
                      },
                      {
                        "learn": [
                          9.463379034
                        ],
                        "iteration": 307,
                        "passed_time": 509.0659706,
                        "remaining_time": 317.3398259,
                        "test": [
                          8.706494944
                        ]
                      },
                      {
                        "learn": [
                          9.462879606
                        ],
                        "iteration": 308,
                        "passed_time": 510.514956,
                        "remaining_time": 315.5610246,
                        "test": [
                          8.706497579
                        ]
                      },
                      {
                        "learn": [
                          9.462718711
                        ],
                        "iteration": 309,
                        "passed_time": 512.1758505,
                        "remaining_time": 313.914231,
                        "test": [
                          8.706534303
                        ]
                      },
                      {
                        "learn": [
                          9.462360502
                        ],
                        "iteration": 310,
                        "passed_time": 514.6188208,
                        "remaining_time": 312.7426274,
                        "test": [
                          8.70657007
                        ]
                      },
                      {
                        "learn": [
                          9.461713357
                        ],
                        "iteration": 311,
                        "passed_time": 517.0144657,
                        "remaining_time": 311.5343575,
                        "test": [
                          8.706682855
                        ]
                      },
                      {
                        "learn": [
                          9.461323498
                        ],
                        "iteration": 312,
                        "passed_time": 518.3932614,
                        "remaining_time": 309.71099,
                        "test": [
                          8.706687947
                        ]
                      },
                      {
                        "learn": [
                          9.460951889
                        ],
                        "iteration": 313,
                        "passed_time": 519.8293825,
                        "remaining_time": 307.9244113,
                        "test": [
                          8.706758452
                        ]
                      },
                      {
                        "learn": [
                          9.460486948
                        ],
                        "iteration": 314,
                        "passed_time": 521.2532991,
                        "remaining_time": 306.13289,
                        "test": [
                          8.706827023
                        ]
                      },
                      {
                        "learn": [
                          9.460026714
                        ],
                        "iteration": 315,
                        "passed_time": 522.4898458,
                        "remaining_time": 304.2345938,
                        "test": [
                          8.706901922
                        ]
                      },
                      {
                        "learn": [
                          9.459683023
                        ],
                        "iteration": 316,
                        "passed_time": 523.6738751,
                        "remaining_time": 302.310155,
                        "test": [
                          8.706871058
                        ]
                      },
                      {
                        "learn": [
                          9.459240483
                        ],
                        "iteration": 317,
                        "passed_time": 525.0578632,
                        "remaining_time": 300.5048148,
                        "test": [
                          8.707026321
                        ]
                      },
                      {
                        "learn": [
                          9.458845714
                        ],
                        "iteration": 318,
                        "passed_time": 526.477541,
                        "remaining_time": 298.7223665,
                        "test": [
                          8.707322129
                        ]
                      },
                      {
                        "learn": [
                          9.458514356
                        ],
                        "iteration": 319,
                        "passed_time": 528.1425695,
                        "remaining_time": 297.0801953,
                        "test": [
                          8.70718927
                        ]
                      },
                      {
                        "learn": [
                          9.458206975
                        ],
                        "iteration": 320,
                        "passed_time": 530.5536054,
                        "remaining_time": 295.8538797,
                        "test": [
                          8.70716625
                        ]
                      },
                      {
                        "learn": [
                          9.457732678
                        ],
                        "iteration": 321,
                        "passed_time": 533.5032097,
                        "remaining_time": 294.9179234,
                        "test": [
                          8.707195985
                        ]
                      },
                      {
                        "learn": [
                          9.457337442
                        ],
                        "iteration": 322,
                        "passed_time": 534.9002924,
                        "remaining_time": 293.1187361,
                        "test": [
                          8.707213091
                        ]
                      },
                      {
                        "learn": [
                          9.456974097
                        ],
                        "iteration": 323,
                        "passed_time": 536.3600315,
                        "remaining_time": 291.3560665,
                        "test": [
                          8.707203711
                        ]
                      },
                      {
                        "learn": [
                          9.456233495
                        ],
                        "iteration": 324,
                        "passed_time": 537.5496995,
                        "remaining_time": 289.4498382,
                        "test": [
                          8.707311586
                        ]
                      },
                      {
                        "learn": [
                          9.455838995
                        ],
                        "iteration": 325,
                        "passed_time": 539.0054844,
                        "remaining_time": 287.6900438,
                        "test": [
                          8.707283646
                        ]
                      },
                      {
                        "learn": [
                          9.4550541
                        ],
                        "iteration": 326,
                        "passed_time": 540.4822914,
                        "remaining_time": 285.9432306,
                        "test": [
                          8.707228274
                        ]
                      },
                      {
                        "learn": [
                          9.454804096
                        ],
                        "iteration": 327,
                        "passed_time": 541.753088,
                        "remaining_time": 284.090034,
                        "test": [
                          8.707076624
                        ]
                      },
                      {
                        "learn": [
                          9.454525551
                        ],
                        "iteration": 328,
                        "passed_time": 542.8792301,
                        "remaining_time": 282.1651925,
                        "test": [
                          8.707107191
                        ]
                      },
                      {
                        "learn": [
                          9.454163544
                        ],
                        "iteration": 329,
                        "passed_time": 544.7928645,
                        "remaining_time": 280.6508696,
                        "test": [
                          8.707178687
                        ]
                      },
                      {
                        "learn": [
                          9.453809568
                        ],
                        "iteration": 330,
                        "passed_time": 547.2342955,
                        "remaining_time": 279.4036131,
                        "test": [
                          8.707104303
                        ]
                      },
                      {
                        "learn": [
                          9.453338009
                        ],
                        "iteration": 331,
                        "passed_time": 549.6615551,
                        "remaining_time": 278.1419917,
                        "test": [
                          8.707081935
                        ]
                      },
                      {
                        "learn": [
                          9.453175575
                        ],
                        "iteration": 332,
                        "passed_time": 550.8010922,
                        "remaining_time": 276.2275748,
                        "test": [
                          8.707214998
                        ]
                      },
                      {
                        "learn": [
                          9.453128198
                        ],
                        "iteration": 333,
                        "passed_time": 551.5704496,
                        "remaining_time": 274.1338163,
                        "test": [
                          8.707236914
                        ]
                      },
                      {
                        "learn": [
                          9.452544818
                        ],
                        "iteration": 334,
                        "passed_time": 552.7292986,
                        "remaining_time": 272.2398038,
                        "test": [
                          8.707491358
                        ]
                      },
                      {
                        "learn": [
                          9.452119836
                        ],
                        "iteration": 335,
                        "passed_time": 554.0910734,
                        "remaining_time": 270.4492144,
                        "test": [
                          8.707530349
                        ]
                      },
                      {
                        "learn": [
                          9.451795859
                        ],
                        "iteration": 336,
                        "passed_time": 555.5091507,
                        "remaining_time": 268.6884023,
                        "test": [
                          8.707546481
                        ]
                      },
                      {
                        "learn": [
                          9.451581129
                        ],
                        "iteration": 337,
                        "passed_time": 556.6383416,
                        "remaining_time": 266.7911578,
                        "test": [
                          8.707692362
                        ]
                      },
                      {
                        "learn": [
                          9.450997095
                        ],
                        "iteration": 338,
                        "passed_time": 558.0957912,
                        "remaining_time": 265.0543433,
                        "test": [
                          8.707738511
                        ]
                      },
                      {
                        "learn": [
                          9.450515748
                        ],
                        "iteration": 339,
                        "passed_time": 559.4756591,
                        "remaining_time": 263.2826631,
                        "test": [
                          8.707656241
                        ]
                      },
                      {
                        "learn": [
                          9.450287016
                        ],
                        "iteration": 340,
                        "passed_time": 561.3878527,
                        "remaining_time": 261.7614915,
                        "test": [
                          8.707715771
                        ]
                      },
                      {
                        "learn": [
                          9.44993754
                        ],
                        "iteration": 341,
                        "passed_time": 564.049864,
                        "remaining_time": 260.5844401,
                        "test": [
                          8.707652201
                        ]
                      },
                      {
                        "learn": [
                          9.449541865
                        ],
                        "iteration": 342,
                        "passed_time": 566.4058029,
                        "remaining_time": 259.2586328,
                        "test": [
                          8.707674364
                        ]
                      },
                      {
                        "learn": [
                          9.448970173
                        ],
                        "iteration": 343,
                        "passed_time": 567.8272875,
                        "remaining_time": 257.5030723,
                        "test": [
                          8.707646638
                        ]
                      },
                      {
                        "learn": [
                          9.44879699
                        ],
                        "iteration": 344,
                        "passed_time": 569.0051201,
                        "remaining_time": 255.6399815,
                        "test": [
                          8.707651657
                        ]
                      },
                      {
                        "learn": [
                          9.448500606
                        ],
                        "iteration": 345,
                        "passed_time": 570.2623569,
                        "remaining_time": 253.8161936,
                        "test": [
                          8.707606314
                        ]
                      },
                      {
                        "learn": [
                          9.448211715
                        ],
                        "iteration": 346,
                        "passed_time": 571.6305219,
                        "remaining_time": 252.0445817,
                        "test": [
                          8.707647626
                        ]
                      },
                      {
                        "learn": [
                          9.447726583
                        ],
                        "iteration": 347,
                        "passed_time": 572.7890422,
                        "remaining_time": 250.1837196,
                        "test": [
                          8.707591476
                        ]
                      },
                      {
                        "learn": [
                          9.447393312
                        ],
                        "iteration": 348,
                        "passed_time": 574.2314633,
                        "remaining_time": 248.4497162,
                        "test": [
                          8.707746434
                        ]
                      },
                      {
                        "learn": [
                          9.446889289
                        ],
                        "iteration": 349,
                        "passed_time": 575.4065727,
                        "remaining_time": 246.6028169,
                        "test": [
                          8.707837304
                        ]
                      },
                      {
                        "learn": [
                          9.446791735
                        ],
                        "iteration": 350,
                        "passed_time": 576.5637591,
                        "remaining_time": 244.7521371,
                        "test": [
                          8.707866852
                        ]
                      },
                      {
                        "learn": [
                          9.446340814
                        ],
                        "iteration": 351,
                        "passed_time": 579.0918058,
                        "remaining_time": 243.481782,
                        "test": [
                          8.707797058
                        ]
                      },
                      {
                        "learn": [
                          9.445756963
                        ],
                        "iteration": 352,
                        "passed_time": 581.7391021,
                        "remaining_time": 242.2539604,
                        "test": [
                          8.707516858
                        ]
                      },
                      {
                        "learn": [
                          9.445120931
                        ],
                        "iteration": 353,
                        "passed_time": 583.3161958,
                        "remaining_time": 240.5767361,
                        "test": [
                          8.707584669
                        ]
                      },
                      {
                        "learn": [
                          9.444843793
                        ],
                        "iteration": 354,
                        "passed_time": 584.777956,
                        "remaining_time": 238.852968,
                        "test": [
                          8.707543852
                        ]
                      },
                      {
                        "learn": [
                          9.44421358
                        ],
                        "iteration": 355,
                        "passed_time": 585.9954155,
                        "remaining_time": 237.0318535,
                        "test": [
                          8.707739636
                        ]
                      },
                      {
                        "learn": [
                          9.443828642
                        ],
                        "iteration": 356,
                        "passed_time": 587.2710741,
                        "remaining_time": 235.237433,
                        "test": [
                          8.707746835
                        ]
                      },
                      {
                        "learn": [
                          9.443129775
                        ],
                        "iteration": 357,
                        "passed_time": 588.6781679,
                        "remaining_time": 233.4980443,
                        "test": [
                          8.707888675
                        ]
                      },
                      {
                        "learn": [
                          9.442927906
                        ],
                        "iteration": 358,
                        "passed_time": 589.6992377,
                        "remaining_time": 231.6088928,
                        "test": [
                          8.707946249
                        ]
                      },
                      {
                        "learn": [
                          9.44263723
                        ],
                        "iteration": 359,
                        "passed_time": 590.7768114,
                        "remaining_time": 229.7465377,
                        "test": [
                          8.707997385
                        ]
                      },
                      {
                        "learn": [
                          9.442202213
                        ],
                        "iteration": 360,
                        "passed_time": 592.0447267,
                        "remaining_time": 227.96182,
                        "test": [
                          8.707987301
                        ]
                      },
                      {
                        "learn": [
                          9.441659142
                        ],
                        "iteration": 361,
                        "passed_time": 594.0666177,
                        "remaining_time": 226.4673846,
                        "test": [
                          8.707255667
                        ]
                      },
                      {
                        "learn": [
                          9.441196981
                        ],
                        "iteration": 362,
                        "passed_time": 596.7857214,
                        "remaining_time": 225.2331786,
                        "test": [
                          8.707212898
                        ]
                      },
                      {
                        "learn": [
                          9.440886228
                        ],
                        "iteration": 363,
                        "passed_time": 598.9845489,
                        "remaining_time": 223.7964248,
                        "test": [
                          8.707243076
                        ]
                      },
                      {
                        "learn": [
                          9.440323051
                        ],
                        "iteration": 364,
                        "passed_time": 600.4236413,
                        "remaining_time": 222.0744975,
                        "test": [
                          8.707265583
                        ]
                      },
                      {
                        "learn": [
                          9.439702413
                        ],
                        "iteration": 365,
                        "passed_time": 601.8826881,
                        "remaining_time": 220.3614213,
                        "test": [
                          8.707410762
                        ]
                      },
                      {
                        "learn": [
                          9.439162881
                        ],
                        "iteration": 366,
                        "passed_time": 603.3376813,
                        "remaining_time": 218.6482605,
                        "test": [
                          8.707649486
                        ]
                      },
                      {
                        "learn": [
                          9.438987136
                        ],
                        "iteration": 367,
                        "passed_time": 604.4527743,
                        "remaining_time": 216.8145821,
                        "test": [
                          8.707771879
                        ]
                      },
                      {
                        "learn": [
                          9.43867347
                        ],
                        "iteration": 368,
                        "passed_time": 605.9674992,
                        "remaining_time": 215.1266732,
                        "test": [
                          8.707763072
                        ]
                      },
                      {
                        "learn": [
                          9.43826334
                        ],
                        "iteration": 369,
                        "passed_time": 607.3397389,
                        "remaining_time": 213.389638,
                        "test": [
                          8.707785233
                        ]
                      },
                      {
                        "learn": [
                          9.437905945
                        ],
                        "iteration": 370,
                        "passed_time": 608.8998558,
                        "remaining_time": 211.7198959,
                        "test": [
                          8.707758218
                        ]
                      },
                      {
                        "learn": [
                          9.437700649
                        ],
                        "iteration": 371,
                        "passed_time": 610.646409,
                        "remaining_time": 210.1148934,
                        "test": [
                          8.707873133
                        ]
                      },
                      {
                        "learn": [
                          9.437393597
                        ],
                        "iteration": 372,
                        "passed_time": 612.8537977,
                        "remaining_time": 208.6660384,
                        "test": [
                          8.707943424
                        ]
                      },
                      {
                        "learn": [
                          9.436932704
                        ],
                        "iteration": 373,
                        "passed_time": 615.4923718,
                        "remaining_time": 207.3583926,
                        "test": [
                          8.70813577
                        ]
                      },
                      {
                        "learn": [
                          9.436449529
                        ],
                        "iteration": 374,
                        "passed_time": 616.7264123,
                        "remaining_time": 205.5754708,
                        "test": [
                          8.708088888
                        ]
                      },
                      {
                        "learn": [
                          9.436047398
                        ],
                        "iteration": 375,
                        "passed_time": 618.1835236,
                        "remaining_time": 203.8690344,
                        "test": [
                          8.708076841
                        ]
                      },
                      {
                        "learn": [
                          9.435521179
                        ],
                        "iteration": 376,
                        "passed_time": 619.3887044,
                        "remaining_time": 202.0817258,
                        "test": [
                          8.708216236
                        ]
                      },
                      {
                        "learn": [
                          9.435139661
                        ],
                        "iteration": 377,
                        "passed_time": 620.794212,
                        "remaining_time": 200.3621531,
                        "test": [
                          8.70818488
                        ]
                      },
                      {
                        "learn": [
                          9.434681914
                        ],
                        "iteration": 378,
                        "passed_time": 622.0120104,
                        "remaining_time": 198.5843094,
                        "test": [
                          8.708203283
                        ]
                      },
                      {
                        "learn": [
                          9.43447574
                        ],
                        "iteration": 379,
                        "passed_time": 623.430798,
                        "remaining_time": 196.8728836,
                        "test": [
                          8.70827087
                        ]
                      },
                      {
                        "learn": [
                          9.433764427
                        ],
                        "iteration": 380,
                        "passed_time": 624.9498957,
                        "remaining_time": 195.1943244,
                        "test": [
                          8.708478291
                        ]
                      },
                      {
                        "learn": [
                          9.433366349
                        ],
                        "iteration": 381,
                        "passed_time": 626.9187424,
                        "remaining_time": 193.6555277,
                        "test": [
                          8.708841075
                        ]
                      },
                      {
                        "learn": [
                          9.432805978
                        ],
                        "iteration": 382,
                        "passed_time": 629.1056665,
                        "remaining_time": 192.1811044,
                        "test": [
                          8.708982608
                        ]
                      },
                      {
                        "learn": [
                          9.432421761
                        ],
                        "iteration": 383,
                        "passed_time": 631.4392652,
                        "remaining_time": 190.747278,
                        "test": [
                          8.708935676
                        ]
                      },
                      {
                        "learn": [
                          9.43216067
                        ],
                        "iteration": 384,
                        "passed_time": 632.6552098,
                        "remaining_time": 188.9749328,
                        "test": [
                          8.708880028
                        ]
                      },
                      {
                        "learn": [
                          9.431763867
                        ],
                        "iteration": 385,
                        "passed_time": 634.1286448,
                        "remaining_time": 187.2815169,
                        "test": [
                          8.70888905
                        ]
                      },
                      {
                        "learn": [
                          9.431594373
                        ],
                        "iteration": 386,
                        "passed_time": 635.2743521,
                        "remaining_time": 185.4935447,
                        "test": [
                          8.708916779
                        ]
                      },
                      {
                        "learn": [
                          9.431311118
                        ],
                        "iteration": 387,
                        "passed_time": 636.7137232,
                        "remaining_time": 183.7936521,
                        "test": [
                          8.709060662
                        ]
                      },
                      {
                        "learn": [
                          9.430735995
                        ],
                        "iteration": 388,
                        "passed_time": 638.2001782,
                        "remaining_time": 182.1085341,
                        "test": [
                          8.708992809
                        ]
                      },
                      {
                        "learn": [
                          9.430319118
                        ],
                        "iteration": 389,
                        "passed_time": 639.6339088,
                        "remaining_time": 180.409564,
                        "test": [
                          8.708902975
                        ]
                      },
                      {
                        "learn": [
                          9.42994374
                        ],
                        "iteration": 390,
                        "passed_time": 640.9795654,
                        "remaining_time": 178.687398,
                        "test": [
                          8.709005758
                        ]
                      },
                      {
                        "learn": [
                          9.429721848
                        ],
                        "iteration": 391,
                        "passed_time": 642.8937772,
                        "remaining_time": 177.1237958,
                        "test": [
                          8.708966299
                        ]
                      },
                      {
                        "learn": [
                          9.429487206
                        ],
                        "iteration": 392,
                        "passed_time": 645.3289658,
                        "remaining_time": 175.7002528,
                        "test": [
                          8.708953388
                        ]
                      },
                      {
                        "learn": [
                          9.429156544
                        ],
                        "iteration": 393,
                        "passed_time": 647.6707399,
                        "remaining_time": 174.2464427,
                        "test": [
                          8.709057607
                        ]
                      },
                      {
                        "learn": [
                          9.4288226
                        ],
                        "iteration": 394,
                        "passed_time": 649.180396,
                        "remaining_time": 172.5669407,
                        "test": [
                          8.709038394
                        ]
                      },
                      {
                        "learn": [
                          9.428493154
                        ],
                        "iteration": 395,
                        "passed_time": 650.4478134,
                        "remaining_time": 170.8246783,
                        "test": [
                          8.709056954
                        ]
                      },
                      {
                        "learn": [
                          9.428238719
                        ],
                        "iteration": 396,
                        "passed_time": 651.5794109,
                        "remaining_time": 169.0495701,
                        "test": [
                          8.709088932
                        ]
                      },
                      {
                        "learn": [
                          9.427993419
                        ],
                        "iteration": 397,
                        "passed_time": 652.9901847,
                        "remaining_time": 167.3492433,
                        "test": [
                          8.709154073
                        ]
                      },
                      {
                        "learn": [
                          9.427600606
                        ],
                        "iteration": 398,
                        "passed_time": 654.3648464,
                        "remaining_time": 165.6412268,
                        "test": [
                          8.709044601
                        ]
                      },
                      {
                        "learn": [
                          9.427225964
                        ],
                        "iteration": 399,
                        "passed_time": 655.7809718,
                        "remaining_time": 163.945243,
                        "test": [
                          8.709058462
                        ]
                      },
                      {
                        "learn": [
                          9.426967279
                        ],
                        "iteration": 400,
                        "passed_time": 656.9095405,
                        "remaining_time": 162.1796621,
                        "test": [
                          8.708982813
                        ]
                      },
                      {
                        "learn": [
                          9.426511492
                        ],
                        "iteration": 401,
                        "passed_time": 658.8495862,
                        "remaining_time": 160.6150733,
                        "test": [
                          8.70891095
                        ]
                      },
                      {
                        "learn": [
                          9.42580521
                        ],
                        "iteration": 402,
                        "passed_time": 661.45725,
                        "remaining_time": 159.2093133,
                        "test": [
                          8.709017773
                        ]
                      },
                      {
                        "learn": [
                          9.424868764
                        ],
                        "iteration": 403,
                        "passed_time": 663.7923443,
                        "remaining_time": 157.7328343,
                        "test": [
                          8.709046777
                        ]
                      },
                      {
                        "learn": [
                          9.424500385
                        ],
                        "iteration": 404,
                        "passed_time": 665.2009954,
                        "remaining_time": 156.0348014,
                        "test": [
                          8.70928315
                        ]
                      },
                      {
                        "learn": [
                          9.423966208
                        ],
                        "iteration": 405,
                        "passed_time": 666.648902,
                        "remaining_time": 154.3472827,
                        "test": [
                          8.709366977
                        ]
                      },
                      {
                        "learn": [
                          9.423734961
                        ],
                        "iteration": 406,
                        "passed_time": 667.7615343,
                        "remaining_time": 152.5843309,
                        "test": [
                          8.709456209
                        ]
                      },
                      {
                        "learn": [
                          9.423394231
                        ],
                        "iteration": 407,
                        "passed_time": 669.1719999,
                        "remaining_time": 150.8917255,
                        "test": [
                          8.70948431
                        ]
                      },
                      {
                        "learn": [
                          9.423088201
                        ],
                        "iteration": 408,
                        "passed_time": 670.5947821,
                        "remaining_time": 149.20324,
                        "test": [
                          8.709719936
                        ]
                      },
                      {
                        "learn": [
                          9.422744088
                        ],
                        "iteration": 409,
                        "passed_time": 672.0577601,
                        "remaining_time": 147.5248742,
                        "test": [
                          8.710048189
                        ]
                      },
                      {
                        "learn": [
                          9.42233413
                        ],
                        "iteration": 410,
                        "passed_time": 673.4910736,
                        "remaining_time": 145.8411327,
                        "test": [
                          8.710013513
                        ]
                      },
                      {
                        "learn": [
                          9.421939874
                        ],
                        "iteration": 411,
                        "passed_time": 675.401904,
                        "remaining_time": 144.2606009,
                        "test": [
                          8.710160375
                        ]
                      },
                      {
                        "learn": [
                          9.421605878
                        ],
                        "iteration": 412,
                        "passed_time": 678.1022289,
                        "remaining_time": 142.8447795,
                        "test": [
                          8.710270151
                        ]
                      },
                      {
                        "learn": [
                          9.421245779
                        ],
                        "iteration": 413,
                        "passed_time": 680.2251407,
                        "remaining_time": 141.302807,
                        "test": [
                          8.710457234
                        ]
                      },
                      {
                        "learn": [
                          9.420832189
                        ],
                        "iteration": 414,
                        "passed_time": 681.6116407,
                        "remaining_time": 139.6072035,
                        "test": [
                          8.710487053
                        ]
                      },
                      {
                        "learn": [
                          9.420398788
                        ],
                        "iteration": 415,
                        "passed_time": 683.0004175,
                        "remaining_time": 137.9135458,
                        "test": [
                          8.710880711
                        ]
                      },
                      {
                        "learn": [
                          9.420047522
                        ],
                        "iteration": 416,
                        "passed_time": 684.4264569,
                        "remaining_time": 136.2287672,
                        "test": [
                          8.710853009
                        ]
                      },
                      {
                        "learn": [
                          9.419758045
                        ],
                        "iteration": 417,
                        "passed_time": 685.5967446,
                        "remaining_time": 134.4950552,
                        "test": [
                          8.710836797
                        ]
                      },
                      {
                        "learn": [
                          9.419540908
                        ],
                        "iteration": 418,
                        "passed_time": 686.8243612,
                        "remaining_time": 132.7751152,
                        "test": [
                          8.71080938
                        ]
                      },
                      {
                        "learn": [
                          9.419129826
                        ],
                        "iteration": 419,
                        "passed_time": 688.0626735,
                        "remaining_time": 131.0595569,
                        "test": [
                          8.710803923
                        ]
                      },
                      {
                        "learn": [
                          9.418884594
                        ],
                        "iteration": 420,
                        "passed_time": 689.5212187,
                        "remaining_time": 129.3875921,
                        "test": [
                          8.710791627
                        ]
                      },
                      {
                        "learn": [
                          9.418567821
                        ],
                        "iteration": 421,
                        "passed_time": 691.6838363,
                        "remaining_time": 127.8467754,
                        "test": [
                          8.710768883
                        ]
                      },
                      {
                        "learn": [
                          9.418495227
                        ],
                        "iteration": 422,
                        "passed_time": 693.1504599,
                        "remaining_time": 126.1763248,
                        "test": [
                          8.710777977
                        ]
                      },
                      {
                        "learn": [
                          9.418045745
                        ],
                        "iteration": 423,
                        "passed_time": 695.9885034,
                        "remaining_time": 124.7526563,
                        "test": [
                          8.710760253
                        ]
                      },
                      {
                        "learn": [
                          9.417546524
                        ],
                        "iteration": 424,
                        "passed_time": 697.7223515,
                        "remaining_time": 123.1274738,
                        "test": [
                          8.71066079
                        ]
                      },
                      {
                        "learn": [
                          9.417382637
                        ],
                        "iteration": 425,
                        "passed_time": 698.8405881,
                        "remaining_time": 121.3948439,
                        "test": [
                          8.710721608
                        ]
                      },
                      {
                        "learn": [
                          9.41713511
                        ],
                        "iteration": 426,
                        "passed_time": 700.2656619,
                        "remaining_time": 119.7175488,
                        "test": [
                          8.710714302
                        ]
                      },
                      {
                        "learn": [
                          9.416733635
                        ],
                        "iteration": 427,
                        "passed_time": 701.7093568,
                        "remaining_time": 118.0445647,
                        "test": [
                          8.710685415
                        ]
                      },
                      {
                        "learn": [
                          9.416321098
                        ],
                        "iteration": 428,
                        "passed_time": 702.9144255,
                        "remaining_time": 116.3331567,
                        "test": [
                          8.710702144
                        ]
                      },
                      {
                        "learn": [
                          9.415897728
                        ],
                        "iteration": 429,
                        "passed_time": 704.3673759,
                        "remaining_time": 114.6644565,
                        "test": [
                          8.710782001
                        ]
                      },
                      {
                        "learn": [
                          9.415501746
                        ],
                        "iteration": 430,
                        "passed_time": 705.6641364,
                        "remaining_time": 112.9717527,
                        "test": [
                          8.710722525
                        ]
                      },
                      {
                        "learn": [
                          9.415381599
                        ],
                        "iteration": 431,
                        "passed_time": 706.8879985,
                        "remaining_time": 111.2694072,
                        "test": [
                          8.710720439
                        ]
                      },
                      {
                        "learn": [
                          9.41502661
                        ],
                        "iteration": 432,
                        "passed_time": 709.2960183,
                        "remaining_time": 109.7525017,
                        "test": [
                          8.711356665
                        ]
                      },
                      {
                        "learn": [
                          9.414595738
                        ],
                        "iteration": 433,
                        "passed_time": 712.1346814,
                        "remaining_time": 108.2969792,
                        "test": [
                          8.711372006
                        ]
                      },
                      {
                        "learn": [
                          9.414309676
                        ],
                        "iteration": 434,
                        "passed_time": 713.7559783,
                        "remaining_time": 106.6531922,
                        "test": [
                          8.711305759
                        ]
                      },
                      {
                        "learn": [
                          9.413840901
                        ],
                        "iteration": 435,
                        "passed_time": 715.2618712,
                        "remaining_time": 104.9925683,
                        "test": [
                          8.711454007
                        ]
                      },
                      {
                        "learn": [
                          9.413393512
                        ],
                        "iteration": 436,
                        "passed_time": 716.4956485,
                        "remaining_time": 103.293423,
                        "test": [
                          8.711317901
                        ]
                      },
                      {
                        "learn": [
                          9.413109045
                        ],
                        "iteration": 437,
                        "passed_time": 717.8688109,
                        "remaining_time": 101.6161331,
                        "test": [
                          8.71132169
                        ]
                      },
                      {
                        "learn": [
                          9.412693195
                        ],
                        "iteration": 438,
                        "passed_time": 719.2969001,
                        "remaining_time": 99.94786083,
                        "test": [
                          8.711563181
                        ]
                      },
                      {
                        "learn": [
                          9.412242527
                        ],
                        "iteration": 439,
                        "passed_time": 720.8135508,
                        "remaining_time": 98.29275693,
                        "test": [
                          8.711658901
                        ]
                      },
                      {
                        "learn": [
                          9.411917902
                        ],
                        "iteration": 440,
                        "passed_time": 722.3491952,
                        "remaining_time": 96.64082203,
                        "test": [
                          8.711630683
                        ]
                      },
                      {
                        "learn": [
                          9.411571003
                        ],
                        "iteration": 441,
                        "passed_time": 724.6139276,
                        "remaining_time": 95.08508552,
                        "test": [
                          8.711618738
                        ]
                      },
                      {
                        "learn": [
                          9.411170435
                        ],
                        "iteration": 442,
                        "passed_time": 726.3003401,
                        "remaining_time": 93.45173676,
                        "test": [
                          8.711584
                        ]
                      },
                      {
                        "learn": [
                          9.41081392
                        ],
                        "iteration": 443,
                        "passed_time": 729.0633351,
                        "remaining_time": 91.95393416,
                        "test": [
                          8.711550053
                        ]
                      },
                      {
                        "learn": [
                          9.410395865
                        ],
                        "iteration": 444,
                        "passed_time": 730.5458893,
                        "remaining_time": 90.29218857,
                        "test": [
                          8.711452702
                        ]
                      },
                      {
                        "learn": [
                          9.409997554
                        ],
                        "iteration": 445,
                        "passed_time": 731.9145698,
                        "remaining_time": 88.61745913,
                        "test": [
                          8.711682093
                        ]
                      },
                      {
                        "learn": [
                          9.409728102
                        ],
                        "iteration": 446,
                        "passed_time": 733.365336,
                        "remaining_time": 86.95383179,
                        "test": [
                          8.711794017
                        ]
                      },
                      {
                        "learn": [
                          9.409337081
                        ],
                        "iteration": 447,
                        "passed_time": 734.7651884,
                        "remaining_time": 85.28524508,
                        "test": [
                          8.71177966
                        ]
                      },
                      {
                        "learn": [
                          9.409237682
                        ],
                        "iteration": 448,
                        "passed_time": 735.8604078,
                        "remaining_time": 83.58325345,
                        "test": [
                          8.711754416
                        ]
                      },
                      {
                        "learn": [
                          9.409025281
                        ],
                        "iteration": 449,
                        "passed_time": 737.3019462,
                        "remaining_time": 81.92243847,
                        "test": [
                          8.711731815
                        ]
                      },
                      {
                        "learn": [
                          9.408665091
                        ],
                        "iteration": 450,
                        "passed_time": 738.5179304,
                        "remaining_time": 80.23809,
                        "test": [
                          8.711840999
                        ]
                      },
                      {
                        "learn": [
                          9.408044487
                        ],
                        "iteration": 451,
                        "passed_time": 740.7354138,
                        "remaining_time": 78.66216783,
                        "test": [
                          8.711744996
                        ]
                      },
                      {
                        "learn": [
                          9.407637134
                        ],
                        "iteration": 452,
                        "passed_time": 743.5806983,
                        "remaining_time": 77.14854928,
                        "test": [
                          8.711768947
                        ]
                      },
                      {
                        "learn": [
                          9.407178154
                        ],
                        "iteration": 453,
                        "passed_time": 745.6653555,
                        "remaining_time": 75.55199637,
                        "test": [
                          8.711818607
                        ]
                      },
                      {
                        "learn": [
                          9.406759144
                        ],
                        "iteration": 454,
                        "passed_time": 747.1471712,
                        "remaining_time": 73.89367627,
                        "test": [
                          8.711834194
                        ]
                      },
                      {
                        "learn": [
                          9.406367415
                        ],
                        "iteration": 455,
                        "passed_time": 748.6571492,
                        "remaining_time": 72.23884773,
                        "test": [
                          8.711821876
                        ]
                      },
                      {
                        "learn": [
                          9.406084856
                        ],
                        "iteration": 456,
                        "passed_time": 749.8609184,
                        "remaining_time": 70.55584134,
                        "test": [
                          8.711801218
                        ]
                      },
                      {
                        "learn": [
                          9.405775693
                        ],
                        "iteration": 457,
                        "passed_time": 751.1511045,
                        "remaining_time": 68.88285237,
                        "test": [
                          8.711801164
                        ]
                      },
                      {
                        "learn": [
                          9.405432709
                        ],
                        "iteration": 458,
                        "passed_time": 752.6290183,
                        "remaining_time": 67.22830011,
                        "test": [
                          8.711772773
                        ]
                      },
                      {
                        "learn": [
                          9.405142288
                        ],
                        "iteration": 459,
                        "passed_time": 754.0682342,
                        "remaining_time": 65.5711508,
                        "test": [
                          8.71168813
                        ]
                      },
                      {
                        "learn": [
                          9.404731431
                        ],
                        "iteration": 460,
                        "passed_time": 755.9457414,
                        "remaining_time": 63.95202584,
                        "test": [
                          8.711770796
                        ]
                      },
                      {
                        "learn": [
                          9.404356677
                        ],
                        "iteration": 461,
                        "passed_time": 758.490363,
                        "remaining_time": 62.38665323,
                        "test": [
                          8.711867168
                        ]
                      },
                      {
                        "learn": [
                          9.404072976
                        ],
                        "iteration": 462,
                        "passed_time": 761.080462,
                        "remaining_time": 60.82068487,
                        "test": [
                          8.711897144
                        ]
                      },
                      {
                        "learn": [
                          9.403745042
                        ],
                        "iteration": 463,
                        "passed_time": 762.66985,
                        "remaining_time": 59.17266078,
                        "test": [
                          8.711895957
                        ]
                      },
                      {
                        "learn": [
                          9.403280997
                        ],
                        "iteration": 464,
                        "passed_time": 764.031798,
                        "remaining_time": 57.50776974,
                        "test": [
                          8.712174091
                        ]
                      },
                      {
                        "learn": [
                          9.402975224
                        ],
                        "iteration": 465,
                        "passed_time": 765.1250962,
                        "remaining_time": 55.82457783,
                        "test": [
                          8.712252668
                        ]
                      },
                      {
                        "learn": [
                          9.402532747
                        ],
                        "iteration": 466,
                        "passed_time": 766.6257048,
                        "remaining_time": 54.17269435,
                        "test": [
                          8.712238795
                        ]
                      },
                      {
                        "learn": [
                          9.402117067
                        ],
                        "iteration": 467,
                        "passed_time": 768.0994428,
                        "remaining_time": 52.51962002,
                        "test": [
                          8.712358565
                        ]
                      },
                      {
                        "learn": [
                          9.402028207
                        ],
                        "iteration": 468,
                        "passed_time": 769.0539464,
                        "remaining_time": 50.83299006,
                        "test": [
                          8.712373336
                        ]
                      },
                      {
                        "learn": [
                          9.401660351
                        ],
                        "iteration": 469,
                        "passed_time": 770.2910567,
                        "remaining_time": 49.16751426,
                        "test": [
                          8.712439471
                        ]
                      },
                      {
                        "learn": [
                          9.401261308
                        ],
                        "iteration": 470,
                        "passed_time": 771.9159009,
                        "remaining_time": 47.52773063,
                        "test": [
                          8.712458332
                        ]
                      },
                      {
                        "learn": [
                          9.400779813
                        ],
                        "iteration": 471,
                        "passed_time": 774.4773886,
                        "remaining_time": 45.9435739,
                        "test": [
                          8.712648055
                        ]
                      },
                      {
                        "learn": [
                          9.400555141
                        ],
                        "iteration": 472,
                        "passed_time": 776.9194947,
                        "remaining_time": 44.3484701,
                        "test": [
                          8.712636385
                        ]
                      },
                      {
                        "learn": [
                          9.400027771
                        ],
                        "iteration": 473,
                        "passed_time": 778.2184451,
                        "remaining_time": 42.6870877,
                        "test": [
                          8.712792155
                        ]
                      },
                      {
                        "learn": [
                          9.3997349
                        ],
                        "iteration": 474,
                        "passed_time": 779.6372943,
                        "remaining_time": 41.03354181,
                        "test": [
                          8.712835185
                        ]
                      },
                      {
                        "learn": [
                          9.3994225
                        ],
                        "iteration": 475,
                        "passed_time": 781.0130641,
                        "remaining_time": 39.37880995,
                        "test": [
                          8.71347053
                        ]
                      },
                      {
                        "learn": [
                          9.399022155
                        ],
                        "iteration": 476,
                        "passed_time": 782.4855464,
                        "remaining_time": 37.72991104,
                        "test": [
                          8.713447584
                        ]
                      },
                      {
                        "learn": [
                          9.398675379
                        ],
                        "iteration": 477,
                        "passed_time": 783.8884557,
                        "remaining_time": 36.07854817,
                        "test": [
                          8.713333672
                        ]
                      },
                      {
                        "learn": [
                          9.398306703
                        ],
                        "iteration": 478,
                        "passed_time": 785.1495386,
                        "remaining_time": 34.42200482,
                        "test": [
                          8.713305303
                        ]
                      },
                      {
                        "learn": [
                          9.397907959
                        ],
                        "iteration": 479,
                        "passed_time": 786.5171292,
                        "remaining_time": 32.77154705,
                        "test": [
                          8.713161946
                        ]
                      },
                      {
                        "learn": [
                          9.397381033
                        ],
                        "iteration": 480,
                        "passed_time": 788.5848503,
                        "remaining_time": 31.14992132,
                        "test": [
                          8.713212922
                        ]
                      },
                      {
                        "learn": [
                          9.396900262
                        ],
                        "iteration": 481,
                        "passed_time": 790.7812696,
                        "remaining_time": 29.53125073,
                        "test": [
                          8.713227293
                        ]
                      },
                      {
                        "learn": [
                          9.396403961
                        ],
                        "iteration": 482,
                        "passed_time": 793.5297298,
                        "remaining_time": 27.92961782,
                        "test": [
                          8.713245931
                        ]
                      },
                      {
                        "learn": [
                          9.396210686
                        ],
                        "iteration": 483,
                        "passed_time": 794.6717341,
                        "remaining_time": 26.27013997,
                        "test": [
                          8.7131813
                        ]
                      },
                      {
                        "learn": [
                          9.395852445
                        ],
                        "iteration": 484,
                        "passed_time": 796.1666689,
                        "remaining_time": 24.62371141,
                        "test": [
                          8.713308964
                        ]
                      },
                      {
                        "learn": [
                          9.39553243
                        ],
                        "iteration": 485,
                        "passed_time": 797.6189118,
                        "remaining_time": 22.97667647,
                        "test": [
                          8.713317128
                        ]
                      },
                      {
                        "learn": [
                          9.395317653
                        ],
                        "iteration": 486,
                        "passed_time": 799.0637308,
                        "remaining_time": 21.33024333,
                        "test": [
                          8.713419407
                        ]
                      },
                      {
                        "learn": [
                          9.395101255
                        ],
                        "iteration": 487,
                        "passed_time": 800.25788,
                        "remaining_time": 19.67847246,
                        "test": [
                          8.713601394
                        ]
                      },
                      {
                        "learn": [
                          9.394799658
                        ],
                        "iteration": 488,
                        "passed_time": 801.7303164,
                        "remaining_time": 18.03483329,
                        "test": [
                          8.713610726
                        ]
                      },
                      {
                        "learn": [
                          9.393510262
                        ],
                        "iteration": 489,
                        "passed_time": 803.2016184,
                        "remaining_time": 16.39186976,
                        "test": [
                          8.713813042
                        ]
                      },
                      {
                        "learn": [
                          9.393356877
                        ],
                        "iteration": 490,
                        "passed_time": 804.9099299,
                        "remaining_time": 14.75394983,
                        "test": [
                          8.713804715
                        ]
                      },
                      {
                        "learn": [
                          9.392957329
                        ],
                        "iteration": 491,
                        "passed_time": 807.5312976,
                        "remaining_time": 13.1305902,
                        "test": [
                          8.713815989
                        ]
                      },
                      {
                        "learn": [
                          9.392664533
                        ],
                        "iteration": 492,
                        "passed_time": 810.0190524,
                        "remaining_time": 11.50128472,
                        "test": [
                          8.713826041
                        ]
                      },
                      {
                        "learn": [
                          9.392138329
                        ],
                        "iteration": 493,
                        "passed_time": 811.4551316,
                        "remaining_time": 9.855730344,
                        "test": [
                          8.714112758
                        ]
                      },
                      {
                        "learn": [
                          9.39166425
                        ],
                        "iteration": 494,
                        "passed_time": 812.9938586,
                        "remaining_time": 8.212059178,
                        "test": [
                          8.714116117
                        ]
                      },
                      {
                        "learn": [
                          9.39149014
                        ],
                        "iteration": 495,
                        "passed_time": 814.2737199,
                        "remaining_time": 6.566723548,
                        "test": [
                          8.714129924
                        ]
                      },
                      {
                        "learn": [
                          9.391139671
                        ],
                        "iteration": 496,
                        "passed_time": 815.458156,
                        "remaining_time": 4.922282632,
                        "test": [
                          8.714194139
                        ]
                      },
                      {
                        "learn": [
                          9.390786405
                        ],
                        "iteration": 497,
                        "passed_time": 816.9548985,
                        "remaining_time": 3.280943367,
                        "test": [
                          8.714237477
                        ]
                      },
                      {
                        "learn": [
                          9.390487139
                        ],
                        "iteration": 498,
                        "passed_time": 818.4151445,
                        "remaining_time": 1.64011051,
                        "test": [
                          8.714242858
                        ]
                      },
                      {
                        "learn": [
                          9.390167024
                        ],
                        "iteration": 499,
                        "passed_time": 819.9344216,
                        "remaining_time": 0,
                        "test": [
                          8.714305189
                        ]
                      }
                    ],
                    "meta": {
                      "test_sets": [
                        "test"
                      ],
                      "test_metrics": [
                        {
                          "best_value": "Min",
                          "name": "RMSE"
                        }
                      ],
                      "learn_metrics": [
                        {
                          "best_value": "Min",
                          "name": "RMSE"
                        }
                      ],
                      "launch_mode": "Train",
                      "parameters": "",
                      "iteration_count": 500,
                      "learn_sets": [
                        "learn"
                      ],
                      "name": "experiment"
                    }
                  }
                }
              }
            },
            "layout": "IPY_MODEL_7fa03bcb152741e5900268393c0af975"
          }
        }
      }
    }
  },
  "cells": [
    {
      "cell_type": "code",
      "execution_count": null,
      "metadata": {
        "colab": {
          "base_uri": "https://localhost:8080/"
        },
        "id": "tTofPT27kkdo",
        "outputId": "a86b6f8a-e97b-400c-b381-6ca660915df1"
      },
      "outputs": [
        {
          "output_type": "stream",
          "name": "stdout",
          "text": [
            "Collecting catboost\n",
            "  Downloading catboost-1.2.7-cp310-cp310-manylinux2014_x86_64.whl.metadata (1.2 kB)\n",
            "Requirement already satisfied: graphviz in /usr/local/lib/python3.10/dist-packages (from catboost) (0.20.3)\n",
            "Requirement already satisfied: matplotlib in /usr/local/lib/python3.10/dist-packages (from catboost) (3.8.0)\n",
            "Requirement already satisfied: numpy<2.0,>=1.16.0 in /usr/local/lib/python3.10/dist-packages (from catboost) (1.26.4)\n",
            "Requirement already satisfied: pandas>=0.24 in /usr/local/lib/python3.10/dist-packages (from catboost) (2.2.2)\n",
            "Requirement already satisfied: scipy in /usr/local/lib/python3.10/dist-packages (from catboost) (1.13.1)\n",
            "Requirement already satisfied: plotly in /usr/local/lib/python3.10/dist-packages (from catboost) (5.24.1)\n",
            "Requirement already satisfied: six in /usr/local/lib/python3.10/dist-packages (from catboost) (1.16.0)\n",
            "Requirement already satisfied: python-dateutil>=2.8.2 in /usr/local/lib/python3.10/dist-packages (from pandas>=0.24->catboost) (2.8.2)\n",
            "Requirement already satisfied: pytz>=2020.1 in /usr/local/lib/python3.10/dist-packages (from pandas>=0.24->catboost) (2024.2)\n",
            "Requirement already satisfied: tzdata>=2022.7 in /usr/local/lib/python3.10/dist-packages (from pandas>=0.24->catboost) (2024.2)\n",
            "Requirement already satisfied: contourpy>=1.0.1 in /usr/local/lib/python3.10/dist-packages (from matplotlib->catboost) (1.3.1)\n",
            "Requirement already satisfied: cycler>=0.10 in /usr/local/lib/python3.10/dist-packages (from matplotlib->catboost) (0.12.1)\n",
            "Requirement already satisfied: fonttools>=4.22.0 in /usr/local/lib/python3.10/dist-packages (from matplotlib->catboost) (4.55.0)\n",
            "Requirement already satisfied: kiwisolver>=1.0.1 in /usr/local/lib/python3.10/dist-packages (from matplotlib->catboost) (1.4.7)\n",
            "Requirement already satisfied: packaging>=20.0 in /usr/local/lib/python3.10/dist-packages (from matplotlib->catboost) (24.2)\n",
            "Requirement already satisfied: pillow>=6.2.0 in /usr/local/lib/python3.10/dist-packages (from matplotlib->catboost) (11.0.0)\n",
            "Requirement already satisfied: pyparsing>=2.3.1 in /usr/local/lib/python3.10/dist-packages (from matplotlib->catboost) (3.2.0)\n",
            "Requirement already satisfied: tenacity>=6.2.0 in /usr/local/lib/python3.10/dist-packages (from plotly->catboost) (9.0.0)\n",
            "Downloading catboost-1.2.7-cp310-cp310-manylinux2014_x86_64.whl (98.7 MB)\n",
            "\u001b[2K   \u001b[90m━━━━━━━━━━━━━━━━━━━━━━━━━━━━━━━━━━━━━━━━\u001b[0m \u001b[32m98.7/98.7 MB\u001b[0m \u001b[31m7.6 MB/s\u001b[0m eta \u001b[36m0:00:00\u001b[0m\n",
            "\u001b[?25hInstalling collected packages: catboost\n",
            "Successfully installed catboost-1.2.7\n"
          ]
        }
      ],
      "source": [
        "!pip install catboost\n",
        "from catboost import CatBoostRegressor\n",
        "from sklearn.model_selection import train_test_split\n",
        "from sklearn.metrics import mean_absolute_error\n",
        "import pandas as pd\n",
        "import numpy as np\n",
        "\n",
        "data = pd.read_csv('train.csv')"
      ]
    },
    {
      "cell_type": "code",
      "source": [
        "columns_with_missing_values = [\n",
        "    'imbalance_size', 'reference_price', 'matched_size',\n",
        "    'far_price', 'near_price', 'bid_price', 'ask_price',\n",
        "    'wap', 'target'\n",
        "]\n",
        "\n",
        "for col in columns_with_missing_values:\n",
        "    data[col] = data[col].fillna(-1)\n",
        "    #data[col] = data[col].interpolate(method='linear', limit_direction='forward', axis=0)\n",
        "    #data.fillna(-1, inplace=True)\n"
      ],
      "metadata": {
        "id": "p6jE2-QQnoqL"
      },
      "execution_count": null,
      "outputs": []
    },
    {
      "cell_type": "code",
      "source": [
        "data['bid_ref_price_diff'] = data['bid_price'] - data['reference_price']\n",
        "data['bid_ref_price_ratio'] = data['bid_price'] / data['reference_price']\n",
        "data['ref_price_ma_5'] = data['reference_price'].rolling(window=5).mean()\n",
        "data['price_momentum'] = data['reference_price'].diff()\n",
        "data['volume_weighted_price'] = (data['reference_price'] * data['matched_size']) / data['matched_size'].sum()\n",
        "data['bid_size_volume_ratio'] = data['bid_size'] / data['matched_size']\n",
        "data['imbalance_volume_interaction'] = data['imbalance_size'] * data['matched_size']\n",
        "data['day_of_week'] = data['date_id'] % 7\n",
        "data['hour_of_day'] = (data['seconds_in_bucket'] // 3600) % 24\n",
        "data['price_volatility'] = data['reference_price'].rolling(window=5).std()"
      ],
      "metadata": {
        "id": "Sq16Q91SpGfB"
      },
      "execution_count": null,
      "outputs": []
    },
    {
      "cell_type": "code",
      "source": [
        "new_columns_with_missing_values = ['ref_price_ma_5', 'price_momentum', 'price_volatility']\n",
        "for col in new_columns_with_missing_values:\n",
        "    data[col] = data[col].fillna(-1)\n",
        "    #data[col] = data[col].interpolate(method='linear', limit_direction='forward', axis=0)\n",
        "    #data.fillna(-1, inplace=True)"
      ],
      "metadata": {
        "id": "nD9_7xPcqnva"
      },
      "execution_count": null,
      "outputs": []
    },
    {
      "cell_type": "code",
      "source": [
        "features = ['imbalance_size', 'imbalance_buy_sell_flag', 'reference_price', 'matched_size',\n",
        "            'far_price', 'near_price', 'bid_price', 'bid_size', 'ask_price', 'ask_size',\n",
        "            'wap', 'bid_ref_price_diff', 'bid_ref_price_ratio', 'ref_price_ma_5',\n",
        "            'price_momentum', 'volume_weighted_price', 'bid_size_volume_ratio',\n",
        "            'imbalance_volume_interaction', 'day_of_week', 'hour_of_day', 'price_volatility']\n",
        "target_column = 'target'"
      ],
      "metadata": {
        "id": "zqt8mSjtqp_m"
      },
      "execution_count": null,
      "outputs": []
    },
    {
      "cell_type": "code",
      "source": [
        "X = data[features]\n",
        "y = data[target_column]\n",
        "\n",
        "X_train, X_test, y_train, y_test = train_test_split(X, y, test_size=0.25, shuffle=False)"
      ],
      "metadata": {
        "id": "ThBj_xCAqs9y"
      },
      "execution_count": null,
      "outputs": []
    },
    {
      "cell_type": "code",
      "source": [
        "model = CatBoostRegressor(iterations=500, depth=8, learning_rate=0.1, cat_features=['day_of_week', 'hour_of_day'], verbose=10)\n",
        "model.fit(X_train, y_train, eval_set=(X_test, y_test), plot=True)"
      ],
      "metadata": {
        "colab": {
          "base_uri": "https://localhost:8080/",
          "height": 1000,
          "referenced_widgets": [
            "a9586ca867094b26ad09a5c2587cb136"
          ]
        },
        "id": "hVgaWhByq3pE",
        "outputId": "bfc3ee97-2ac3-4032-b462-32d29ad58a72"
      },
      "execution_count": null,
      "outputs": [
        {
          "output_type": "display_data",
          "data": {
            "text/plain": [
              "MetricVisualizer(layout=Layout(align_self='stretch', height='500px'))"
            ],
            "application/vnd.jupyter.widget-view+json": {
              "version_major": 2,
              "version_minor": 0,
              "model_id": "a9586ca867094b26ad09a5c2587cb136"
            }
          },
          "metadata": {}
        },
        {
          "output_type": "stream",
          "name": "stdout",
          "text": [
            "0:\tlearn: 9.8001404\ttest: 8.7690656\tbest: 8.7690656 (0)\ttotal: 1.58s\tremaining: 13m 9s\n",
            "10:\tlearn: 9.7082135\ttest: 8.7176041\tbest: 8.7176041 (10)\ttotal: 19.8s\tremaining: 14m 38s\n",
            "20:\tlearn: 9.6805778\ttest: 8.7088065\tbest: 8.7088065 (20)\ttotal: 36.8s\tremaining: 13m 58s\n",
            "30:\tlearn: 9.6604027\ttest: 8.7058237\tbest: 8.7058237 (30)\ttotal: 53.2s\tremaining: 13m 25s\n",
            "40:\tlearn: 9.6436749\ttest: 8.7043528\tbest: 8.7043528 (40)\ttotal: 1m 9s\tremaining: 12m 59s\n",
            "50:\tlearn: 9.6296390\ttest: 8.7035560\tbest: 8.7029992 (49)\ttotal: 1m 26s\tremaining: 12m 39s\n",
            "60:\tlearn: 9.6179039\ttest: 8.7031342\tbest: 8.7029946 (54)\ttotal: 1m 42s\tremaining: 12m 17s\n",
            "70:\tlearn: 9.6064087\ttest: 8.7023832\tbest: 8.7023102 (69)\ttotal: 2m\tremaining: 12m 5s\n",
            "80:\tlearn: 9.5967401\ttest: 8.7019420\tbest: 8.7018943 (73)\ttotal: 2m 17s\tremaining: 11m 52s\n",
            "90:\tlearn: 9.5882436\ttest: 8.7015463\tbest: 8.7015463 (90)\ttotal: 2m 34s\tremaining: 11m 34s\n",
            "100:\tlearn: 9.5773363\ttest: 8.7026864\tbest: 8.7013257 (92)\ttotal: 2m 55s\tremaining: 11m 33s\n",
            "110:\tlearn: 9.5686024\ttest: 8.7025246\tbest: 8.7013257 (92)\ttotal: 3m 12s\tremaining: 11m 13s\n",
            "120:\tlearn: 9.5620280\ttest: 8.7017173\tbest: 8.7013257 (92)\ttotal: 3m 29s\tremaining: 10m 56s\n",
            "130:\tlearn: 9.5551275\ttest: 8.7028394\tbest: 8.7013257 (92)\ttotal: 3m 46s\tremaining: 10m 37s\n",
            "140:\tlearn: 9.5493486\ttest: 8.7032159\tbest: 8.7013257 (92)\ttotal: 4m 3s\tremaining: 10m 18s\n",
            "150:\tlearn: 9.5429357\ttest: 8.7034890\tbest: 8.7013257 (92)\ttotal: 4m 19s\tremaining: 9m 59s\n",
            "160:\tlearn: 9.5354135\ttest: 8.7044142\tbest: 8.7013257 (92)\ttotal: 4m 36s\tremaining: 9m 41s\n",
            "170:\tlearn: 9.5292392\ttest: 8.7036477\tbest: 8.7013257 (92)\ttotal: 4m 51s\tremaining: 9m 21s\n",
            "180:\tlearn: 9.5231631\ttest: 8.7034954\tbest: 8.7013257 (92)\ttotal: 5m 8s\tremaining: 9m 3s\n",
            "190:\tlearn: 9.5168895\ttest: 8.7035004\tbest: 8.7013257 (92)\ttotal: 5m 24s\tremaining: 8m 45s\n",
            "200:\tlearn: 9.5118031\ttest: 8.7034542\tbest: 8.7013257 (92)\ttotal: 5m 40s\tremaining: 8m 26s\n",
            "210:\tlearn: 9.5062081\ttest: 8.7039842\tbest: 8.7013257 (92)\ttotal: 5m 56s\tremaining: 8m 7s\n",
            "220:\tlearn: 9.5021349\ttest: 8.7039021\tbest: 8.7013257 (92)\ttotal: 6m 11s\tremaining: 7m 49s\n",
            "230:\tlearn: 9.4970949\ttest: 8.7042139\tbest: 8.7013257 (92)\ttotal: 6m 28s\tremaining: 7m 31s\n",
            "240:\tlearn: 9.4915967\ttest: 8.7046277\tbest: 8.7013257 (92)\ttotal: 6m 43s\tremaining: 7m 13s\n",
            "250:\tlearn: 9.4871263\ttest: 8.7050662\tbest: 8.7013257 (92)\ttotal: 6m 59s\tremaining: 6m 56s\n",
            "260:\tlearn: 9.4831490\ttest: 8.7049034\tbest: 8.7013257 (92)\ttotal: 7m 16s\tremaining: 6m 39s\n",
            "270:\tlearn: 9.4786851\ttest: 8.7054218\tbest: 8.7013257 (92)\ttotal: 7m 31s\tremaining: 6m 21s\n",
            "280:\tlearn: 9.4744050\ttest: 8.7053017\tbest: 8.7013257 (92)\ttotal: 7m 47s\tremaining: 6m 4s\n",
            "290:\tlearn: 9.4705831\ttest: 8.7051809\tbest: 8.7013257 (92)\ttotal: 8m 2s\tremaining: 5m 46s\n",
            "300:\tlearn: 9.4657922\ttest: 8.7059459\tbest: 8.7013257 (92)\ttotal: 8m 19s\tremaining: 5m 29s\n",
            "310:\tlearn: 9.4623605\ttest: 8.7065701\tbest: 8.7013257 (92)\ttotal: 8m 34s\tremaining: 5m 12s\n",
            "320:\tlearn: 9.4582070\ttest: 8.7071663\tbest: 8.7013257 (92)\ttotal: 8m 50s\tremaining: 4m 55s\n",
            "330:\tlearn: 9.4538096\ttest: 8.7071043\tbest: 8.7013257 (92)\ttotal: 9m 7s\tremaining: 4m 39s\n",
            "340:\tlearn: 9.4502870\ttest: 8.7077158\tbest: 8.7013257 (92)\ttotal: 9m 21s\tremaining: 4m 21s\n",
            "350:\tlearn: 9.4467917\ttest: 8.7078669\tbest: 8.7013257 (92)\ttotal: 9m 36s\tremaining: 4m 4s\n",
            "360:\tlearn: 9.4422022\ttest: 8.7079873\tbest: 8.7013257 (92)\ttotal: 9m 52s\tremaining: 3m 47s\n",
            "370:\tlearn: 9.4379059\ttest: 8.7077582\tbest: 8.7013257 (92)\ttotal: 10m 8s\tremaining: 3m 31s\n",
            "380:\tlearn: 9.4337644\ttest: 8.7084783\tbest: 8.7013257 (92)\ttotal: 10m 24s\tremaining: 3m 15s\n",
            "390:\tlearn: 9.4299437\ttest: 8.7090058\tbest: 8.7013257 (92)\ttotal: 10m 40s\tremaining: 2m 58s\n",
            "400:\tlearn: 9.4269673\ttest: 8.7089828\tbest: 8.7013257 (92)\ttotal: 10m 56s\tremaining: 2m 42s\n",
            "410:\tlearn: 9.4223341\ttest: 8.7100135\tbest: 8.7013257 (92)\ttotal: 11m 13s\tremaining: 2m 25s\n",
            "420:\tlearn: 9.4188846\ttest: 8.7107916\tbest: 8.7013257 (92)\ttotal: 11m 29s\tremaining: 2m 9s\n",
            "430:\tlearn: 9.4155017\ttest: 8.7107225\tbest: 8.7013257 (92)\ttotal: 11m 45s\tremaining: 1m 52s\n",
            "440:\tlearn: 9.4119179\ttest: 8.7116307\tbest: 8.7013257 (92)\ttotal: 12m 2s\tremaining: 1m 36s\n",
            "450:\tlearn: 9.4086651\ttest: 8.7118410\tbest: 8.7013257 (92)\ttotal: 12m 18s\tremaining: 1m 20s\n",
            "460:\tlearn: 9.4047314\ttest: 8.7117708\tbest: 8.7013257 (92)\ttotal: 12m 35s\tremaining: 1m 3s\n",
            "470:\tlearn: 9.4012613\ttest: 8.7124583\tbest: 8.7013257 (92)\ttotal: 12m 51s\tremaining: 47.5s\n",
            "480:\tlearn: 9.3973810\ttest: 8.7132129\tbest: 8.7013257 (92)\ttotal: 13m 8s\tremaining: 31.1s\n",
            "490:\tlearn: 9.3933569\ttest: 8.7138047\tbest: 8.7013257 (92)\ttotal: 13m 24s\tremaining: 14.8s\n",
            "499:\tlearn: 9.3901670\ttest: 8.7143052\tbest: 8.7013257 (92)\ttotal: 13m 39s\tremaining: 0us\n",
            "\n",
            "bestTest = 8.701325742\n",
            "bestIteration = 92\n",
            "\n",
            "Shrink model to first 93 iterations.\n"
          ]
        },
        {
          "output_type": "execute_result",
          "data": {
            "text/plain": [
              "<catboost.core.CatBoostRegressor at 0x7d54ba75ed70>"
            ]
          },
          "metadata": {},
          "execution_count": 14
        }
      ]
    },
    {
      "cell_type": "code",
      "source": [
        "train_preds = model.predict(X_train)\n",
        "test_preds = model.predict(X_test)\n",
        "\n",
        "mae_train = mean_absolute_error(y_train, train_preds)\n",
        "mae_test = mean_absolute_error(y_test, test_preds)\n",
        "\n",
        "print(f\"Mean Absolute Error (Train): {mae_train}\")\n",
        "print(f\"Mean Absolute Error (Test): {mae_test}\")"
      ],
      "metadata": {
        "colab": {
          "base_uri": "https://localhost:8080/"
        },
        "id": "OQ9ecLAIq9iy",
        "outputId": "4d64e83f-1b61-4119-c09d-448cfecb7350"
      },
      "execution_count": null,
      "outputs": [
        {
          "output_type": "stream",
          "name": "stdout",
          "text": [
            "Mean Absolute Error (Train): 6.503802233496159\n",
            "Mean Absolute Error (Test): 6.046937598219381\n"
          ]
        }
      ]
    },
    {
      "cell_type": "code",
      "source": [],
      "metadata": {
        "id": "oFr_ubmivVJm"
      },
      "execution_count": null,
      "outputs": []
    }
  ]
}