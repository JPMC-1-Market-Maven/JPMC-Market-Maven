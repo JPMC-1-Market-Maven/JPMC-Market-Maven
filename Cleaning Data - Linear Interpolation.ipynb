{
 "cells": [
  {
   "cell_type": "code",
   "execution_count": 113,
   "id": "cff8d3d0",
   "metadata": {},
   "outputs": [],
   "source": [
    "import pandas as pd\n",
    "import numpy as np\n",
    "from sklearn.preprocessing import MinMaxScaler\n",
    "from sklearn.model_selection import train_test_split\n",
    "from tensorflow.keras.models import Sequential\n",
    "from tensorflow.keras.layers import GRU, Dense, Dropout\n",
    "from sklearn.linear_model import LinearRegression"
   ]
  },
  {
   "cell_type": "code",
   "execution_count": 114,
   "id": "5416c5d7",
   "metadata": {},
   "outputs": [],
   "source": [
    "data = pd.read_csv('train.csv') # Loading training data "
   ]
  },
  {
   "cell_type": "code",
   "execution_count": 115,
   "id": "3a3e7d81",
   "metadata": {},
   "outputs": [
    {
     "data": {
      "text/plain": [
       "17"
      ]
     },
     "execution_count": 115,
     "metadata": {},
     "output_type": "execute_result"
    }
   ],
   "source": [
    "len(data.columns)"
   ]
  },
  {
   "cell_type": "markdown",
   "id": "10678b92",
   "metadata": {},
   "source": [
    "## Reducing Memory Usage"
   ]
  },
  {
   "cell_type": "code",
   "execution_count": 116,
   "id": "d3c940a2",
   "metadata": {},
   "outputs": [
    {
     "name": "stdout",
     "output_type": "stream",
     "text": [
      "Memory Usage Before Optimization:\n",
      "974.2033262252808 MB\n",
      "\n",
      "Memory Usage After Optimization:\n",
      "599.5538015365601 MB\n"
     ]
    }
   ],
   "source": [
    "def reduce_memory_usage(df):\n",
    "    print(\"Memory Usage Before Optimization:\")\n",
    "    print(df.memory_usage(deep=True).sum() / (1024 ** 2), \"MB\")\n",
    "\n",
    "    # Iterate through each column in the DataFrame\n",
    "    for col in df.columns:\n",
    "        col_type = df[col].dtype\n",
    "\n",
    "        # Check if the column's data type is numeric\n",
    "        if col_type != object:\n",
    "            c_min = df[col].min()\n",
    "            c_max = df[col].max()\n",
    "            \n",
    "            # Check if the column's data type is an integer\n",
    "            if str(col_type)[:3] == \"int\":\n",
    "                if c_min > np.iinfo(np.int8).min and c_max < np.iinfo(np.int8).max:\n",
    "                    df[col] = df[col].astype(np.int8)\n",
    "                elif c_min > np.iinfo(np.int16).min and c_max < np.iinfo(np.int16).max:\n",
    "                    df[col] = df[col].astype(np.int16)\n",
    "                elif c_min > np.iinfo(np.int32).min and c_max < np.iinfo(np.int32).max:\n",
    "                    df[col] = df[col].astype(np.int32)\n",
    "                elif c_min > np.iinfo(np.int64).min and c_max < np.iinfo(np.int64).max:\n",
    "                    df[col] = df[col].astype(np.int64)\n",
    "            else:\n",
    "                # Check if the column's data type is a float\n",
    "                if c_min > np.finfo(np.float16).min and c_max < np.finfo(np.float16).max:\n",
    "                    df[col] = df[col].astype(np.float32)\n",
    "                elif c_min > np.finfo(np.float32).min and c_max < np.finfo(np.float32).max:\n",
    "                    df[col] = df[col].astype(np.float32)\n",
    "                else:\n",
    "                    df[col] = df[col].astype(np.float32)\n",
    "                    \n",
    "    # Display the memory usage after optimization\n",
    "    print(\"\\nMemory Usage After Optimization:\")\n",
    "    print(df.memory_usage(deep=True).sum() / (1024 ** 2), \"MB\")\n",
    "    return df\n",
    "\n",
    "data = reduce_memory_usage(data)"
   ]
  },
  {
   "cell_type": "code",
   "execution_count": 117,
   "id": "8ee84058",
   "metadata": {},
   "outputs": [
    {
     "data": {
      "text/html": [
       "<div>\n",
       "<style scoped>\n",
       "    .dataframe tbody tr th:only-of-type {\n",
       "        vertical-align: middle;\n",
       "    }\n",
       "\n",
       "    .dataframe tbody tr th {\n",
       "        vertical-align: top;\n",
       "    }\n",
       "\n",
       "    .dataframe thead th {\n",
       "        text-align: right;\n",
       "    }\n",
       "</style>\n",
       "<table border=\"1\" class=\"dataframe\">\n",
       "  <thead>\n",
       "    <tr style=\"text-align: right;\">\n",
       "      <th></th>\n",
       "      <th>stock_id</th>\n",
       "      <th>date_id</th>\n",
       "      <th>seconds_in_bucket</th>\n",
       "      <th>imbalance_size</th>\n",
       "      <th>imbalance_buy_sell_flag</th>\n",
       "      <th>reference_price</th>\n",
       "      <th>matched_size</th>\n",
       "      <th>far_price</th>\n",
       "      <th>near_price</th>\n",
       "      <th>bid_price</th>\n",
       "      <th>bid_size</th>\n",
       "      <th>ask_price</th>\n",
       "      <th>ask_size</th>\n",
       "      <th>wap</th>\n",
       "      <th>target</th>\n",
       "      <th>time_id</th>\n",
       "      <th>row_id</th>\n",
       "    </tr>\n",
       "  </thead>\n",
       "  <tbody>\n",
       "    <tr>\n",
       "      <th>0</th>\n",
       "      <td>0</td>\n",
       "      <td>0</td>\n",
       "      <td>0</td>\n",
       "      <td>3.180603e+06</td>\n",
       "      <td>1</td>\n",
       "      <td>0.999812</td>\n",
       "      <td>13380277.00</td>\n",
       "      <td>NaN</td>\n",
       "      <td>NaN</td>\n",
       "      <td>0.999812</td>\n",
       "      <td>60651.500000</td>\n",
       "      <td>1.000026</td>\n",
       "      <td>8493.030273</td>\n",
       "      <td>1.0</td>\n",
       "      <td>-3.029704</td>\n",
       "      <td>0</td>\n",
       "      <td>0_0_0</td>\n",
       "    </tr>\n",
       "    <tr>\n",
       "      <th>1</th>\n",
       "      <td>1</td>\n",
       "      <td>0</td>\n",
       "      <td>0</td>\n",
       "      <td>1.666039e+05</td>\n",
       "      <td>-1</td>\n",
       "      <td>0.999896</td>\n",
       "      <td>1642214.25</td>\n",
       "      <td>NaN</td>\n",
       "      <td>NaN</td>\n",
       "      <td>0.999896</td>\n",
       "      <td>3233.040039</td>\n",
       "      <td>1.000660</td>\n",
       "      <td>20605.089844</td>\n",
       "      <td>1.0</td>\n",
       "      <td>-5.519986</td>\n",
       "      <td>0</td>\n",
       "      <td>0_0_1</td>\n",
       "    </tr>\n",
       "    <tr>\n",
       "      <th>2</th>\n",
       "      <td>2</td>\n",
       "      <td>0</td>\n",
       "      <td>0</td>\n",
       "      <td>3.028799e+05</td>\n",
       "      <td>-1</td>\n",
       "      <td>0.999561</td>\n",
       "      <td>1819368.00</td>\n",
       "      <td>NaN</td>\n",
       "      <td>NaN</td>\n",
       "      <td>0.999403</td>\n",
       "      <td>37956.000000</td>\n",
       "      <td>1.000298</td>\n",
       "      <td>18995.000000</td>\n",
       "      <td>1.0</td>\n",
       "      <td>-8.389950</td>\n",
       "      <td>0</td>\n",
       "      <td>0_0_2</td>\n",
       "    </tr>\n",
       "    <tr>\n",
       "      <th>3</th>\n",
       "      <td>3</td>\n",
       "      <td>0</td>\n",
       "      <td>0</td>\n",
       "      <td>1.191768e+07</td>\n",
       "      <td>-1</td>\n",
       "      <td>1.000171</td>\n",
       "      <td>18389746.00</td>\n",
       "      <td>NaN</td>\n",
       "      <td>NaN</td>\n",
       "      <td>0.999999</td>\n",
       "      <td>2324.899902</td>\n",
       "      <td>1.000214</td>\n",
       "      <td>479032.406250</td>\n",
       "      <td>1.0</td>\n",
       "      <td>-4.010201</td>\n",
       "      <td>0</td>\n",
       "      <td>0_0_3</td>\n",
       "    </tr>\n",
       "    <tr>\n",
       "      <th>4</th>\n",
       "      <td>4</td>\n",
       "      <td>0</td>\n",
       "      <td>0</td>\n",
       "      <td>4.475500e+05</td>\n",
       "      <td>-1</td>\n",
       "      <td>0.999532</td>\n",
       "      <td>17860614.00</td>\n",
       "      <td>NaN</td>\n",
       "      <td>NaN</td>\n",
       "      <td>0.999394</td>\n",
       "      <td>16485.539062</td>\n",
       "      <td>1.000016</td>\n",
       "      <td>434.100006</td>\n",
       "      <td>1.0</td>\n",
       "      <td>-7.349849</td>\n",
       "      <td>0</td>\n",
       "      <td>0_0_4</td>\n",
       "    </tr>\n",
       "  </tbody>\n",
       "</table>\n",
       "</div>"
      ],
      "text/plain": [
       "   stock_id  date_id  seconds_in_bucket  imbalance_size  \\\n",
       "0         0        0                  0    3.180603e+06   \n",
       "1         1        0                  0    1.666039e+05   \n",
       "2         2        0                  0    3.028799e+05   \n",
       "3         3        0                  0    1.191768e+07   \n",
       "4         4        0                  0    4.475500e+05   \n",
       "\n",
       "   imbalance_buy_sell_flag  reference_price  matched_size  far_price  \\\n",
       "0                        1         0.999812   13380277.00        NaN   \n",
       "1                       -1         0.999896    1642214.25        NaN   \n",
       "2                       -1         0.999561    1819368.00        NaN   \n",
       "3                       -1         1.000171   18389746.00        NaN   \n",
       "4                       -1         0.999532   17860614.00        NaN   \n",
       "\n",
       "   near_price  bid_price      bid_size  ask_price       ask_size  wap  \\\n",
       "0         NaN   0.999812  60651.500000   1.000026    8493.030273  1.0   \n",
       "1         NaN   0.999896   3233.040039   1.000660   20605.089844  1.0   \n",
       "2         NaN   0.999403  37956.000000   1.000298   18995.000000  1.0   \n",
       "3         NaN   0.999999   2324.899902   1.000214  479032.406250  1.0   \n",
       "4         NaN   0.999394  16485.539062   1.000016     434.100006  1.0   \n",
       "\n",
       "     target  time_id row_id  \n",
       "0 -3.029704        0  0_0_0  \n",
       "1 -5.519986        0  0_0_1  \n",
       "2 -8.389950        0  0_0_2  \n",
       "3 -4.010201        0  0_0_3  \n",
       "4 -7.349849        0  0_0_4  "
      ]
     },
     "execution_count": 117,
     "metadata": {},
     "output_type": "execute_result"
    }
   ],
   "source": [
    "data.head() # Reading first few examples "
   ]
  },
  {
   "cell_type": "markdown",
   "id": "510c24f9",
   "metadata": {},
   "source": [
    "## Rolling Averages for Missing Elements"
   ]
  },
  {
   "cell_type": "code",
   "execution_count": 118,
   "id": "103800c4",
   "metadata": {},
   "outputs": [
    {
     "name": "stdout",
     "output_type": "stream",
     "text": [
      "stock_id                         0\n",
      "date_id                          0\n",
      "seconds_in_bucket                0\n",
      "imbalance_size                 220\n",
      "imbalance_buy_sell_flag          0\n",
      "reference_price                220\n",
      "matched_size                   220\n",
      "far_price                  2894342\n",
      "near_price                 2857180\n",
      "bid_price                      220\n",
      "bid_size                         0\n",
      "ask_price                      220\n",
      "ask_size                         0\n",
      "wap                            220\n",
      "target                          88\n",
      "time_id                          0\n",
      "row_id                           0\n",
      "dtype: int64\n"
     ]
    }
   ],
   "source": [
    "print(data.isnull().sum()) # Displaying columns with missing data"
   ]
  },
  {
   "cell_type": "code",
   "execution_count": 119,
   "id": "00cf785b",
   "metadata": {},
   "outputs": [],
   "source": [
    "# Creating list of columns with missing data \n",
    "columns_with_missing_values = ['imbalance_size', 'reference_price', 'matched_size', 'far_price', 'near_price', 'bid_price', 'ask_price', 'wap', 'target']"
   ]
  },
  {
   "cell_type": "code",
   "execution_count": 120,
   "id": "ce4a799e",
   "metadata": {},
   "outputs": [
    {
     "data": {
      "text/plain": [
       "(369508, 369508, 369508, 0, 0, 369508, 369508, 369508, 369508)"
      ]
     },
     "execution_count": 120,
     "metadata": {},
     "output_type": "execute_result"
    }
   ],
   "source": [
    "# Checking if any columns start with missing values\n",
    "\n",
    "first_missing_index_imbalance_size = data['imbalance_size'].isnull().idxmax() if data['imbalance_size'].isnull().any() else None\n",
    "first_missing_index_reference_price = data['reference_price'].isnull().idxmax() if data['reference_price'].isnull().any() else None\n",
    "first_missing_index_matched_size = data['matched_size'].isnull().idxmax() if data['matched_size'].isnull().any() else None\n",
    "first_missing_index_far_price = data['far_price'].isnull().idxmax() if data['far_price'].isnull().any() else None\n",
    "first_missing_index_near_price = data['near_price'].isnull().idxmax() if data['near_price'].isnull().any() else None\n",
    "first_missing_index_bid_price = data['bid_price'].isnull().idxmax() if data['bid_price'].isnull().any() else None\n",
    "first_missing_index_ask_price = data['ask_price'].isnull().idxmax() if data['ask_price'].isnull().any() else None\n",
    "first_missing_index_wap = data['wap'].isnull().idxmax() if data['wap'].isnull().any() else None\n",
    "first_missing_index_target = data['target'].isnull().idxmax() if data['target'].isnull().any() else None\n",
    "\n",
    "\n",
    "first_missing_index_imbalance_size, first_missing_index_reference_price, first_missing_index_matched_size, first_missing_index_far_price, first_missing_index_near_price, first_missing_index_bid_price, first_missing_index_ask_price, first_missing_index_wap, first_missing_index_target"
   ]
  },
  {
   "cell_type": "markdown",
   "id": "1452fb70",
   "metadata": {},
   "source": [
    "## 'far_price' and 'near_price' columns start with missing values so we need to handle these edge cases using linear interpolation"
   ]
  },
  {
   "cell_type": "code",
   "execution_count": 121,
   "id": "26cf7284",
   "metadata": {},
   "outputs": [],
   "source": [
    "window_size = 5 # Number of elements before current missing element to take an average of \n",
    "\n",
    "for col in columns_with_missing_values:\n",
    "    # Create rolling mean for the columns\n",
    "\n",
    "    data[col + '_rolling_mean'] = data[col].rolling(window = window_size, min_periods = 1).mean()\n",
    "\n",
    "    data[col] = data[col].fillna(data[col + '_rolling_mean']) # Fill missing values in the original column with the rolling average\n",
    "\n",
    "    data.drop(columns=[col + '_rolling_mean'], inplace=True) # Drop the temporary rolling mean column\n",
    "    "
   ]
  },
  {
   "cell_type": "code",
   "execution_count": 122,
   "id": "1d0a6f8f",
   "metadata": {},
   "outputs": [
    {
     "data": {
      "text/plain": [
       "(Index([      0,       1,       2,       3,       4,       5,       6,       7,\n",
       "              8,       9,\n",
       "        ...\n",
       "        5232970, 5232971, 5232972, 5232973, 5232974, 5232975, 5232976, 5232977,\n",
       "        5232978, 5232979],\n",
       "       dtype='int64', length=2855173),\n",
       " Index([      0,       1,       2,       3,       4,       5,       6,       7,\n",
       "              8,       9,\n",
       "        ...\n",
       "        5232970, 5232971, 5232972, 5232973, 5232974, 5232975, 5232976, 5232977,\n",
       "        5232978, 5232979],\n",
       "       dtype='int64', length=2855160))"
      ]
     },
     "execution_count": 122,
     "metadata": {},
     "output_type": "execute_result"
    }
   ],
   "source": [
    "missing_indexes_far_price = data[data['far_price'].isnull()].index\n",
    "missing_indexes_near_price = data[data['near_price'].isnull()].index\n",
    "missing_indexes_far_price, missing_indexes_near_price"
   ]
  },
  {
   "cell_type": "code",
   "execution_count": 123,
   "id": "7f71a720",
   "metadata": {},
   "outputs": [
    {
     "name": "stdout",
     "output_type": "stream",
     "text": [
      "stock_id                         0\n",
      "date_id                          0\n",
      "seconds_in_bucket                0\n",
      "imbalance_size                   0\n",
      "imbalance_buy_sell_flag          0\n",
      "reference_price                  0\n",
      "matched_size                     0\n",
      "far_price                  2855173\n",
      "near_price                 2855160\n",
      "bid_price                        0\n",
      "bid_size                         0\n",
      "ask_price                        0\n",
      "ask_size                         0\n",
      "wap                              0\n",
      "target                           0\n",
      "time_id                          0\n",
      "row_id                           0\n",
      "dtype: int64\n"
     ]
    }
   ],
   "source": [
    "print(data.isnull().sum()) # Checking that all missing elements are no longer empty"
   ]
  },
  {
   "cell_type": "code",
   "execution_count": 124,
   "id": "1c03ad59",
   "metadata": {},
   "outputs": [],
   "source": [
    "numeric_columns = data.select_dtypes(include=['int64', 'float64'])\n",
    "numeric_columns_array = np.array(numeric_columns.columns)"
   ]
  },
  {
   "cell_type": "code",
   "execution_count": 125,
   "id": "84e7ddd6",
   "metadata": {},
   "outputs": [
    {
     "name": "stdout",
     "output_type": "stream",
     "text": [
      "[0.0151027333128346, -0.0006998971027982878, 0.026112666117497425, 0.014119148900985827, 0.014444845279485433, 0.01442420940195351, -0.001758626302321915] [0.47356739100587086, -0.0027251165518789875, 0.026112666117497425, 0.4583473297183302, 0.460358814669452, 0.4625678010675628, 0.006031796438557888]\n"
     ]
    }
   ],
   "source": [
    "correlation_far_price = []\n",
    "correlation_near_price = []\n",
    "for i in range(1,len(numeric_columns.columns)):\n",
    "    if numeric_columns_array[i] != 'far_price':\n",
    "        correlation_far_price_value = numeric_columns['far_price'].corr(numeric_columns[numeric_columns_array[i]])\n",
    "        correlation_far_price.append(correlation_far_price_value)\n",
    "    if numeric_columns_array[i] != 'near_price':\n",
    "        correlation_near_price_value = numeric_columns['near_price'].corr(numeric_columns[numeric_columns_array[i]])\n",
    "        correlation_near_price.append(correlation_near_price_value)\n",
    "print(correlation_far_price, correlation_near_price)"
   ]
  },
  {
   "cell_type": "code",
   "execution_count": 126,
   "id": "899453c9",
   "metadata": {},
   "outputs": [
    {
     "name": "stdout",
     "output_type": "stream",
     "text": [
      "Highest correlated column with far_price column is matched_size with value: 0.026112666117497425\n",
      "Highest correlated column with near_price column is imbalance_size with value: 0.47356739100587086\n"
     ]
    }
   ],
   "source": [
    "max_correlation_index_far_price = correlation_far_price.index(max(correlation_far_price))\n",
    "max_correlation_index_near_price = correlation_near_price.index(max(correlation_near_price))\n",
    "print('Highest correlated column with far_price column is',numeric_columns_array[max_correlation_index_far_price], 'with value:', max(correlation_far_price))\n",
    "print('Highest correlated column with near_price column is',numeric_columns_array[max_correlation_index_near_price], 'with value:', max(correlation_near_price))"
   ]
  },
  {
   "cell_type": "markdown",
   "id": "0aeedcf9",
   "metadata": {},
   "source": [
    "- far_price correlation with matched_size \n",
    "- near_price correlation with imbalance_size "
   ]
  },
  {
   "cell_type": "code",
   "execution_count": 127,
   "id": "cffd3b03",
   "metadata": {},
   "outputs": [],
   "source": [
    "data.set_index('matched_size', inplace=True)\n",
    "data['far_price'] = data['far_price'].interpolate(method='linear', limit_direction='both')\n",
    "data.reset_index(inplace=True)\n",
    "\n",
    "data.set_index('imbalance_size', inplace=True)\n",
    "data['near_price'] = data['near_price'].interpolate(method='linear', limit_direction='both')\n",
    "data.reset_index(inplace=True)"
   ]
  },
  {
   "cell_type": "code",
   "execution_count": 128,
   "id": "2c9491ff",
   "metadata": {},
   "outputs": [
    {
     "name": "stdout",
     "output_type": "stream",
     "text": [
      "imbalance_size             0\n",
      "matched_size               0\n",
      "stock_id                   0\n",
      "date_id                    0\n",
      "seconds_in_bucket          0\n",
      "imbalance_buy_sell_flag    0\n",
      "reference_price            0\n",
      "far_price                  0\n",
      "near_price                 0\n",
      "bid_price                  0\n",
      "bid_size                   0\n",
      "ask_price                  0\n",
      "ask_size                   0\n",
      "wap                        0\n",
      "target                     0\n",
      "time_id                    0\n",
      "row_id                     0\n",
      "dtype: int64\n"
     ]
    }
   ],
   "source": [
    "print(data.isnull().sum()) # Checking that all missing elements are no longer empty"
   ]
  }
 ],
 "metadata": {
  "kernelspec": {
   "display_name": "Python 3 (ipykernel)",
   "language": "python",
   "name": "python3"
  },
  "language_info": {
   "codemirror_mode": {
    "name": "ipython",
    "version": 3
   },
   "file_extension": ".py",
   "mimetype": "text/x-python",
   "name": "python",
   "nbconvert_exporter": "python",
   "pygments_lexer": "ipython3",
   "version": "3.10.7"
  }
 },
 "nbformat": 4,
 "nbformat_minor": 5
}
