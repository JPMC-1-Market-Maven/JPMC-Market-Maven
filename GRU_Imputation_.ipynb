{
 "cells": [
  {
   "cell_type": "markdown",
   "metadata": {
    "id": "a9PZOCC7AV7s"
   },
   "source": [
    "# Importing Packages, Loading in the Training Data, and Exploring Memory Usage"
   ]
  },
  {
   "cell_type": "code",
   "execution_count": 23,
   "metadata": {
    "colab": {
     "base_uri": "https://localhost:8080/",
     "height": 226
    },
    "id": "odlpH6DnAXEv",
    "outputId": "7cb44a49-29cb-4e98-b122-c75f957741ea"
   },
   "outputs": [
    {
     "data": {
      "text/html": [
       "<div>\n",
       "<style scoped>\n",
       "    .dataframe tbody tr th:only-of-type {\n",
       "        vertical-align: middle;\n",
       "    }\n",
       "\n",
       "    .dataframe tbody tr th {\n",
       "        vertical-align: top;\n",
       "    }\n",
       "\n",
       "    .dataframe thead th {\n",
       "        text-align: right;\n",
       "    }\n",
       "</style>\n",
       "<table border=\"1\" class=\"dataframe\">\n",
       "  <thead>\n",
       "    <tr style=\"text-align: right;\">\n",
       "      <th></th>\n",
       "      <th>stock_id</th>\n",
       "      <th>date_id</th>\n",
       "      <th>seconds_in_bucket</th>\n",
       "      <th>imbalance_size</th>\n",
       "      <th>imbalance_buy_sell_flag</th>\n",
       "      <th>reference_price</th>\n",
       "      <th>matched_size</th>\n",
       "      <th>far_price</th>\n",
       "      <th>near_price</th>\n",
       "      <th>bid_price</th>\n",
       "      <th>bid_size</th>\n",
       "      <th>ask_price</th>\n",
       "      <th>ask_size</th>\n",
       "      <th>wap</th>\n",
       "      <th>target</th>\n",
       "      <th>time_id</th>\n",
       "      <th>row_id</th>\n",
       "    </tr>\n",
       "  </thead>\n",
       "  <tbody>\n",
       "    <tr>\n",
       "      <th>0</th>\n",
       "      <td>0</td>\n",
       "      <td>0</td>\n",
       "      <td>0</td>\n",
       "      <td>3180602.69</td>\n",
       "      <td>1</td>\n",
       "      <td>0.999812</td>\n",
       "      <td>13380276.64</td>\n",
       "      <td>NaN</td>\n",
       "      <td>NaN</td>\n",
       "      <td>0.999812</td>\n",
       "      <td>60651.50</td>\n",
       "      <td>1.000026</td>\n",
       "      <td>8493.03</td>\n",
       "      <td>1.0</td>\n",
       "      <td>-3.029704</td>\n",
       "      <td>0</td>\n",
       "      <td>0_0_0</td>\n",
       "    </tr>\n",
       "    <tr>\n",
       "      <th>1</th>\n",
       "      <td>1</td>\n",
       "      <td>0</td>\n",
       "      <td>0</td>\n",
       "      <td>166603.91</td>\n",
       "      <td>-1</td>\n",
       "      <td>0.999896</td>\n",
       "      <td>1642214.25</td>\n",
       "      <td>NaN</td>\n",
       "      <td>NaN</td>\n",
       "      <td>0.999896</td>\n",
       "      <td>3233.04</td>\n",
       "      <td>1.000660</td>\n",
       "      <td>20605.09</td>\n",
       "      <td>1.0</td>\n",
       "      <td>-5.519986</td>\n",
       "      <td>0</td>\n",
       "      <td>0_0_1</td>\n",
       "    </tr>\n",
       "    <tr>\n",
       "      <th>2</th>\n",
       "      <td>2</td>\n",
       "      <td>0</td>\n",
       "      <td>0</td>\n",
       "      <td>302879.87</td>\n",
       "      <td>-1</td>\n",
       "      <td>0.999561</td>\n",
       "      <td>1819368.03</td>\n",
       "      <td>NaN</td>\n",
       "      <td>NaN</td>\n",
       "      <td>0.999403</td>\n",
       "      <td>37956.00</td>\n",
       "      <td>1.000298</td>\n",
       "      <td>18995.00</td>\n",
       "      <td>1.0</td>\n",
       "      <td>-8.389950</td>\n",
       "      <td>0</td>\n",
       "      <td>0_0_2</td>\n",
       "    </tr>\n",
       "    <tr>\n",
       "      <th>3</th>\n",
       "      <td>3</td>\n",
       "      <td>0</td>\n",
       "      <td>0</td>\n",
       "      <td>11917682.27</td>\n",
       "      <td>-1</td>\n",
       "      <td>1.000171</td>\n",
       "      <td>18389745.62</td>\n",
       "      <td>NaN</td>\n",
       "      <td>NaN</td>\n",
       "      <td>0.999999</td>\n",
       "      <td>2324.90</td>\n",
       "      <td>1.000214</td>\n",
       "      <td>479032.40</td>\n",
       "      <td>1.0</td>\n",
       "      <td>-4.010200</td>\n",
       "      <td>0</td>\n",
       "      <td>0_0_3</td>\n",
       "    </tr>\n",
       "    <tr>\n",
       "      <th>4</th>\n",
       "      <td>4</td>\n",
       "      <td>0</td>\n",
       "      <td>0</td>\n",
       "      <td>447549.96</td>\n",
       "      <td>-1</td>\n",
       "      <td>0.999532</td>\n",
       "      <td>17860614.95</td>\n",
       "      <td>NaN</td>\n",
       "      <td>NaN</td>\n",
       "      <td>0.999394</td>\n",
       "      <td>16485.54</td>\n",
       "      <td>1.000016</td>\n",
       "      <td>434.10</td>\n",
       "      <td>1.0</td>\n",
       "      <td>-7.349849</td>\n",
       "      <td>0</td>\n",
       "      <td>0_0_4</td>\n",
       "    </tr>\n",
       "  </tbody>\n",
       "</table>\n",
       "</div>"
      ],
      "text/plain": [
       "   stock_id  date_id  seconds_in_bucket  imbalance_size  \\\n",
       "0         0        0                  0      3180602.69   \n",
       "1         1        0                  0       166603.91   \n",
       "2         2        0                  0       302879.87   \n",
       "3         3        0                  0     11917682.27   \n",
       "4         4        0                  0       447549.96   \n",
       "\n",
       "   imbalance_buy_sell_flag  reference_price  matched_size  far_price  \\\n",
       "0                        1         0.999812   13380276.64        NaN   \n",
       "1                       -1         0.999896    1642214.25        NaN   \n",
       "2                       -1         0.999561    1819368.03        NaN   \n",
       "3                       -1         1.000171   18389745.62        NaN   \n",
       "4                       -1         0.999532   17860614.95        NaN   \n",
       "\n",
       "   near_price  bid_price  bid_size  ask_price   ask_size  wap    target  \\\n",
       "0         NaN   0.999812  60651.50   1.000026    8493.03  1.0 -3.029704   \n",
       "1         NaN   0.999896   3233.04   1.000660   20605.09  1.0 -5.519986   \n",
       "2         NaN   0.999403  37956.00   1.000298   18995.00  1.0 -8.389950   \n",
       "3         NaN   0.999999   2324.90   1.000214  479032.40  1.0 -4.010200   \n",
       "4         NaN   0.999394  16485.54   1.000016     434.10  1.0 -7.349849   \n",
       "\n",
       "   time_id row_id  \n",
       "0        0  0_0_0  \n",
       "1        0  0_0_1  \n",
       "2        0  0_0_2  \n",
       "3        0  0_0_3  \n",
       "4        0  0_0_4  "
      ]
     },
     "execution_count": 23,
     "metadata": {},
     "output_type": "execute_result"
    }
   ],
   "source": [
    "import pandas as pd\n",
    "import numpy as np\n",
    "from sklearn.preprocessing import MinMaxScaler\n",
    "from sklearn.model_selection import train_test_split\n",
    "from tensorflow.keras.models import Sequential\n",
    "from tensorflow.keras.layers import GRU, Dense, Dropout, Input\n",
    "from sklearn.linear_model import LinearRegression\n",
    "from tensorflow.keras.optimizers import Adam\n",
    "from tensorflow.keras.preprocessing.sequence import TimeseriesGenerator\n",
    "import tensorflow as tf\n",
    "from sklearn.metrics import mean_absolute_error\n",
    "import random\n",
    "\n",
    "\n",
    "# Load the training data\n",
    "data = pd.read_csv('/Users/samhitha/Desktop/JPMC_Samhitha/train.csv')\n",
    "\n",
    "# Preview the first few rows of the dataset\n",
    "data.head()"
   ]
  },
  {
   "cell_type": "code",
   "execution_count": 24,
   "metadata": {
    "colab": {
     "base_uri": "https://localhost:8080/"
    },
    "id": "w_ng6I9-AfRb",
    "outputId": "7c13f9d0-8b80-46af-ebf8-c5eefa6ba8bb"
   },
   "outputs": [
    {
     "data": {
      "text/plain": [
       "17"
      ]
     },
     "execution_count": 24,
     "metadata": {},
     "output_type": "execute_result"
    }
   ],
   "source": [
    "len(data.columns)"
   ]
  },
  {
   "cell_type": "code",
   "execution_count": 25,
   "metadata": {},
   "outputs": [
    {
     "data": {
      "text/plain": [
       "(5237980, 17)"
      ]
     },
     "execution_count": 25,
     "metadata": {},
     "output_type": "execute_result"
    }
   ],
   "source": [
    "data.shape"
   ]
  },
  {
   "cell_type": "code",
   "execution_count": 26,
   "metadata": {
    "colab": {
     "base_uri": "https://localhost:8080/"
    },
    "id": "CjVGmxk2A7JL",
    "outputId": "bfcec482-4b19-46e7-c35b-599f5f44ba96"
   },
   "outputs": [
    {
     "name": "stdout",
     "output_type": "stream",
     "text": [
      "Memory Usage Before Optimization:\n",
      "974.2033262252808 MB\n",
      "\n",
      "Memory Usage After Optimization:\n",
      "599.5538015365601 MB\n"
     ]
    }
   ],
   "source": [
    "def reduce_memory_usage(df):\n",
    "    print(\"Memory Usage Before Optimization:\")\n",
    "    print(df.memory_usage(deep=True).sum() / (1024 ** 2), \"MB\")\n",
    "\n",
    "    # Iterate through each column in the DataFrame\n",
    "    for col in df.columns:\n",
    "        col_type = df[col].dtype\n",
    "\n",
    "        # Check if the column's data type is numeric\n",
    "        if col_type != object:\n",
    "            c_min = df[col].min()\n",
    "            c_max = df[col].max()\n",
    "\n",
    "            # Check if the column's data type is an integer\n",
    "            if str(col_type)[:3] == \"int\":\n",
    "                if c_min > np.iinfo(np.int8).min and c_max < np.iinfo(np.int8).max:\n",
    "                    df[col] = df[col].astype(np.int8)\n",
    "                elif c_min > np.iinfo(np.int16).min and c_max < np.iinfo(np.int16).max:\n",
    "                    df[col] = df[col].astype(np.int16)\n",
    "                elif c_min > np.iinfo(np.int32).min and c_max < np.iinfo(np.int32).max:\n",
    "                    df[col] = df[col].astype(np.int32)\n",
    "                elif c_min > np.iinfo(np.int64).min and c_max < np.iinfo(np.int64).max:\n",
    "                    df[col] = df[col].astype(np.int64)\n",
    "            else:\n",
    "                # Check if the column's data type is a float\n",
    "                if c_min > np.finfo(np.float16).min and c_max < np.finfo(np.float16).max:\n",
    "                    df[col] = df[col].astype(np.float32)\n",
    "                elif c_min > np.finfo(np.float32).min and c_max < np.finfo(np.float32).max:\n",
    "                    df[col] = df[col].astype(np.float32)\n",
    "                else:\n",
    "                    df[col] = df[col].astype(np.float32)\n",
    "\n",
    "    # Display the memory usage after optimization\n",
    "    print(\"\\nMemory Usage After Optimization:\")\n",
    "    print(df.memory_usage(deep=True).sum() / (1024 ** 2), \"MB\")\n",
    "    return df\n",
    "\n",
    "data = reduce_memory_usage(data)"
   ]
  },
  {
   "cell_type": "markdown",
   "metadata": {
    "id": "B0Z2XxG4BJqQ"
   },
   "source": [
    "# Rolling Average Method to deal with na Values"
   ]
  },
  {
   "cell_type": "code",
   "execution_count": 27,
   "metadata": {
    "colab": {
     "base_uri": "https://localhost:8080/"
    },
    "id": "ryW9vBY8BBUW",
    "outputId": "9d24f53f-072f-46cc-ef99-f966eba92344"
   },
   "outputs": [
    {
     "name": "stdout",
     "output_type": "stream",
     "text": [
      "stock_id                         0\n",
      "date_id                          0\n",
      "seconds_in_bucket                0\n",
      "imbalance_size                 220\n",
      "imbalance_buy_sell_flag          0\n",
      "reference_price                220\n",
      "matched_size                   220\n",
      "far_price                  2894342\n",
      "near_price                 2857180\n",
      "bid_price                      220\n",
      "bid_size                         0\n",
      "ask_price                      220\n",
      "ask_size                         0\n",
      "wap                            220\n",
      "target                          88\n",
      "time_id                          0\n",
      "row_id                           0\n",
      "dtype: int64\n"
     ]
    }
   ],
   "source": [
    "print(data.isnull().sum())"
   ]
  },
  {
   "cell_type": "code",
   "execution_count": 28,
   "metadata": {
    "id": "38-zkNnpBOc5"
   },
   "outputs": [],
   "source": [
    "columns_with_missing_values = ['imbalance_size', 'reference_price', 'matched_size', 'far_price', 'near_price', 'bid_price', 'ask_price', 'wap', 'target']"
   ]
  },
  {
   "cell_type": "code",
   "execution_count": 29,
   "metadata": {
    "colab": {
     "base_uri": "https://localhost:8080/"
    },
    "id": "ODtmnaXjBRAx",
    "outputId": "b411676f-b6e9-4dac-a581-fb5458d38e73"
   },
   "outputs": [
    {
     "data": {
      "text/plain": [
       "(369508, 369508, 369508)"
      ]
     },
     "execution_count": 29,
     "metadata": {},
     "output_type": "execute_result"
    }
   ],
   "source": [
    "# Checking if any columns start with missing values\n",
    "\n",
    "first_missing_index_imbalance_size = data['imbalance_size'].isnull().idxmax() if data['imbalance_size'].isnull().any() else None\n",
    "first_missing_index_reference_price = data['reference_price'].isnull().idxmax() if data['reference_price'].isnull().any() else None\n",
    "first_missing_index_matched_size = data['matched_size'].isnull().idxmax() if data['matched_size'].isnull().any() else None\n",
    "first_missing_index_far_price = data['far_price'].isnull().idxmax() if data['far_price'].isnull().any() else None\n",
    "first_missing_index_near_price = data['near_price'].isnull().idxmax() if data['near_price'].isnull().any() else None\n",
    "first_missing_index_bid_price = data['bid_price'].isnull().idxmax() if data['bid_price'].isnull().any() else None\n",
    "first_missing_index_ask_price = data['ask_price'].isnull().idxmax() if data['ask_price'].isnull().any() else None\n",
    "first_missing_index_wap = data['wap'].isnull().idxmax() if data['wap'].isnull().any() else None\n",
    "first_missing_index_target = data['target'].isnull().idxmax() if data['target'].isnull().any() else None\n",
    "\n",
    "\n",
    "first_missing_index_imbalance_size, first_missing_index_reference_price, first_missing_index_matched_size,\n",
    "first_missing_index_far_price, first_missing_index_near_price, first_missing_index_bid_price,\n",
    "first_missing_index_ask_price, first_missing_index_wap, first_missing_index_target"
   ]
  },
  {
   "cell_type": "markdown",
   "metadata": {
    "id": "o6UX4JH8BeAs"
   },
   "source": [
    "'far_price' and 'near_price' columns start with missing values so we need to handle these edge cases using -1 imputations"
   ]
  },
  {
   "cell_type": "code",
   "execution_count": 30,
   "metadata": {
    "colab": {
     "base_uri": "https://localhost:8080/"
    },
    "id": "ENB4iN5bBUfy",
    "outputId": "c50139ea-679b-49bb-f7f1-35b37c281add"
   },
   "outputs": [
    {
     "name": "stdout",
     "output_type": "stream",
     "text": [
      "stock_id                   0\n",
      "date_id                    0\n",
      "seconds_in_bucket          0\n",
      "imbalance_size             0\n",
      "imbalance_buy_sell_flag    0\n",
      "reference_price            0\n",
      "matched_size               0\n",
      "far_price                  0\n",
      "near_price                 0\n",
      "bid_price                  0\n",
      "bid_size                   0\n",
      "ask_price                  0\n",
      "ask_size                   0\n",
      "wap                        0\n",
      "target                     0\n",
      "time_id                    0\n",
      "row_id                     0\n",
      "dtype: int64\n"
     ]
    }
   ],
   "source": [
    "for col in columns_with_missing_values:\n",
    "\n",
    "    data[col] = data[col].fillna(-1)\n",
    "\n",
    "print(data.isnull().sum()) #should be 0 if all missing elements have been handled"
   ]
  },
  {
   "cell_type": "markdown",
   "metadata": {
    "id": "_ikprEzGBnPp"
   },
   "source": [
    "# Creating New Features"
   ]
  },
  {
   "cell_type": "code",
   "execution_count": 31,
   "metadata": {
    "id": "5KzmgLjKBqBh"
   },
   "outputs": [],
   "source": [
    "data['bid_ref_price_diff'] = data['bid_price'] - data['reference_price']\n",
    "data['bid_ref_price_ratio'] = data['bid_price'] / data['reference_price']\n",
    "data['ref_price_ma_5'] = data['reference_price'].rolling(window=5).mean()\n",
    "data['price_momentum'] = data['reference_price'].diff()\n",
    "data['volume_weighted_price'] = (data['reference_price'] * data['matched_size']) / data['matched_size'].sum()\n",
    "data['bid_size_volume_ratio'] = data['bid_size'] / data['matched_size']\n",
    "data['imbalance_volume_interaction'] = data['imbalance_size'] * data['matched_size']\n",
    "data['day_of_week'] = data['date_id'] % 7\n",
    "data['hour_of_day'] = (data['seconds_in_bucket'] // 3600) % 24\n",
    "data['price_volatility'] = data['reference_price'].rolling(window=5).std()"
   ]
  },
  {
   "cell_type": "code",
   "execution_count": 32,
   "metadata": {
    "colab": {
     "base_uri": "https://localhost:8080/"
    },
    "id": "oVztqx8FBtuS",
    "outputId": "9c07d278-5853-4f5d-cfe5-e1e458f50b2e"
   },
   "outputs": [
    {
     "name": "stdout",
     "output_type": "stream",
     "text": [
      "stock_id                        0\n",
      "date_id                         0\n",
      "seconds_in_bucket               0\n",
      "imbalance_size                  0\n",
      "imbalance_buy_sell_flag         0\n",
      "reference_price                 0\n",
      "matched_size                    0\n",
      "far_price                       0\n",
      "near_price                      0\n",
      "bid_price                       0\n",
      "bid_size                        0\n",
      "ask_price                       0\n",
      "ask_size                        0\n",
      "wap                             0\n",
      "target                          0\n",
      "time_id                         0\n",
      "row_id                          0\n",
      "bid_ref_price_diff              0\n",
      "bid_ref_price_ratio             0\n",
      "ref_price_ma_5                  4\n",
      "price_momentum                  1\n",
      "volume_weighted_price           0\n",
      "bid_size_volume_ratio           0\n",
      "imbalance_volume_interaction    0\n",
      "day_of_week                     0\n",
      "hour_of_day                     0\n",
      "price_volatility                4\n",
      "dtype: int64\n"
     ]
    }
   ],
   "source": [
    "print(data.isnull().sum())"
   ]
  },
  {
   "cell_type": "code",
   "execution_count": 33,
   "metadata": {
    "id": "w32iQY-3B7qh"
   },
   "outputs": [],
   "source": [
    "new_columns_with_missing_values = ['ref_price_ma_5', 'price_momentum', 'price_volatility']"
   ]
  },
  {
   "cell_type": "code",
   "execution_count": 34,
   "metadata": {
    "colab": {
     "base_uri": "https://localhost:8080/"
    },
    "id": "ROM_yXgEB_wK",
    "outputId": "f68a77bd-de86-4f0a-bc6a-c34e177fa6d7"
   },
   "outputs": [
    {
     "name": "stdout",
     "output_type": "stream",
     "text": [
      "stock_id                        0\n",
      "date_id                         0\n",
      "seconds_in_bucket               0\n",
      "imbalance_size                  0\n",
      "imbalance_buy_sell_flag         0\n",
      "reference_price                 0\n",
      "matched_size                    0\n",
      "far_price                       0\n",
      "near_price                      0\n",
      "bid_price                       0\n",
      "bid_size                        0\n",
      "ask_price                       0\n",
      "ask_size                        0\n",
      "wap                             0\n",
      "target                          0\n",
      "time_id                         0\n",
      "row_id                          0\n",
      "bid_ref_price_diff              0\n",
      "bid_ref_price_ratio             0\n",
      "ref_price_ma_5                  0\n",
      "price_momentum                  0\n",
      "volume_weighted_price           0\n",
      "bid_size_volume_ratio           0\n",
      "imbalance_volume_interaction    0\n",
      "day_of_week                     0\n",
      "hour_of_day                     0\n",
      "price_volatility                0\n",
      "dtype: int64\n"
     ]
    }
   ],
   "source": [
    "window_size = 5 # Number of elements before current missing element to take an average of\n",
    "\n",
    "for col in new_columns_with_missing_values:\n",
    "    data[col] = data[col].fillna(-1) # Using backward fill\n",
    "\n",
    "print(data.isnull().sum()) #should be 0 if all missing elements have been handled"
   ]
  },
  {
   "cell_type": "code",
   "execution_count": 35,
   "metadata": {},
   "outputs": [],
   "source": [
    "seed_value = 42\n",
    "np.random.seed(seed_value)\n",
    "tf.random.set_seed(seed_value)\n",
    "random.seed(seed_value)"
   ]
  },
  {
   "cell_type": "code",
   "execution_count": 36,
   "metadata": {
    "id": "Zcv53Oe2CHj5"
   },
   "outputs": [],
   "source": [
    "features = ['imbalance_size', 'imbalance_buy_sell_flag', 'reference_price', 'matched_size',\n",
    "            'far_price', 'near_price', 'bid_price', 'bid_size', 'ask_price', 'ask_size',\n",
    "            'wap', 'bid_ref_price_diff', 'bid_ref_price_ratio', 'ref_price_ma_5',\n",
    "            'price_momentum', 'volume_weighted_price', 'bid_size_volume_ratio',\n",
    "            'imbalance_volume_interaction', 'day_of_week', 'hour_of_day', 'price_volatility']\n",
    "target_column = 'target'"
   ]
  },
  {
   "cell_type": "code",
   "execution_count": 37,
   "metadata": {
    "id": "Uy1vpKVpOoh9"
   },
   "outputs": [],
   "source": [
    "X = data[features].values\n",
    "y = data[target_column].values.reshape(-1, 1)"
   ]
  },
  {
   "cell_type": "code",
   "execution_count": 38,
   "metadata": {},
   "outputs": [],
   "source": [
    "scaler_X = MinMaxScaler()\n",
    "scaler_y = MinMaxScaler()"
   ]
  },
  {
   "cell_type": "code",
   "execution_count": 39,
   "metadata": {
    "id": "jOQDmX7DPLAW"
   },
   "outputs": [],
   "source": [
    "X_scaled = scaler_X.fit_transform(X)\n",
    "y_scaled = scaler_y.fit_transform(y)"
   ]
  },
  {
   "cell_type": "code",
   "execution_count": 40,
   "metadata": {},
   "outputs": [],
   "source": [
    "time_step = 55  # Number of previous time steps to use\n",
    "batch_size = 64  # Batch size for training\n",
    "\n",
    "# Create time-series generators for training and testing\n",
    "split_index = int(len(X_scaled) * 0.75)\n",
    "X_train, X_test = X_scaled[:split_index], X_scaled[split_index:]\n",
    "y_train, y_test = y_scaled[:split_index], y_scaled[split_index:]\n",
    "\n",
    "# Training and validation generators\n",
    "train_generator = TimeseriesGenerator(X_train, y_train, length=time_step, batch_size=batch_size)\n",
    "test_generator = TimeseriesGenerator(X_test, y_test, length=time_step, batch_size=batch_size)"
   ]
  },
  {
   "cell_type": "code",
   "execution_count": 41,
   "metadata": {
    "id": "UxFaercGRWkN"
   },
   "outputs": [
    {
     "name": "stderr",
     "output_type": "stream",
     "text": [
      "/Library/Frameworks/Python.framework/Versions/3.11/lib/python3.11/site-packages/keras/src/layers/rnn/rnn.py:204: UserWarning: Do not pass an `input_shape`/`input_dim` argument to a layer. When using Sequential models, prefer using an `Input(shape)` object as the first layer in the model instead.\n",
      "  super().__init__(**kwargs)\n"
     ]
    },
    {
     "data": {
      "text/html": [
       "<pre style=\"white-space:pre;overflow-x:auto;line-height:normal;font-family:Menlo,'DejaVu Sans Mono',consolas,'Courier New',monospace\"><span style=\"font-weight: bold\">Model: \"sequential\"</span>\n",
       "</pre>\n"
      ],
      "text/plain": [
       "\u001b[1mModel: \"sequential\"\u001b[0m\n"
      ]
     },
     "metadata": {},
     "output_type": "display_data"
    },
    {
     "data": {
      "text/html": [
       "<pre style=\"white-space:pre;overflow-x:auto;line-height:normal;font-family:Menlo,'DejaVu Sans Mono',consolas,'Courier New',monospace\">┏━━━━━━━━━━━━━━━━━━━━━━━━━━━━━━━━━┳━━━━━━━━━━━━━━━━━━━━━━━━┳━━━━━━━━━━━━━━━┓\n",
       "┃<span style=\"font-weight: bold\"> Layer (type)                    </span>┃<span style=\"font-weight: bold\"> Output Shape           </span>┃<span style=\"font-weight: bold\">       Param # </span>┃\n",
       "┡━━━━━━━━━━━━━━━━━━━━━━━━━━━━━━━━━╇━━━━━━━━━━━━━━━━━━━━━━━━╇━━━━━━━━━━━━━━━┩\n",
       "│ gru (<span style=\"color: #0087ff; text-decoration-color: #0087ff\">GRU</span>)                       │ (<span style=\"color: #00d7ff; text-decoration-color: #00d7ff\">None</span>, <span style=\"color: #00af00; text-decoration-color: #00af00\">55</span>, <span style=\"color: #00af00; text-decoration-color: #00af00\">128</span>)        │        <span style=\"color: #00af00; text-decoration-color: #00af00\">57,984</span> │\n",
       "├─────────────────────────────────┼────────────────────────┼───────────────┤\n",
       "│ gru_1 (<span style=\"color: #0087ff; text-decoration-color: #0087ff\">GRU</span>)                     │ (<span style=\"color: #00d7ff; text-decoration-color: #00d7ff\">None</span>, <span style=\"color: #00af00; text-decoration-color: #00af00\">55</span>, <span style=\"color: #00af00; text-decoration-color: #00af00\">64</span>)         │        <span style=\"color: #00af00; text-decoration-color: #00af00\">37,248</span> │\n",
       "├─────────────────────────────────┼────────────────────────┼───────────────┤\n",
       "│ gru_2 (<span style=\"color: #0087ff; text-decoration-color: #0087ff\">GRU</span>)                     │ (<span style=\"color: #00d7ff; text-decoration-color: #00d7ff\">None</span>, <span style=\"color: #00af00; text-decoration-color: #00af00\">32</span>)             │         <span style=\"color: #00af00; text-decoration-color: #00af00\">9,408</span> │\n",
       "├─────────────────────────────────┼────────────────────────┼───────────────┤\n",
       "│ dropout (<span style=\"color: #0087ff; text-decoration-color: #0087ff\">Dropout</span>)               │ (<span style=\"color: #00d7ff; text-decoration-color: #00d7ff\">None</span>, <span style=\"color: #00af00; text-decoration-color: #00af00\">32</span>)             │             <span style=\"color: #00af00; text-decoration-color: #00af00\">0</span> │\n",
       "├─────────────────────────────────┼────────────────────────┼───────────────┤\n",
       "│ dense (<span style=\"color: #0087ff; text-decoration-color: #0087ff\">Dense</span>)                   │ (<span style=\"color: #00d7ff; text-decoration-color: #00d7ff\">None</span>, <span style=\"color: #00af00; text-decoration-color: #00af00\">1</span>)              │            <span style=\"color: #00af00; text-decoration-color: #00af00\">33</span> │\n",
       "└─────────────────────────────────┴────────────────────────┴───────────────┘\n",
       "</pre>\n"
      ],
      "text/plain": [
       "┏━━━━━━━━━━━━━━━━━━━━━━━━━━━━━━━━━┳━━━━━━━━━━━━━━━━━━━━━━━━┳━━━━━━━━━━━━━━━┓\n",
       "┃\u001b[1m \u001b[0m\u001b[1mLayer (type)                   \u001b[0m\u001b[1m \u001b[0m┃\u001b[1m \u001b[0m\u001b[1mOutput Shape          \u001b[0m\u001b[1m \u001b[0m┃\u001b[1m \u001b[0m\u001b[1m      Param #\u001b[0m\u001b[1m \u001b[0m┃\n",
       "┡━━━━━━━━━━━━━━━━━━━━━━━━━━━━━━━━━╇━━━━━━━━━━━━━━━━━━━━━━━━╇━━━━━━━━━━━━━━━┩\n",
       "│ gru (\u001b[38;5;33mGRU\u001b[0m)                       │ (\u001b[38;5;45mNone\u001b[0m, \u001b[38;5;34m55\u001b[0m, \u001b[38;5;34m128\u001b[0m)        │        \u001b[38;5;34m57,984\u001b[0m │\n",
       "├─────────────────────────────────┼────────────────────────┼───────────────┤\n",
       "│ gru_1 (\u001b[38;5;33mGRU\u001b[0m)                     │ (\u001b[38;5;45mNone\u001b[0m, \u001b[38;5;34m55\u001b[0m, \u001b[38;5;34m64\u001b[0m)         │        \u001b[38;5;34m37,248\u001b[0m │\n",
       "├─────────────────────────────────┼────────────────────────┼───────────────┤\n",
       "│ gru_2 (\u001b[38;5;33mGRU\u001b[0m)                     │ (\u001b[38;5;45mNone\u001b[0m, \u001b[38;5;34m32\u001b[0m)             │         \u001b[38;5;34m9,408\u001b[0m │\n",
       "├─────────────────────────────────┼────────────────────────┼───────────────┤\n",
       "│ dropout (\u001b[38;5;33mDropout\u001b[0m)               │ (\u001b[38;5;45mNone\u001b[0m, \u001b[38;5;34m32\u001b[0m)             │             \u001b[38;5;34m0\u001b[0m │\n",
       "├─────────────────────────────────┼────────────────────────┼───────────────┤\n",
       "│ dense (\u001b[38;5;33mDense\u001b[0m)                   │ (\u001b[38;5;45mNone\u001b[0m, \u001b[38;5;34m1\u001b[0m)              │            \u001b[38;5;34m33\u001b[0m │\n",
       "└─────────────────────────────────┴────────────────────────┴───────────────┘\n"
      ]
     },
     "metadata": {},
     "output_type": "display_data"
    },
    {
     "data": {
      "text/html": [
       "<pre style=\"white-space:pre;overflow-x:auto;line-height:normal;font-family:Menlo,'DejaVu Sans Mono',consolas,'Courier New',monospace\"><span style=\"font-weight: bold\"> Total params: </span><span style=\"color: #00af00; text-decoration-color: #00af00\">104,673</span> (408.88 KB)\n",
       "</pre>\n"
      ],
      "text/plain": [
       "\u001b[1m Total params: \u001b[0m\u001b[38;5;34m104,673\u001b[0m (408.88 KB)\n"
      ]
     },
     "metadata": {},
     "output_type": "display_data"
    },
    {
     "data": {
      "text/html": [
       "<pre style=\"white-space:pre;overflow-x:auto;line-height:normal;font-family:Menlo,'DejaVu Sans Mono',consolas,'Courier New',monospace\"><span style=\"font-weight: bold\"> Trainable params: </span><span style=\"color: #00af00; text-decoration-color: #00af00\">104,673</span> (408.88 KB)\n",
       "</pre>\n"
      ],
      "text/plain": [
       "\u001b[1m Trainable params: \u001b[0m\u001b[38;5;34m104,673\u001b[0m (408.88 KB)\n"
      ]
     },
     "metadata": {},
     "output_type": "display_data"
    },
    {
     "data": {
      "text/html": [
       "<pre style=\"white-space:pre;overflow-x:auto;line-height:normal;font-family:Menlo,'DejaVu Sans Mono',consolas,'Courier New',monospace\"><span style=\"font-weight: bold\"> Non-trainable params: </span><span style=\"color: #00af00; text-decoration-color: #00af00\">0</span> (0.00 B)\n",
       "</pre>\n"
      ],
      "text/plain": [
       "\u001b[1m Non-trainable params: \u001b[0m\u001b[38;5;34m0\u001b[0m (0.00 B)\n"
      ]
     },
     "metadata": {},
     "output_type": "display_data"
    }
   ],
   "source": [
    "time_step = 55\n",
    "n_features = X_scaled.shape[1]\n",
    "\n",
    "# Create a Sequential model\n",
    "model = Sequential()\n",
    "\n",
    "# Add the first GRU layer (with return_sequences=True for stacking)\n",
    "model.add(GRU(128, activation='tanh', return_sequences=True, input_shape=(time_step, n_features)))\n",
    "\n",
    "# Add a second GRU layer\n",
    "model.add(GRU(64, activation='tanh', return_sequences=True))\n",
    "\n",
    "# Add a third GRU layer (without return_sequences as it's the final GRU layer)\n",
    "model.add(GRU(32, activation='tanh'))\n",
    "\n",
    "# Add a Dropout layer for regularization\n",
    "model.add(Dropout(0.2))\n",
    "\n",
    "# Add a Dense output layer (assuming regression task; adjust units and activation if classification)\n",
    "model.add(Dense(1, activation='linear'))\n",
    "\n",
    "# Compile the model\n",
    "model.compile(optimizer='adam', loss='mae', metrics=['mae'])\n",
    "\n",
    "# Print the model summary\n",
    "model.summary()"
   ]
  },
  {
   "cell_type": "code",
   "execution_count": 20,
   "metadata": {},
   "outputs": [],
   "source": [
    "# n_features = X_scaled.shape[1]"
   ]
  },
  {
   "cell_type": "code",
   "execution_count": 20,
   "metadata": {},
   "outputs": [
    {
     "name": "stderr",
     "output_type": "stream",
     "text": [
      "/Library/Frameworks/Python.framework/Versions/3.11/lib/python3.11/site-packages/keras/src/layers/rnn/rnn.py:204: UserWarning: Do not pass an `input_shape`/`input_dim` argument to a layer. When using Sequential models, prefer using an `Input(shape)` object as the first layer in the model instead.\n",
      "  super().__init__(**kwargs)\n"
     ]
    }
   ],
   "source": [
    "# model = Sequential([\n",
    "#     GRU(50, activation='relu', input_shape=(time_step, n_features)),  # Single GRU layer\n",
    "#     Dense(1)  # Output layer for regression\n",
    "# ])"
   ]
  },
  {
   "cell_type": "code",
   "execution_count": 21,
   "metadata": {},
   "outputs": [],
   "source": [
    "# model.compile(optimizer=Adam(), loss='mae')"
   ]
  },
  {
   "cell_type": "code",
   "execution_count": 42,
   "metadata": {},
   "outputs": [],
   "source": [
    "tf.keras.backend.clear_session()"
   ]
  },
  {
   "cell_type": "code",
   "execution_count": 43,
   "metadata": {},
   "outputs": [
    {
     "name": "stderr",
     "output_type": "stream",
     "text": [
      "/Library/Frameworks/Python.framework/Versions/3.11/lib/python3.11/site-packages/keras/src/trainers/data_adapters/py_dataset_adapter.py:121: UserWarning: Your `PyDataset` class should call `super().__init__(**kwargs)` in its constructor. `**kwargs` can include `workers`, `use_multiprocessing`, `max_queue_size`. Do not pass these arguments to `fit()`, as they will be ignored.\n",
      "  self._warn_if_super_not_called()\n"
     ]
    },
    {
     "name": "stdout",
     "output_type": "stream",
     "text": [
      "Epoch 1/5\n",
      "\u001b[1m61382/61382\u001b[0m \u001b[32m━━━━━━━━━━━━━━━━━━━━\u001b[0m\u001b[37m\u001b[0m \u001b[1m12391s\u001b[0m 202ms/step - loss: 0.0114 - mae: 0.0114 - val_loss: 0.0074 - val_mae: 0.0074\n",
      "Epoch 2/5\n",
      "\u001b[1m61382/61382\u001b[0m \u001b[32m━━━━━━━━━━━━━━━━━━━━\u001b[0m\u001b[37m\u001b[0m \u001b[1m8272s\u001b[0m 135ms/step - loss: 0.0079 - mae: 0.0079 - val_loss: 0.0075 - val_mae: 0.0075\n",
      "Epoch 3/5\n",
      "\u001b[1m61382/61382\u001b[0m \u001b[32m━━━━━━━━━━━━━━━━━━━━\u001b[0m\u001b[37m\u001b[0m \u001b[1m4981s\u001b[0m 81ms/step - loss: 0.0079 - mae: 0.0079 - val_loss: 0.0075 - val_mae: 0.0075\n",
      "Epoch 4/5\n",
      "\u001b[1m61382/61382\u001b[0m \u001b[32m━━━━━━━━━━━━━━━━━━━━\u001b[0m\u001b[37m\u001b[0m \u001b[1m44352s\u001b[0m 723ms/step - loss: 0.0079 - mae: 0.0079 - val_loss: 0.0074 - val_mae: 0.0074\n",
      "Epoch 5/5\n",
      "\u001b[1m61382/61382\u001b[0m \u001b[32m━━━━━━━━━━━━━━━━━━━━\u001b[0m\u001b[37m\u001b[0m \u001b[1m28528s\u001b[0m 465ms/step - loss: 0.0079 - mae: 0.0079 - val_loss: 0.0075 - val_mae: 0.0075\n"
     ]
    },
    {
     "data": {
      "text/plain": [
       "<keras.src.callbacks.history.History at 0x1461cc0d0>"
      ]
     },
     "execution_count": 43,
     "metadata": {},
     "output_type": "execute_result"
    }
   ],
   "source": [
    "model.fit(train_generator, validation_data=test_generator, epochs=5)"
   ]
  },
  {
   "cell_type": "code",
   "execution_count": 44,
   "metadata": {},
   "outputs": [
    {
     "name": "stdout",
     "output_type": "stream",
     "text": [
      "\u001b[1m61382/61382\u001b[0m \u001b[32m━━━━━━━━━━━━━━━━━━━━\u001b[0m\u001b[37m\u001b[0m \u001b[1m2811s\u001b[0m 46ms/step\n"
     ]
    }
   ],
   "source": [
    "y_train_pred = model.predict(train_generator)  \n",
    "\n",
    "y_train_inverse = scaler_y.inverse_transform(y_train) \n",
    "y_train_pred_inverse = scaler_y.inverse_transform(y_train_pred)"
   ]
  },
  {
   "cell_type": "code",
   "execution_count": 45,
   "metadata": {},
   "outputs": [
    {
     "name": "stdout",
     "output_type": "stream",
     "text": [
      "\u001b[1m20460/20460\u001b[0m \u001b[32m━━━━━━━━━━━━━━━━━━━━\u001b[0m\u001b[37m\u001b[0m \u001b[1m631s\u001b[0m 31ms/step\n"
     ]
    }
   ],
   "source": [
    "y_pred = model.predict(test_generator)\n",
    "\n",
    "# Transform y_test and y_pred back to their original scale\n",
    "y_test_inverse = scaler_y.inverse_transform(y_test)  # Assuming y_test is already in the correct shape\n",
    "y_pred_inverse = scaler_y.inverse_transform(y_pred)"
   ]
  },
  {
   "cell_type": "code",
   "execution_count": 46,
   "metadata": {},
   "outputs": [
    {
     "name": "stdout",
     "output_type": "stream",
     "text": [
      "Training Set Mean Absolute Error: 6.5478053\n"
     ]
    }
   ],
   "source": [
    "y_train_inverse_flat = y_train_inverse[-len(y_train_pred_inverse):].flatten()\n",
    "y_train_pred_inverse_flat = y_train_pred_inverse.flatten()\n",
    "\n",
    "# Calculate the training MAE\n",
    "mae_train = mean_absolute_error(y_train_inverse_flat, y_train_pred_inverse_flat)\n",
    "print(\"Training Set Mean Absolute Error:\", mae_train)"
   ]
  },
  {
   "cell_type": "code",
   "execution_count": 47,
   "metadata": {},
   "outputs": [
    {
     "name": "stdout",
     "output_type": "stream",
     "text": [
      "Test Set Mean Absolute Error: 6.198259\n"
     ]
    }
   ],
   "source": [
    "y_test_inverse_flat = y_test_inverse[-len(y_pred_inverse):].flatten()  # Ensure the same length as y_pred_inverse\n",
    "y_pred_inverse_flat = y_pred_inverse.flatten()\n",
    "\n",
    "# Calculate Mean Absolute Error (MAE)\n",
    "mae = mean_absolute_error(y_test_inverse_flat, y_pred_inverse_flat)\n",
    "print(\"Test Set Mean Absolute Error:\", mae)"
   ]
  },
  {
   "cell_type": "code",
   "execution_count": null,
   "metadata": {},
   "outputs": [],
   "source": []
  }
 ],
 "metadata": {
  "colab": {
   "provenance": []
  },
  "kernelspec": {
   "display_name": "Python 3 (ipykernel)",
   "language": "python",
   "name": "python3"
  },
  "language_info": {
   "codemirror_mode": {
    "name": "ipython",
    "version": 3
   },
   "file_extension": ".py",
   "mimetype": "text/x-python",
   "name": "python",
   "nbconvert_exporter": "python",
   "pygments_lexer": "ipython3",
   "version": "3.11.1"
  }
 },
 "nbformat": 4,
 "nbformat_minor": 4
}
